{
 "cells": [
  {
   "cell_type": "code",
   "execution_count": 62,
   "metadata": {
    "collapsed": true
   },
   "outputs": [],
   "source": [
    "import Bio\n",
    "from Bio.Seq import Seq\n",
    "from Bio import pairwise2\n",
    "from Bio.pairwise2 import format_alignment\n",
    "import numpy as np"
   ]
  },
  {
   "cell_type": "code",
   "execution_count": 39,
   "metadata": {
    "collapsed": true
   },
   "outputs": [],
   "source": [
    "T = Seq('TTTAGACGCATAAAGATGAGACGCTGG')\n",
    "S1 = Seq('TTTATACGCTTAAAGATGAGACGCTGG') # G replaced with T at 5, A with T at 10\n",
    "S2 = Seq('TTTAGCCACGCAGTAAAGATGAGACGCTGG') # CC inserted at 5, G at 10\n",
    "S3 = Seq('TTTAGACATAAAGATGAGACGCTGG') # GC deleted at 10"
   ]
  },
  {
   "cell_type": "code",
   "execution_count": 49,
   "metadata": {},
   "outputs": [
    {
     "data": {
      "text/plain": [
       "[('TTTAG-ACGCAT-AAAGATGAGACGCTGG',\n",
       "  'TTTA-TACGC-TTAAAGATGAGACGCTGG',\n",
       "  25.0,\n",
       "  0,\n",
       "  29),\n",
       " ('TTTAGACGCAT-AAAGATGAGACGCTGG', 'TTTATACGC-TTAAAGATGAGACGCTGG', 25.0, 0, 28),\n",
       " ('TTTAG-ACGCA-TAAAGATGAGACGCTGG',\n",
       "  'TTTA-TACGC-TTAAAGATGAGACGCTGG',\n",
       "  25.0,\n",
       "  0,\n",
       "  29),\n",
       " ('TTTAGACGCA-TAAAGATGAGACGCTGG', 'TTTATACGC-TTAAAGATGAGACGCTGG', 25.0, 0, 28),\n",
       " ('TTTAG-ACGCATAAAGATGAGACGCTGG', 'TTTA-TACGCTTAAAGATGAGACGCTGG', 25.0, 0, 28),\n",
       " ('TTTAGACGCATAAAGATGAGACGCTGG', 'TTTATACGCTTAAAGATGAGACGCTGG', 25.0, 0, 27)]"
      ]
     },
     "execution_count": 49,
     "metadata": {},
     "output_type": "execute_result"
    }
   ],
   "source": [
    "A = pairwise2.align.globalxx(T, S1)\n",
    "A"
   ]
  },
  {
   "cell_type": "code",
   "execution_count": 68,
   "metadata": {},
   "outputs": [
    {
     "name": "stdout",
     "output_type": "stream",
     "text": [
      "TTTAGACGCAT-AAAGATGAGACGCTGG\n",
      "||||.|||| | ||||||||||||||||\n",
      "TTTATACGC-TTAAAGATGAGACGCTGG\n",
      "  Score=25\n",
      "\n"
     ]
    }
   ],
   "source": [
    "\n",
    "a = A[1]\n",
    "print format_alignment(*a)"
   ]
  },
  {
   "cell_type": "code",
   "execution_count": 67,
   "metadata": {},
   "outputs": [
    {
     "name": "stdout",
     "output_type": "stream",
     "text": [
      "TTTAGACGCATAAAGATGAGACGCTGG\n",
      "||||.||||.|||||||||||||||||\n",
      "TTTATACGCTTAAAGATGAGACGCTGG\n",
      "  Score=25\n",
      "\n"
     ]
    }
   ],
   "source": [
    "MM_num = np.sum(np.array(list(T))==np.array(list(S1)))\n",
    "b = (T,S1,MM_num,0,len(T))\n",
    "print format_alignment(*b)"
   ]
  },
  {
   "cell_type": "code",
   "execution_count": 71,
   "metadata": {},
   "outputs": [
    {
     "name": "stdout",
     "output_type": "stream",
     "text": [
      "TTTAGACGCATAAAGATGAGACGCTGG\n",
      "||||.||||.|||||||||||||||||\n",
      "TTTATACGCTTAAAGATGAGACGCTGG\n",
      "  Score=25\n",
      "\n"
     ]
    }
   ],
   "source": [
    "print format_alignment(*b)"
   ]
  },
  {
   "cell_type": "code",
   "execution_count": null,
   "metadata": {
    "collapsed": true
   },
   "outputs": [],
   "source": []
  }
 ],
 "metadata": {
  "kernelspec": {
   "display_name": "Python 2",
   "language": "python",
   "name": "python2"
  },
  "language_info": {
   "codemirror_mode": {
    "name": "ipython",
    "version": 2
   },
   "file_extension": ".py",
   "mimetype": "text/x-python",
   "name": "python",
   "nbconvert_exporter": "python",
   "pygments_lexer": "ipython2",
   "version": "2.7.13"
  }
 },
 "nbformat": 4,
 "nbformat_minor": 1
}
