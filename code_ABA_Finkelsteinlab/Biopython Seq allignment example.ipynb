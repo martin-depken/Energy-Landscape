{
 "cells": [
  {
   "cell_type": "code",
   "execution_count": 14,
   "metadata": {
    "collapsed": true
   },
   "outputs": [],
   "source": [
    "import Bio\n",
    "from Bio.Seq import Seq\n",
    "from Bio import pairwise2\n",
    "from Bio.pairwise2 import format_alignment"
   ]
  },
  {
   "cell_type": "code",
   "execution_count": 23,
   "metadata": {
    "collapsed": true
   },
   "outputs": [],
   "source": [
    "T = Seq('TTTAGACGCATAAAGATGAGACGCTGG')\n",
    "S1 = Seq('TTTATACGCATAAAGATGAGACGCTGG') # G replaced with T at 5\n",
    "S2 = Seq('TTTAGCCACGCAGTAAAGATGAGACGCTGG') # CC inserted at 5, G at 10\n",
    "S3 = Seq('TTTAGACATAAAGATGAGACGCTGG') # GC deleted at 10"
   ]
  },
  {
   "cell_type": "code",
   "execution_count": 24,
   "metadata": {
    "collapsed": false
   },
   "outputs": [
    {
     "data": {
      "text/plain": [
       "[('TTTAGACGCATAAAGATGAGACGCTGG', 'TTTAGA--CATAAAGATGAGACGCTGG', 25.0, 0, 27),\n",
       " ('TTTAGACGCATAAAGATGAGACGCTGG', 'TTTAGAC--ATAAAGATGAGACGCTGG', 25.0, 0, 27)]"
      ]
     },
     "execution_count": 24,
     "metadata": {},
     "output_type": "execute_result"
    }
   ],
   "source": [
    "pairwise2.align.globalxx(T, S3)"
   ]
  },
  {
   "cell_type": "code",
   "execution_count": 25,
   "metadata": {
    "collapsed": false
   },
   "outputs": [
    {
     "name": "stdout",
     "output_type": "stream",
     "text": [
      "TTTAGACGCATAAAGATGAGACGCTGG\n",
      "||||||  |||||||||||||||||||\n",
      "TTTAGA--CATAAAGATGAGACGCTGG\n",
      "  Score=25\n",
      "\n",
      "TTTAGACGCATAAAGATGAGACGCTGG\n",
      "|||||||  ||||||||||||||||||\n",
      "TTTAGAC--ATAAAGATGAGACGCTGG\n",
      "  Score=25\n",
      "\n"
     ]
    }
   ],
   "source": [
    "for a in pairwise2.align.globalxx(T, S3):\n",
    "    print(format_alignment(*a))"
   ]
  },
  {
   "cell_type": "code",
   "execution_count": 22,
   "metadata": {
    "collapsed": false
   },
   "outputs": [
    {
     "data": {
      "text/plain": [
       "'TTTAG--ACGCA-TAAAGATGAGACGCTGG\\n|||||  ||||| |||||||||||||||||\\nTTTAGCCACGCAGTAAAGATGAGACGCTGG\\n  Score=27\\n'"
      ]
     },
     "execution_count": 22,
     "metadata": {},
     "output_type": "execute_result"
    }
   ],
   "source": [
    "format_alignment(*a)"
   ]
  },
  {
   "cell_type": "code",
   "execution_count": null,
   "metadata": {
    "collapsed": true
   },
   "outputs": [],
   "source": []
  }
 ],
 "metadata": {
  "kernelspec": {
   "display_name": "Python 2",
   "language": "python",
   "name": "python2"
  },
  "language_info": {
   "codemirror_mode": {
    "name": "ipython",
    "version": 2
   },
   "file_extension": ".py",
   "mimetype": "text/x-python",
   "name": "python",
   "nbconvert_exporter": "python",
   "pygments_lexer": "ipython2",
   "version": "2.7.13"
  }
 },
 "nbformat": 4,
 "nbformat_minor": 0
}
