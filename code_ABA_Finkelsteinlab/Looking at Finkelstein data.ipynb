{
 "cells": [
  {
   "cell_type": "code",
   "execution_count": 63,
   "metadata": {
    "collapsed": false
   },
   "outputs": [],
   "source": [
    "%matplotlib inline \n",
    "import Calculate_ABA_Flinkelsteinlab as ABA\n",
    "reload(ABA)\n",
    "import pandas as pd\n",
    "import numpy as np\n",
    "import matplotlib.pyplot as plt\n",
    "from difflib import SequenceMatcher\n",
    "\n",
    "import seaborn as sns \n",
    "sns.set_style('ticks');\n",
    "current_color = sns.color_palette();\n",
    "sns.set_palette('Set2');\n",
    "\n",
    "#import plotsettings \n",
    "#publishable = plotsettings.Set('Cell') \n",
    "\n",
    "# Adjust all text and axes colors to black. default is some studip gray that appears to faint when printed \n",
    "from matplotlib import rc , rcParams\n",
    "rc('axes',edgecolor='black')\n",
    "rc('xtick',color='black',labelsize=15)\n",
    "rc('ytick',color='black',labelsize=15)\n",
    "rc('text',color='black')\n",
    "rc('axes',labelcolor='black',linewidth=2.0)\n",
    "rc('font',size=15)\n",
    "#rcParams[\"patch.force_edgecolor\"] = True"
   ]
  },
  {
   "cell_type": "markdown",
   "metadata": {},
   "source": [
    "## Loading the data"
   ]
  },
  {
   "cell_type": "code",
   "execution_count": 64,
   "metadata": {
    "collapsed": true
   },
   "outputs": [],
   "source": [
    "#filename = 'cas9-target-d-replicate-1-delta-abas.txt'\n",
    "filename = 'cas9-target-e-replicate-1-delta-abas.txt'\n",
    "Path = '../data_ABA_Finkelsteinlab/champ-cas9-cas12a-data/'\n",
    "Cas='Cas9'\n",
    "\n",
    "\n",
    "data = pd.read_table(Path+filename, skiprows=3)\n",
    "on_target = (pd.read_table(Path+filename, skiprows=1, nrows=1).columns.values[0]).split(' ')[4]\n",
    "data_name = pd.read_table(Path+filename, nrows=1).columns.values[0][2:]\n",
    "data.rename(columns={'# Sequence': 'Sequence'}, inplace=True)"
   ]
  },
  {
   "cell_type": "markdown",
   "metadata": {},
   "source": [
    "## Data processing"
   ]
  },
  {
   "cell_type": "code",
   "execution_count": 65,
   "metadata": {
    "collapsed": false
   },
   "outputs": [],
   "source": [
    "def separate_PAM(S, Cas='Cas9'):\n",
    "    if Cas == 'Cas9':\n",
    "        PAM_len =3\n",
    "        PAM = S[-PAM_len:]\n",
    "        s = S[0:-PAM_len]\n",
    "    return PAM, s\n",
    "\n",
    "def find_Mutations(S, T, Cas='Cas9'):\n",
    "    PAM, s = separate_PAM(S, Cas)\n",
    "    _, t = separate_PAM(T, Cas)\n",
    "    canonical = False\n",
    "    if PAM[1:]=='GG':\n",
    "        canonical = True\n",
    "    MM = SequenceMatcher(None, t, s).get_opcodes()\n",
    "    for mm in MM:\n",
    "        if mm[0]=='equal':\n",
    "            MM.remove(mm)\n",
    "    return [PAM, canonical, MM]\n",
    "\n",
    "def get_Mut_type(Seq_Analysis):\n",
    "    Muts = Seq_Analysis[2]\n",
    "    Mut_type = list(set(map(lambda x:x[0], Muts)))\n",
    "    return Mut_type\n",
    "\n",
    "        \n",
    "        \n",
    "        "
   ]
  },
  {
   "cell_type": "code",
   "execution_count": 66,
   "metadata": {
    "collapsed": false
   },
   "outputs": [],
   "source": [
    "data['Seq_Analysis'] = data['Sequence'].apply(lambda x: find_Mutations(x, on_target, Cas))\n",
    "data['PAM'] = data['Seq_Analysis'].apply(lambda x:x[0])\n",
    "data['Length_diff'] = data['Sequence'].apply(lambda x: len(x)-len(on_target))\n",
    "data['Canonical PAM'] = data['Seq_Analysis'].apply(lambda x:x[1])\n",
    "data['Mutation_type'] = data['Seq_Analysis'].apply(get_Mut_type)\n",
    "data['Mutation_type'] = data.apply(lambda x: '|'.join(map(lambda y:y[0], \n",
    "                                    x['Mutation_type'])) if x['Length_diff']!=0 else 'r', \n",
    "                                    axis=1)\n"
   ]
  },
  {
   "cell_type": "code",
   "execution_count": 67,
   "metadata": {
    "collapsed": false
   },
   "outputs": [],
   "source": [
    "def find_mismatches(x,on_target, Cas='Cas9'):\n",
    "    '''\n",
    "    This will generate the \"Mutation ID\" for the row x of the dataframe where there is no deletion/insertion.\n",
    "    Input:\n",
    "    x: a row of the data frame\n",
    "    on_target: actual target\n",
    "    Cas: Cas type\n",
    "    '''\n",
    "    \n",
    "    _, s = separate_PAM(x['Sequence'], Cas)\n",
    "    _, t = separate_PAM(on_target, Cas)\n",
    "    positions = np.arange(0,len(t))\n",
    "    MM_pos = list(positions[np.array(list(t))!=np.array(list(s))])\n",
    "    MM_seq = list(np.array(list(s))[MM_pos])\n",
    "    ID_list = []\n",
    "    for n in range(0,len(MM_pos)):\n",
    "        pos_seq = 'r' + ':' + str(MM_pos[n]) + ':' + MM_seq[n]\n",
    "        ID_list.append(pos_seq) \n",
    "    return '|'.join(ID_list)\n",
    "\n",
    "def analyse_mut(mut, s, t):\n",
    "    \n",
    "    '''\n",
    "    This unpacks ONE 5-tuple of the kind which are in the \"Seq_Analysis\" column. \n",
    "    I use this function only when the mutations cannot described purely by replacement.\n",
    "    Input:\n",
    "    mut: 5-tuple resulted from SequenceMatcher(t, s).get_opcodes()\n",
    "    s: mutated target (excluding PAM)\n",
    "    t: perfect target (excluding PAM)\n",
    "    Output:\n",
    "    \"Mutation ID\" string\n",
    "    '''\n",
    "    \n",
    "    mut_type = mut[0][0];\n",
    "    if mut_type == 'r':\n",
    "        mut_pos = range(mut[1],mut[2])\n",
    "        if len(mut_pos) != len(range(mut[3],mut[4])):\n",
    "            ID = 'ud'\n",
    "            return ID\n",
    "        s_list = np.array(list(s))\n",
    "        mut_seq = list(s_list[mut_pos])\n",
    "        ID_list = []\n",
    "        for n in range(0,len(mut_pos)):\n",
    "            pos_seq = mut_type + ':' + str(mut_pos[n]) + ':' + mut_seq[n]\n",
    "            ID_list.append(pos_seq) \n",
    "        ID = '|'.join(ID_list)\n",
    "        return ID\n",
    "    if mut_type == 'i':\n",
    "        mut_pos = range(mut[3],mut[4])\n",
    "        s_list = np.array(list(s))\n",
    "        mut_seq = list(s_list[mut_pos])\n",
    "        ID = mut_type + ':' + str(mut[1]) + ':' + ''.join(mut_seq)\n",
    "        return ID\n",
    "    if mut_type == 'd':\n",
    "        mut_pos = range(mut[1],mut[2])\n",
    "        s_list = np.array(list(t))\n",
    "        mut_seq = list(s_list[mut_pos])\n",
    "        ID = mut_type + ':' + str(mut[1]) + ':' + ''.join(mut_seq)\n",
    "        return ID\n",
    "\n",
    "        \n",
    "def build_Mut_ID(x,on_target, Cas='Cas9'):\n",
    "    '''\n",
    "    This will generate the \"Mutation ID\" for the row x of the dataframe.\n",
    "    Input:\n",
    "    x: a row of the data frame\n",
    "    on_target: actual target\n",
    "    Cas: Cas type\n",
    "    '''\n",
    "    \n",
    "    if x['Length_diff'] == 0:\n",
    "        return find_mismatches(x,on_target, Cas)\n",
    "    _, s = separate_PAM(x['Sequence'], Cas)\n",
    "    _, t = separate_PAM(on_target, Cas)\n",
    "    Muts = x['Seq_Analysis'][2]\n",
    "    ID_list = []\n",
    "    for mut in Muts:\n",
    "        ID = analyse_mut(mut, s, t)\n",
    "        if ID == 'ud':\n",
    "            return 'ud'\n",
    "        ID_list.append(ID)\n",
    "    return '|'.join(ID_list)\n",
    "\n",
    "def find_mismatc_num(x,on_target, Cas='Cas9'):\n",
    "    '''\n",
    "    This will find the mismatch number for the row x of the dataframe where there is no deletion/insertion.\n",
    "    Otherwie it gives nan.\n",
    "    Input:\n",
    "    x: a row of the data frame\n",
    "    on_target: actual target\n",
    "    Cas: Cas type\n",
    "    '''\n",
    "    if x['Length_diff'] != 0:\n",
    "        return np.nan\n",
    "    _, s = separate_PAM(x['Sequence'], Cas)\n",
    "    _, t = separate_PAM(on_target, Cas)\n",
    "    positions = np.arange(0,len(t))\n",
    "    MM_num = int(np.sum(np.array(list(t))!=np.array(list(s))))\n",
    "    return MM_num"
   ]
  },
  {
   "cell_type": "code",
   "execution_count": 68,
   "metadata": {
    "collapsed": false
   },
   "outputs": [],
   "source": [
    "data['Mut_ID'] = data.apply(lambda x: build_Mut_ID(x,on_target, Cas), axis=1)\n",
    "data['MM_num'] = data.apply(lambda x: find_mismatc_num(x,on_target, Cas), axis=1)\n",
    "data['on_target'] = data['Sequence'] == on_target\n",
    "data = data[['Sequence','on_target','PAM','Canonical PAM','Length_diff','Mutation_type','Mut_ID','MM_num','Delta ABA (kBT)','Uncertainty']]"
   ]
  },
  {
   "cell_type": "code",
   "execution_count": 69,
   "metadata": {
    "collapsed": false,
    "scrolled": true
   },
   "outputs": [
    {
     "data": {
      "text/html": [
       "<div>\n",
       "<table border=\"1\" class=\"dataframe\">\n",
       "  <thead>\n",
       "    <tr style=\"text-align: right;\">\n",
       "      <th></th>\n",
       "      <th>Sequence</th>\n",
       "      <th>on_target</th>\n",
       "      <th>PAM</th>\n",
       "      <th>Canonical PAM</th>\n",
       "      <th>Length_diff</th>\n",
       "      <th>Mutation_type</th>\n",
       "      <th>Mut_ID</th>\n",
       "      <th>MM_num</th>\n",
       "      <th>Delta ABA (kBT)</th>\n",
       "      <th>Uncertainty</th>\n",
       "    </tr>\n",
       "  </thead>\n",
       "  <tbody>\n",
       "    <tr>\n",
       "      <th>0</th>\n",
       "      <td>TTTAGACCCATAAAGATAAGACGCTGG</td>\n",
       "      <td>False</td>\n",
       "      <td>TGG</td>\n",
       "      <td>True</td>\n",
       "      <td>0</td>\n",
       "      <td>r</td>\n",
       "      <td>r:7:C|r:17:A</td>\n",
       "      <td>2.0</td>\n",
       "      <td>2.127065</td>\n",
       "      <td>0.042464</td>\n",
       "    </tr>\n",
       "    <tr>\n",
       "      <th>1</th>\n",
       "      <td>TTTAGACGCTTAAAGATGAGAGGCTGG</td>\n",
       "      <td>False</td>\n",
       "      <td>TGG</td>\n",
       "      <td>True</td>\n",
       "      <td>0</td>\n",
       "      <td>r</td>\n",
       "      <td>r:9:T|r:21:G</td>\n",
       "      <td>2.0</td>\n",
       "      <td>2.611770</td>\n",
       "      <td>0.039588</td>\n",
       "    </tr>\n",
       "    <tr>\n",
       "      <th>2</th>\n",
       "      <td>TTTAGGAACGCATAAAGATGAGACGCTGG</td>\n",
       "      <td>False</td>\n",
       "      <td>TGG</td>\n",
       "      <td>True</td>\n",
       "      <td>2</td>\n",
       "      <td>i</td>\n",
       "      <td>i:5:GA</td>\n",
       "      <td>NaN</td>\n",
       "      <td>-0.325618</td>\n",
       "      <td>0.050050</td>\n",
       "    </tr>\n",
       "    <tr>\n",
       "      <th>3</th>\n",
       "      <td>TTTGACGCTAAAGATGAGACGCTGG</td>\n",
       "      <td>False</td>\n",
       "      <td>TGG</td>\n",
       "      <td>True</td>\n",
       "      <td>-2</td>\n",
       "      <td>d</td>\n",
       "      <td>d:3:A|d:9:A</td>\n",
       "      <td>NaN</td>\n",
       "      <td>0.250845</td>\n",
       "      <td>0.061186</td>\n",
       "    </tr>\n",
       "    <tr>\n",
       "      <th>4</th>\n",
       "      <td>TTTAGACGCATTAGGATGAGACGCTGG</td>\n",
       "      <td>False</td>\n",
       "      <td>TGG</td>\n",
       "      <td>True</td>\n",
       "      <td>0</td>\n",
       "      <td>r</td>\n",
       "      <td>r:11:T|r:13:G</td>\n",
       "      <td>2.0</td>\n",
       "      <td>1.330186</td>\n",
       "      <td>0.046995</td>\n",
       "    </tr>\n",
       "  </tbody>\n",
       "</table>\n",
       "</div>"
      ],
      "text/plain": [
       "                        Sequence on_target  PAM Canonical PAM  Length_diff  \\\n",
       "0    TTTAGACCCATAAAGATAAGACGCTGG     False  TGG          True            0   \n",
       "1    TTTAGACGCTTAAAGATGAGAGGCTGG     False  TGG          True            0   \n",
       "2  TTTAGGAACGCATAAAGATGAGACGCTGG     False  TGG          True            2   \n",
       "3      TTTGACGCTAAAGATGAGACGCTGG     False  TGG          True           -2   \n",
       "4    TTTAGACGCATTAGGATGAGACGCTGG     False  TGG          True            0   \n",
       "\n",
       "  Mutation_type         Mut_ID  MM_num  Delta ABA (kBT)  Uncertainty  \n",
       "0             r   r:7:C|r:17:A     2.0         2.127065     0.042464  \n",
       "1             r   r:9:T|r:21:G     2.0         2.611770     0.039588  \n",
       "2             i         i:5:GA     NaN        -0.325618     0.050050  \n",
       "3             d    d:3:A|d:9:A     NaN         0.250845     0.061186  \n",
       "4             r  r:11:T|r:13:G     2.0         1.330186     0.046995  "
      ]
     },
     "execution_count": 69,
     "metadata": {},
     "output_type": "execute_result"
    }
   ],
   "source": [
    "output_filename = filename.split('.')[0]+'-'+'processed'+'.csv'\n",
    "data.to_csv(Path+output_filename, index=False)\n",
    "data.head()"
   ]
  },
  {
   "cell_type": "markdown",
   "metadata": {},
   "source": [
    "## Single mismatches"
   ]
  },
  {
   "cell_type": "code",
   "execution_count": 70,
   "metadata": {
    "collapsed": false
   },
   "outputs": [
    {
     "data": {
      "text/html": [
       "<div>\n",
       "<table border=\"1\" class=\"dataframe\">\n",
       "  <thead>\n",
       "    <tr style=\"text-align: right;\">\n",
       "      <th></th>\n",
       "      <th>Mut_ID</th>\n",
       "      <th>Delta ABA (kBT)</th>\n",
       "      <th>Uncertainty</th>\n",
       "      <th>MM_pos</th>\n",
       "    </tr>\n",
       "  </thead>\n",
       "  <tbody>\n",
       "    <tr>\n",
       "      <th>37</th>\n",
       "      <td>r:20:G</td>\n",
       "      <td>2.312526</td>\n",
       "      <td>0.035926</td>\n",
       "      <td>20</td>\n",
       "    </tr>\n",
       "    <tr>\n",
       "      <th>42</th>\n",
       "      <td>r:0:G</td>\n",
       "      <td>0.057772</td>\n",
       "      <td>0.028894</td>\n",
       "      <td>0</td>\n",
       "    </tr>\n",
       "    <tr>\n",
       "      <th>91</th>\n",
       "      <td>r:6:T</td>\n",
       "      <td>-0.254749</td>\n",
       "      <td>0.065941</td>\n",
       "      <td>6</td>\n",
       "    </tr>\n",
       "    <tr>\n",
       "      <th>104</th>\n",
       "      <td>r:16:G</td>\n",
       "      <td>1.320001</td>\n",
       "      <td>0.065184</td>\n",
       "      <td>16</td>\n",
       "    </tr>\n",
       "    <tr>\n",
       "      <th>114</th>\n",
       "      <td>r:17:A</td>\n",
       "      <td>0.810755</td>\n",
       "      <td>0.056585</td>\n",
       "      <td>17</td>\n",
       "    </tr>\n",
       "  </tbody>\n",
       "</table>\n",
       "</div>"
      ],
      "text/plain": [
       "     Mut_ID  Delta ABA (kBT)  Uncertainty MM_pos\n",
       "37   r:20:G         2.312526     0.035926     20\n",
       "42    r:0:G         0.057772     0.028894      0\n",
       "91    r:6:T        -0.254749     0.065941      6\n",
       "104  r:16:G         1.320001     0.065184     16\n",
       "114  r:17:A         0.810755     0.056585     17"
      ]
     },
     "execution_count": 70,
     "metadata": {},
     "output_type": "execute_result"
    }
   ],
   "source": [
    "single_MM_data = data[(data['MM_num']==1)&(data['Canonical PAM']==True)].copy()\n",
    "single_MM_data = single_MM_data[['Mut_ID', 'Delta ABA (kBT)', 'Uncertainty']]\n",
    "single_MM_data['MM_pos'] = single_MM_data['Mut_ID'].apply(lambda x: x.split(':')[1])\n",
    "single_MM_data.head()"
   ]
  },
  {
   "cell_type": "code",
   "execution_count": 71,
   "metadata": {
    "collapsed": false
   },
   "outputs": [
    {
     "data": {
      "text/html": [
       "<div>\n",
       "<table border=\"1\" class=\"dataframe\">\n",
       "  <thead>\n",
       "    <tr style=\"text-align: right;\">\n",
       "      <th></th>\n",
       "      <th>MM_pos</th>\n",
       "      <th>Delta ABA (kBT)</th>\n",
       "      <th>Uncertainty</th>\n",
       "    </tr>\n",
       "  </thead>\n",
       "  <tbody>\n",
       "    <tr>\n",
       "      <th>20</th>\n",
       "      <td>6</td>\n",
       "      <td>-0.155049</td>\n",
       "      <td>0.063433</td>\n",
       "    </tr>\n",
       "    <tr>\n",
       "      <th>19</th>\n",
       "      <td>5</td>\n",
       "      <td>-0.120843</td>\n",
       "      <td>0.070773</td>\n",
       "    </tr>\n",
       "    <tr>\n",
       "      <th>18</th>\n",
       "      <td>4</td>\n",
       "      <td>-0.112212</td>\n",
       "      <td>0.066128</td>\n",
       "    </tr>\n",
       "    <tr>\n",
       "      <th>21</th>\n",
       "      <td>7</td>\n",
       "      <td>-0.096608</td>\n",
       "      <td>0.067254</td>\n",
       "    </tr>\n",
       "    <tr>\n",
       "      <th>17</th>\n",
       "      <td>3</td>\n",
       "      <td>-0.037757</td>\n",
       "      <td>0.079326</td>\n",
       "    </tr>\n",
       "  </tbody>\n",
       "</table>\n",
       "</div>"
      ],
      "text/plain": [
       "    MM_pos  Delta ABA (kBT)  Uncertainty\n",
       "20       6        -0.155049     0.063433\n",
       "19       5        -0.120843     0.070773\n",
       "18       4        -0.112212     0.066128\n",
       "21       7        -0.096608     0.067254\n",
       "17       3        -0.037757     0.079326"
      ]
     },
     "execution_count": 71,
     "metadata": {},
     "output_type": "execute_result"
    }
   ],
   "source": [
    "mean_single_MM_data = single_MM_data[['MM_pos','Delta ABA (kBT)','Uncertainty']].groupby('MM_pos').mean().reset_index()\n",
    "mean_single_MM_data['MM_pos'] = mean_single_MM_data['MM_pos'].astype(int)\n",
    "mean_single_MM_data.sort_values('MM_pos',inplace=True,ascending=False)\n",
    "mean_single_MM_data.sort_values('Delta ABA (kBT)').head()\n"
   ]
  },
  {
   "cell_type": "code",
   "execution_count": 98,
   "metadata": {
    "collapsed": false
   },
   "outputs": [
    {
     "data": {
      "text/plain": [
       "<matplotlib.text.Text at 0xfbd3198>"
      ]
     },
     "execution_count": 98,
     "metadata": {},
     "output_type": "execute_result"
    },
    {
     "data": {
      "image/png": "[encoded data removed]",
      "text/plain": [
       "<matplotlib.figure.Figure at 0xf951e48>"
      ]
     },
     "metadata": {},
     "output_type": "display_data"
    }
   ],
   "source": [
    "mean_single_MM_data.plot(x='MM_pos', y='Delta ABA (kBT)',yerr='Uncertainty', marker='o', linewidth=1, color='blue') \n",
    "plt.xticks([i for i in range(24)], \n",
    "           ['','','','',20,'','','',15,'','','','',10,'','','','',5,'','','','',1], rotation=0);\n",
    "plt.xlabel('mismatch postion', fontsize=15)\n",
    "plt.ylabel('$\\Delta$ABA', fontsize=15)\n",
    "plt.title('$\\Delta$ABA '+data_name,fontsize=15)"
   ]
  },
  {
   "cell_type": "markdown",
   "metadata": {},
   "source": [
    "## Double mismatches"
   ]
  },
  {
   "cell_type": "code",
   "execution_count": 73,
   "metadata": {
    "collapsed": false
   },
   "outputs": [
    {
     "data": {
      "text/html": [
       "<div>\n",
       "<table border=\"1\" class=\"dataframe\">\n",
       "  <thead>\n",
       "    <tr style=\"text-align: right;\">\n",
       "      <th></th>\n",
       "      <th>Mut_ID</th>\n",
       "      <th>Delta ABA (kBT)</th>\n",
       "      <th>Uncertainty</th>\n",
       "      <th>MM_pos</th>\n",
       "    </tr>\n",
       "  </thead>\n",
       "  <tbody>\n",
       "    <tr>\n",
       "      <th>0</th>\n",
       "      <td>r:7:C|r:17:A</td>\n",
       "      <td>2.127065</td>\n",
       "      <td>0.042464</td>\n",
       "      <td>7:17</td>\n",
       "    </tr>\n",
       "    <tr>\n",
       "      <th>1</th>\n",
       "      <td>r:9:T|r:21:G</td>\n",
       "      <td>2.611770</td>\n",
       "      <td>0.039588</td>\n",
       "      <td>9:21</td>\n",
       "    </tr>\n",
       "    <tr>\n",
       "      <th>4</th>\n",
       "      <td>r:11:T|r:13:G</td>\n",
       "      <td>1.330186</td>\n",
       "      <td>0.046995</td>\n",
       "      <td>11:13</td>\n",
       "    </tr>\n",
       "    <tr>\n",
       "      <th>10</th>\n",
       "      <td>r:5:G|r:18:G</td>\n",
       "      <td>1.706772</td>\n",
       "      <td>0.044205</td>\n",
       "      <td>5:18</td>\n",
       "    </tr>\n",
       "    <tr>\n",
       "      <th>15</th>\n",
       "      <td>r:14:C|r:19:C</td>\n",
       "      <td>2.612995</td>\n",
       "      <td>0.048553</td>\n",
       "      <td>14:19</td>\n",
       "    </tr>\n",
       "  </tbody>\n",
       "</table>\n",
       "</div>"
      ],
      "text/plain": [
       "           Mut_ID  Delta ABA (kBT)  Uncertainty MM_pos\n",
       "0    r:7:C|r:17:A         2.127065     0.042464   7:17\n",
       "1    r:9:T|r:21:G         2.611770     0.039588   9:21\n",
       "4   r:11:T|r:13:G         1.330186     0.046995  11:13\n",
       "10   r:5:G|r:18:G         1.706772     0.044205   5:18\n",
       "15  r:14:C|r:19:C         2.612995     0.048553  14:19"
      ]
     },
     "execution_count": 73,
     "metadata": {},
     "output_type": "execute_result"
    }
   ],
   "source": [
    "double_MM_data = data[(data['Canonical PAM'] == True) & (data['MM_num'] == 2)].copy()\n",
    "double_MM_data = double_MM_data[['Mut_ID', 'Delta ABA (kBT)', 'Uncertainty']]\n",
    "double_MM_data['MM_pos'] = double_MM_data['Mut_ID'].apply(lambda x: ':'.join(map(lambda y: y.split(':')[1],x.split('|'))))\n",
    "double_MM_data.head()"
   ]
  },
  {
   "cell_type": "code",
   "execution_count": 74,
   "metadata": {
    "collapsed": false
   },
   "outputs": [
    {
     "data": {
      "text/html": [
       "<div>\n",
       "<table border=\"1\" class=\"dataframe\">\n",
       "  <thead>\n",
       "    <tr style=\"text-align: right;\">\n",
       "      <th></th>\n",
       "      <th>MM_pos</th>\n",
       "      <th>Delta ABA (kBT)</th>\n",
       "      <th>Uncertainty</th>\n",
       "    </tr>\n",
       "  </thead>\n",
       "  <tbody>\n",
       "    <tr>\n",
       "      <th>191</th>\n",
       "      <td>4:5</td>\n",
       "      <td>-0.164717</td>\n",
       "      <td>0.066408</td>\n",
       "    </tr>\n",
       "    <tr>\n",
       "      <th>192</th>\n",
       "      <td>4:6</td>\n",
       "      <td>-0.135857</td>\n",
       "      <td>0.063174</td>\n",
       "    </tr>\n",
       "    <tr>\n",
       "      <th>171</th>\n",
       "      <td>3:4</td>\n",
       "      <td>-0.125972</td>\n",
       "      <td>0.075163</td>\n",
       "    </tr>\n",
       "    <tr>\n",
       "      <th>173</th>\n",
       "      <td>3:6</td>\n",
       "      <td>-0.109376</td>\n",
       "      <td>0.065312</td>\n",
       "    </tr>\n",
       "    <tr>\n",
       "      <th>151</th>\n",
       "      <td>2:4</td>\n",
       "      <td>-0.108586</td>\n",
       "      <td>0.068470</td>\n",
       "    </tr>\n",
       "  </tbody>\n",
       "</table>\n",
       "</div>"
      ],
      "text/plain": [
       "    MM_pos  Delta ABA (kBT)  Uncertainty\n",
       "191    4:5        -0.164717     0.066408\n",
       "192    4:6        -0.135857     0.063174\n",
       "171    3:4        -0.125972     0.075163\n",
       "173    3:6        -0.109376     0.065312\n",
       "151    2:4        -0.108586     0.068470"
      ]
     },
     "execution_count": 74,
     "metadata": {},
     "output_type": "execute_result"
    }
   ],
   "source": [
    "mean_double_MM_data = double_MM_data[['MM_pos','Delta ABA (kBT)','Uncertainty']].groupby('MM_pos').mean().reset_index()\n",
    "mean_double_MM_data.sort_values('Delta ABA (kBT)').head()"
   ]
  },
  {
   "cell_type": "code",
   "execution_count": 75,
   "metadata": {
    "collapsed": true
   },
   "outputs": [],
   "source": [
    "PAM_len = len(data['PAM'].iloc[0])\n",
    "L = len(on_target)-PAM_len\n",
    "double_MM_map = np.empty((L,L))\n",
    "double_MM_map[:] = np.nan\n",
    "for i in range(0,L):\n",
    "    for j in range(i,L):\n",
    "        if j>i:\n",
    "            ID = str(i) + ':' + str(j)\n",
    "            double_MM_map[i,j] = mean_double_MM_data[mean_double_MM_data['MM_pos']==ID]['Delta ABA (kBT)']\n",
    "            double_MM_map[j,i] = mean_double_MM_data[mean_double_MM_data['MM_pos']==ID]['Delta ABA (kBT)']\n",
    "        else:\n",
    "            double_MM_map[i,i] = mean_single_MM_data[mean_single_MM_data['MM_pos']==i]['Delta ABA (kBT)']"
   ]
  },
  {
   "cell_type": "markdown",
   "metadata": {},
   "source": [
    "### The tiles on the diagonal correspond to single mismatches."
   ]
  },
  {
   "cell_type": "code",
   "execution_count": 76,
   "metadata": {
    "collapsed": false
   },
   "outputs": [
    {
     "data": {
      "text/plain": [
       "<matplotlib.text.Text at 0xcdb0710>"
      ]
     },
     "execution_count": 76,
     "metadata": {},
     "output_type": "execute_result"
    },
    {
     "data": {
      "image/png": "[encoded data removed]",
      "text/plain": [
       "<matplotlib.figure.Figure at 0xcf24320>"
      ]
     },
     "metadata": {},
     "output_type": "display_data"
    }
   ],
   "source": [
    "sns.heatmap(double_MM_map, cmap='coolwarm',cbar=True)\n",
    "ax = plt.gca()\n",
    "ax.xaxis.set_ticks_position('bottom')\n",
    "plt.xticks([i+0.5 for i in range(24)], \n",
    "           ['','','','',20,'','','',15,'','','','',10,'','','','',5,'','','','',1], rotation=0);\n",
    "plt.yticks([i+0.5 for i in range(24)], \n",
    "           ['','','','',20,'','','',15,'','','','',10,'','','','',5,'','','','',1], rotation=0);\n",
    "plt.xlabel('mismatch postion 1', fontsize=15)\n",
    "plt.ylabel('mismatch position 2', fontsize=15)\n",
    "plt.title('$\\Delta$ABA '+data_name,fontsize=15)"
   ]
  },
  {
   "cell_type": "markdown",
   "metadata": {
    "collapsed": true
   },
   "source": [
    "## Blocks of mismatches"
   ]
  },
  {
   "cell_type": "code",
   "execution_count": 87,
   "metadata": {
    "collapsed": false
   },
   "outputs": [],
   "source": [
    "def make_block_ID(x):\n",
    "    MM_pos_array = np.array(map(int, map(lambda y: y.split(':')[1], x.split('|'))))\n",
    "    bi = MM_pos_array[-1]\n",
    "    bf = MM_pos_array[0]\n",
    "    if len(MM_pos_array)!=len(np.arange(bf,bi+1)):\n",
    "        return 'no block'\n",
    "    if np.any(MM_pos_array == np.arange(bf,bi+1)):\n",
    "        block_ID = str(bi) + ':' + str(bf)\n",
    "    else:\n",
    "        block_ID = 'no block'\n",
    "    return(block_ID)"
   ]
  },
  {
   "cell_type": "code",
   "execution_count": 88,
   "metadata": {
    "collapsed": false
   },
   "outputs": [
    {
     "data": {
      "text/html": [
       "<div>\n",
       "<table border=\"1\" class=\"dataframe\">\n",
       "  <thead>\n",
       "    <tr style=\"text-align: right;\">\n",
       "      <th></th>\n",
       "      <th>Block_ID</th>\n",
       "      <th>MM_num</th>\n",
       "      <th>Delta ABA (kBT)</th>\n",
       "      <th>Uncertainty</th>\n",
       "    </tr>\n",
       "  </thead>\n",
       "  <tbody>\n",
       "    <tr>\n",
       "      <th>2893</th>\n",
       "      <td>10:8</td>\n",
       "      <td>3</td>\n",
       "      <td>0.575117</td>\n",
       "      <td>0.049060</td>\n",
       "    </tr>\n",
       "    <tr>\n",
       "      <th>3556</th>\n",
       "      <td>11:9</td>\n",
       "      <td>3</td>\n",
       "      <td>0.170064</td>\n",
       "      <td>0.062187</td>\n",
       "    </tr>\n",
       "    <tr>\n",
       "      <th>6252</th>\n",
       "      <td>12:10</td>\n",
       "      <td>3</td>\n",
       "      <td>0.868284</td>\n",
       "      <td>0.052884</td>\n",
       "    </tr>\n",
       "    <tr>\n",
       "      <th>2596</th>\n",
       "      <td>13:11</td>\n",
       "      <td>3</td>\n",
       "      <td>1.740295</td>\n",
       "      <td>0.054038</td>\n",
       "    </tr>\n",
       "    <tr>\n",
       "      <th>4276</th>\n",
       "      <td>14:12</td>\n",
       "      <td>3</td>\n",
       "      <td>2.350633</td>\n",
       "      <td>0.042771</td>\n",
       "    </tr>\n",
       "  </tbody>\n",
       "</table>\n",
       "</div>"
      ],
      "text/plain": [
       "     Block_ID  MM_num  Delta ABA (kBT)  Uncertainty\n",
       "2893     10:8       3         0.575117     0.049060\n",
       "3556     11:9       3         0.170064     0.062187\n",
       "6252    12:10       3         0.868284     0.052884\n",
       "2596    13:11       3         1.740295     0.054038\n",
       "4276    14:12       3         2.350633     0.042771"
      ]
     },
     "execution_count": 88,
     "metadata": {},
     "output_type": "execute_result"
    }
   ],
   "source": [
    "multi_MM_data = data[(data['Canonical PAM'] == True) & (data['MM_num'] > 2)].copy()\n",
    "multi_MM_data = multi_MM_data[['Mut_ID', 'Delta ABA (kBT)', 'Uncertainty', 'MM_num']]\n",
    "multi_MM_data['MM_num'] = multi_MM_data['MM_num'].astype(int)\n",
    "multi_MM_data['Block_ID'] = multi_MM_data['Mut_ID'].apply(make_block_ID)\n",
    "multi_MM_data = multi_MM_data[multi_MM_data['Block_ID']!='no block']\n",
    "multi_MM_data.drop('Mut_ID', inplace=True, axis=1)\n",
    "multi_MM_data = multi_MM_data[['Block_ID', 'MM_num', 'Delta ABA (kBT)', 'Uncertainty']]\n",
    "multi_MM_data.sort_values(['MM_num', 'Block_ID']).head()"
   ]
  },
  {
   "cell_type": "code",
   "execution_count": 89,
   "metadata": {
    "collapsed": false
   },
   "outputs": [
    {
     "data": {
      "text/html": [
       "<div>\n",
       "<table border=\"1\" class=\"dataframe\">\n",
       "  <thead>\n",
       "    <tr style=\"text-align: right;\">\n",
       "      <th></th>\n",
       "      <th>Block_ID</th>\n",
       "      <th>MM_num</th>\n",
       "      <th>Delta ABA (kBT)</th>\n",
       "      <th>Uncertainty</th>\n",
       "    </tr>\n",
       "  </thead>\n",
       "  <tbody>\n",
       "    <tr>\n",
       "      <th>226</th>\n",
       "      <td>5:3</td>\n",
       "      <td>3</td>\n",
       "      <td>-0.195531</td>\n",
       "      <td>0.074529</td>\n",
       "    </tr>\n",
       "    <tr>\n",
       "      <th>230</th>\n",
       "      <td>6:3</td>\n",
       "      <td>4</td>\n",
       "      <td>-0.131571</td>\n",
       "      <td>0.069257</td>\n",
       "    </tr>\n",
       "    <tr>\n",
       "      <th>220</th>\n",
       "      <td>4:0</td>\n",
       "      <td>5</td>\n",
       "      <td>-0.131412</td>\n",
       "      <td>0.073096</td>\n",
       "    </tr>\n",
       "    <tr>\n",
       "      <th>231</th>\n",
       "      <td>6:4</td>\n",
       "      <td>3</td>\n",
       "      <td>-0.126871</td>\n",
       "      <td>0.071953</td>\n",
       "    </tr>\n",
       "    <tr>\n",
       "      <th>217</th>\n",
       "      <td>2:0</td>\n",
       "      <td>3</td>\n",
       "      <td>-0.121044</td>\n",
       "      <td>0.074571</td>\n",
       "    </tr>\n",
       "  </tbody>\n",
       "</table>\n",
       "</div>"
      ],
      "text/plain": [
       "    Block_ID  MM_num  Delta ABA (kBT)  Uncertainty\n",
       "226      5:3       3        -0.195531     0.074529\n",
       "230      6:3       4        -0.131571     0.069257\n",
       "220      4:0       5        -0.131412     0.073096\n",
       "231      6:4       3        -0.126871     0.071953\n",
       "217      2:0       3        -0.121044     0.074571"
      ]
     },
     "execution_count": 89,
     "metadata": {},
     "output_type": "execute_result"
    }
   ],
   "source": [
    "mean_multi_MM_data = multi_MM_data.groupby('Block_ID').mean().reset_index()\n",
    "mean_multi_MM_data.sort_values('Delta ABA (kBT)').head()"
   ]
  },
  {
   "cell_type": "code",
   "execution_count": 90,
   "metadata": {
    "collapsed": false
   },
   "outputs": [],
   "source": [
    "block_MM_map = np.empty((L,L))\n",
    "block_MM_map[:] = np.nan\n",
    "ID_list = list(multi_MM_data['Block_ID'])\n",
    "for i in range(0,L):\n",
    "    for j in range(0,i):\n",
    "        ID = str(i) + ':' + str(j)\n",
    "        if ID in ID_list:\n",
    "            block_MM_map[i,j] = mean_multi_MM_data[mean_multi_MM_data['Block_ID']==ID]['Delta ABA (kBT)']\n",
    "            "
   ]
  },
  {
   "cell_type": "code",
   "execution_count": 95,
   "metadata": {
    "collapsed": false
   },
   "outputs": [
    {
     "data": {
      "text/plain": [
       "<matplotlib.text.Text at 0xefb1198>"
      ]
     },
     "execution_count": 95,
     "metadata": {},
     "output_type": "execute_result"
    },
    {
     "data": {
      "image/png": "[encoded data removed]",
      "text/plain": [
       "<matplotlib.figure.Figure at 0xecdf978>"
      ]
     },
     "metadata": {},
     "output_type": "display_data"
    }
   ],
   "source": [
    "sns.heatmap(block_MM_map, cmap='coolwarm',cbar=True)\n",
    "plt.xticks([i+0.5 for i in range(24)], \n",
    "          ['','','','',20,'','','',15,'','','','',10,'','','','',5,'','','','',1], rotation=0);\n",
    "plt.yticks([i+0.5 for i in range(24)], \n",
    "           ['','','','',20,'','','',15,'','','','',10,'','','','',5,'','','','',1], rotation=0);\n",
    "plt.xlabel('block end', fontsize=15)\n",
    "plt.ylabel('block start', fontsize=15)\n",
    "plt.title('$\\Delta$ABA '+data_name,fontsize=15)"
   ]
  },
  {
   "cell_type": "code",
   "execution_count": 82,
   "metadata": {
    "collapsed": false,
    "scrolled": true
   },
   "outputs": [
    {
     "data": {
      "text/plain": [
       "[('delete', 0, 4, 0, 0), ('equal', 4, 27, 0, 23)]"
      ]
     },
     "execution_count": 82,
     "metadata": {},
     "output_type": "execute_result"
    }
   ],
   "source": [
    "Boyle_seq = 'GACGCATAAAGATGAGACGCTGG'\n",
    "SequenceMatcher(None, on_target, Boyle_seq).get_opcodes()"
   ]
  },
  {
   "cell_type": "code",
   "execution_count": null,
   "metadata": {
    "collapsed": false
   },
   "outputs": [],
   "source": []
  },
  {
   "cell_type": "code",
   "execution_count": null,
   "metadata": {
    "collapsed": false
   },
   "outputs": [],
   "source": []
  },
  {
   "cell_type": "code",
   "execution_count": null,
   "metadata": {
    "collapsed": true
   },
   "outputs": [],
   "source": []
  }
 ],
 "metadata": {
  "kernelspec": {
   "display_name": "Python 2",
   "language": "python",
   "name": "python2"
  },
  "language_info": {
   "codemirror_mode": {
    "name": "ipython",
    "version": 2
   },
   "file_extension": ".py",
   "mimetype": "text/x-python",
   "name": "python",
   "nbconvert_exporter": "python",
   "pygments_lexer": "ipython2",
   "version": "2.7.13"
  }
 },
 "nbformat": 4,
 "nbformat_minor": 1
}
