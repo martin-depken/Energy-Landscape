{
 "cells": [
  {
   "cell_type": "code",
   "execution_count": 37,
   "metadata": {
    "collapsed": false
   },
   "outputs": [],
   "source": [
    "import numpy as np \n",
    "import pandas as pd\n",
    "import Bio\n",
    "from Bio.pairwise2 import format_alignment\n",
    "import copy\n",
    "import Process_SeqLibrary_Finkelsteinlab as preprocess\n",
    "reload(preprocess);\n",
    "import plotting_Finkelsteinlab as pltData\n",
    "reload(pltData);\n",
    "%matplotlib inline \n",
    "import matplotlib.pylab as plt "
   ]
  },
  {
   "cell_type": "markdown",
   "metadata": {},
   "source": [
    "### Nucleaseq Cas9 Target E"
   ]
  },
  {
   "cell_type": "code",
   "execution_count": 2,
   "metadata": {
    "collapsed": true
   },
   "outputs": [],
   "source": [
    "filename = 'ECas9_cleavage_rate_and_y0.txt'\n",
    "Path = '../data_nucleaseq_Finkelsteinlab/targetE/'\n",
    "data = pd.read_table(Path+filename, usecols=['target', 'cleavage_rate', 'cleavage_rate_5th_pctl', 'cleavage_rate_95th_pctl'])\n",
    "data.rename(columns={'target':'Sequence'}, inplace=True)"
   ]
  },
  {
   "cell_type": "code",
   "execution_count": 3,
   "metadata": {
    "collapsed": true
   },
   "outputs": [],
   "source": [
    "## Arguments\n",
    "Cas='Cas9'\n",
    "on_target = 'TTTAGACGCATAAAGATGAGACGCTGG'\n",
    "seq_colname = 'Sequence'\n",
    "output_colnames = ['cleavage_rate', 'cleavage_rate_5th_pctl', 'cleavage_rate_95th_pctl']\n",
    "Canonical_PAM = True\n",
    "Mut_type = ['OT','r']\n",
    "Mut_min = 0\n",
    "Mut_max = 2\n",
    "out_file_name = filename.split('.')[0]\n",
    "out_path = '../data_nucleaseq_Finkelsteinlab/targetE/'"
   ]
  },
  {
   "cell_type": "code",
   "execution_count": 4,
   "metadata": {
    "collapsed": false
   },
   "outputs": [],
   "source": [
    "new_data = preprocess.process_Finkelstein_Library(data, on_target, seq_colname, output_colnames, Cas, \n",
    "                                                  Canonical_PAM = True, Mut_type = ['OT','r'], Mut_min = 0, Mut_max = 2,\n",
    "                                                  out_file_name = out_file_name, out_path = out_path, nofilter = False,\n",
    "                                                  save_data = True)\n"
   ]
  },
  {
   "cell_type": "code",
   "execution_count": 5,
   "metadata": {
    "collapsed": false
   },
   "outputs": [
    {
     "data": {
      "text/html": [
       "<div>\n",
       "<style scoped>\n",
       "    .dataframe tbody tr th:only-of-type {\n",
       "        vertical-align: middle;\n",
       "    }\n",
       "\n",
       "    .dataframe tbody tr th {\n",
       "        vertical-align: top;\n",
       "    }\n",
       "\n",
       "    .dataframe thead th {\n",
       "        text-align: right;\n",
       "    }\n",
       "</style>\n",
       "<table border=\"1\" class=\"dataframe\">\n",
       "  <thead>\n",
       "    <tr style=\"text-align: right;\">\n",
       "      <th></th>\n",
       "      <th>Sequence</th>\n",
       "      <th>cleavage_rate</th>\n",
       "      <th>cleavage_rate_5th_pctl</th>\n",
       "      <th>cleavage_rate_95th_pctl</th>\n",
       "      <th>On Target</th>\n",
       "      <th>PAM</th>\n",
       "      <th>Canonical</th>\n",
       "      <th>Length difference</th>\n",
       "      <th>Alignment</th>\n",
       "      <th>Alignment (All)</th>\n",
       "      <th>Mutation ID</th>\n",
       "      <th>Mutation Type</th>\n",
       "      <th>Mutation Count</th>\n",
       "      <th>Mutation Positions</th>\n",
       "    </tr>\n",
       "  </thead>\n",
       "  <tbody>\n",
       "    <tr>\n",
       "      <th>5</th>\n",
       "      <td>GTTAGACGCAAAAAGATGAGACGCTGG</td>\n",
       "      <td>0.006562</td>\n",
       "      <td>0.005024</td>\n",
       "      <td>0.008606</td>\n",
       "      <td>False</td>\n",
       "      <td>TGG</td>\n",
       "      <td>True</td>\n",
       "      <td>0</td>\n",
       "      <td>CGCAGAGTAGAAATACGCAG\\n|||||||||||||.||||||\\nCG...</td>\n",
       "      <td>CGCAGAGTAGAAATA-CGCAG\\n||||||||||||| | |||||\\n...</td>\n",
       "      <td>r:14:A</td>\n",
       "      <td>r</td>\n",
       "      <td>1.0</td>\n",
       "      <td>14</td>\n",
       "    </tr>\n",
       "    <tr>\n",
       "      <th>6</th>\n",
       "      <td>TTTAGATGCATAAAGATGAGGCGCTGG</td>\n",
       "      <td>0.000542</td>\n",
       "      <td>0.000439</td>\n",
       "      <td>0.000817</td>\n",
       "      <td>False</td>\n",
       "      <td>TGG</td>\n",
       "      <td>True</td>\n",
       "      <td>0</td>\n",
       "      <td>CGCAGAGTAGAAATACGCAG\\n|||.|||||||||||||.||\\nCG...</td>\n",
       "      <td>CGCAG-AGTAGAAATACGC-AG\\n||| | ||||||||||||  ||...</td>\n",
       "      <td>r:4:G|r:18:T</td>\n",
       "      <td>r</td>\n",
       "      <td>2.0</td>\n",
       "      <td>4|18</td>\n",
       "    </tr>\n",
       "    <tr>\n",
       "      <th>7</th>\n",
       "      <td>TTTAGACGCATAAAGATGAGACGCTGG</td>\n",
       "      <td>0.182457</td>\n",
       "      <td>0.111880</td>\n",
       "      <td>0.191265</td>\n",
       "      <td>True</td>\n",
       "      <td>TGG</td>\n",
       "      <td>True</td>\n",
       "      <td>0</td>\n",
       "      <td>CGCAGAGTAGAAATACGCAG\\n||||||||||||||||||||\\nCG...</td>\n",
       "      <td>CGCAGAGTAGAAATACGCAG\\n||||||||||||||||||||\\nCG...</td>\n",
       "      <td>OT</td>\n",
       "      <td>OT</td>\n",
       "      <td>0.0</td>\n",
       "      <td></td>\n",
       "    </tr>\n",
       "    <tr>\n",
       "      <th>12</th>\n",
       "      <td>TTTAAGACGCATAAAGATGAGACGCTGG</td>\n",
       "      <td>0.168158</td>\n",
       "      <td>0.112466</td>\n",
       "      <td>0.186088</td>\n",
       "      <td>True</td>\n",
       "      <td>TGG</td>\n",
       "      <td>True</td>\n",
       "      <td>1</td>\n",
       "      <td>CGCAGAGTAGAAATACGCAG-\\n|||||||||||||||||||| \\n...</td>\n",
       "      <td>CGCAGAGTAGAAATACGCAG-\\n|||||||||||||||||||| \\n...</td>\n",
       "      <td>OT</td>\n",
       "      <td>OT</td>\n",
       "      <td>0.0</td>\n",
       "      <td></td>\n",
       "    </tr>\n",
       "    <tr>\n",
       "      <th>13</th>\n",
       "      <td>TTTAGACGCATAAAGATGAGACGCTGG</td>\n",
       "      <td>0.210355</td>\n",
       "      <td>0.158494</td>\n",
       "      <td>0.312250</td>\n",
       "      <td>True</td>\n",
       "      <td>TGG</td>\n",
       "      <td>True</td>\n",
       "      <td>0</td>\n",
       "      <td>CGCAGAGTAGAAATACGCAG\\n||||||||||||||||||||\\nCG...</td>\n",
       "      <td>CGCAGAGTAGAAATACGCAG\\n||||||||||||||||||||\\nCG...</td>\n",
       "      <td>OT</td>\n",
       "      <td>OT</td>\n",
       "      <td>0.0</td>\n",
       "      <td></td>\n",
       "    </tr>\n",
       "  </tbody>\n",
       "</table>\n",
       "</div>"
      ],
      "text/plain": [
       "                        Sequence  cleavage_rate  cleavage_rate_5th_pctl  \\\n",
       "5    GTTAGACGCAAAAAGATGAGACGCTGG       0.006562                0.005024   \n",
       "6    TTTAGATGCATAAAGATGAGGCGCTGG       0.000542                0.000439   \n",
       "7    TTTAGACGCATAAAGATGAGACGCTGG       0.182457                0.111880   \n",
       "12  TTTAAGACGCATAAAGATGAGACGCTGG       0.168158                0.112466   \n",
       "13   TTTAGACGCATAAAGATGAGACGCTGG       0.210355                0.158494   \n",
       "\n",
       "    cleavage_rate_95th_pctl  On Target  PAM  Canonical  Length difference  \\\n",
       "5                  0.008606      False  TGG       True                  0   \n",
       "6                  0.000817      False  TGG       True                  0   \n",
       "7                  0.191265       True  TGG       True                  0   \n",
       "12                 0.186088       True  TGG       True                  1   \n",
       "13                 0.312250       True  TGG       True                  0   \n",
       "\n",
       "                                            Alignment  \\\n",
       "5   CGCAGAGTAGAAATACGCAG\\n|||||||||||||.||||||\\nCG...   \n",
       "6   CGCAGAGTAGAAATACGCAG\\n|||.|||||||||||||.||\\nCG...   \n",
       "7   CGCAGAGTAGAAATACGCAG\\n||||||||||||||||||||\\nCG...   \n",
       "12  CGCAGAGTAGAAATACGCAG-\\n|||||||||||||||||||| \\n...   \n",
       "13  CGCAGAGTAGAAATACGCAG\\n||||||||||||||||||||\\nCG...   \n",
       "\n",
       "                                      Alignment (All)   Mutation ID  \\\n",
       "5   CGCAGAGTAGAAATA-CGCAG\\n||||||||||||| | |||||\\n...        r:14:A   \n",
       "6   CGCAG-AGTAGAAATACGC-AG\\n||| | ||||||||||||  ||...  r:4:G|r:18:T   \n",
       "7   CGCAGAGTAGAAATACGCAG\\n||||||||||||||||||||\\nCG...            OT   \n",
       "12  CGCAGAGTAGAAATACGCAG-\\n|||||||||||||||||||| \\n...            OT   \n",
       "13  CGCAGAGTAGAAATACGCAG\\n||||||||||||||||||||\\nCG...            OT   \n",
       "\n",
       "   Mutation Type  Mutation Count Mutation Positions  \n",
       "5              r             1.0                 14  \n",
       "6              r             2.0               4|18  \n",
       "7             OT             0.0                     \n",
       "12            OT             0.0                     \n",
       "13            OT             0.0                     "
      ]
     },
     "execution_count": 5,
     "metadata": {},
     "output_type": "execute_result"
    }
   ],
   "source": [
    "new_data.head()"
   ]
  },
  {
   "cell_type": "code",
   "execution_count": 6,
   "metadata": {
    "collapsed": false
   },
   "outputs": [],
   "source": [
    "full_data = preprocess.process_Finkelstein_Library(data,on_target,seq_colname,output_colnames,Cas='Cas9', \n",
    "                                                   out_path = out_path,out_file_name = out_file_name,\n",
    "                                                   nofilter = True, save_data = True)"
   ]
  },
  {
   "cell_type": "code",
   "execution_count": 7,
   "metadata": {
    "collapsed": false
   },
   "outputs": [
    {
     "data": {
      "text/html": [
       "<div>\n",
       "<style scoped>\n",
       "    .dataframe tbody tr th:only-of-type {\n",
       "        vertical-align: middle;\n",
       "    }\n",
       "\n",
       "    .dataframe tbody tr th {\n",
       "        vertical-align: top;\n",
       "    }\n",
       "\n",
       "    .dataframe thead th {\n",
       "        text-align: right;\n",
       "    }\n",
       "</style>\n",
       "<table border=\"1\" class=\"dataframe\">\n",
       "  <thead>\n",
       "    <tr style=\"text-align: right;\">\n",
       "      <th></th>\n",
       "      <th>Sequence</th>\n",
       "      <th>cleavage_rate</th>\n",
       "      <th>cleavage_rate_5th_pctl</th>\n",
       "      <th>cleavage_rate_95th_pctl</th>\n",
       "      <th>On Target</th>\n",
       "      <th>PAM</th>\n",
       "      <th>Canonical</th>\n",
       "      <th>Length difference</th>\n",
       "      <th>Alignment</th>\n",
       "      <th>Alignment (All)</th>\n",
       "      <th>Mutation ID</th>\n",
       "      <th>Mutation Type</th>\n",
       "      <th>Mutation Count</th>\n",
       "      <th>Mutation Positions</th>\n",
       "    </tr>\n",
       "  </thead>\n",
       "  <tbody>\n",
       "    <tr>\n",
       "      <th>0</th>\n",
       "      <td>TTTAGAGCGTATTTCATGAGACGCTGG</td>\n",
       "      <td>2.657239e-06</td>\n",
       "      <td>6.222793e-24</td>\n",
       "      <td>0.000004</td>\n",
       "      <td>False</td>\n",
       "      <td>TGG</td>\n",
       "      <td>True</td>\n",
       "      <td>0</td>\n",
       "      <td>CGCAGAGTAGAAATACGCAG\\n|||||||||.........||\\nCG...</td>\n",
       "      <td>CGCAGAGTAGAAA-T--AC-GC-AG\\n||||||||    | |  | ...</td>\n",
       "      <td>r:10:C|r:11:T|r:12:T|r:13:T|r:14:A|r:15:T|r:16...</td>\n",
       "      <td>r</td>\n",
       "      <td>9.0</td>\n",
       "      <td>10|11|12|13|14|15|16|17|18</td>\n",
       "    </tr>\n",
       "    <tr>\n",
       "      <th>1</th>\n",
       "      <td>TTTAGACTGCGATAAAGATGAGACGCTGG</td>\n",
       "      <td>2.767674e-22</td>\n",
       "      <td>1.326366e-25</td>\n",
       "      <td>0.000005</td>\n",
       "      <td>False</td>\n",
       "      <td>TGG</td>\n",
       "      <td>True</td>\n",
       "      <td>2</td>\n",
       "      <td>CGCAGAGTAGAAATA-CG-CAG\\n||||||||||||||| || |||...</td>\n",
       "      <td>CGCAGAGTAGAAATA-CG-CAG\\n||||||||||||||| || |||...</td>\n",
       "      <td>i:16:G|i:18:T</td>\n",
       "      <td>i</td>\n",
       "      <td>2.0</td>\n",
       "      <td>16|18</td>\n",
       "    </tr>\n",
       "    <tr>\n",
       "      <th>2</th>\n",
       "      <td>TTTAGACGCATAAAGATGAGACGCCTTAA</td>\n",
       "      <td>1.199120e-06</td>\n",
       "      <td>1.717058e-27</td>\n",
       "      <td>0.000002</td>\n",
       "      <td>False</td>\n",
       "      <td>TAA</td>\n",
       "      <td>False</td>\n",
       "      <td>2</td>\n",
       "      <td>-C-GCAGAGTAGAAATACGCAG\\n | |||||||||||||||||||...</td>\n",
       "      <td>-C-GCAGAGTAGAAATACGCAG\\n | |||||||||||||||||||...</td>\n",
       "      <td>i:1:T|i:2:C</td>\n",
       "      <td>i</td>\n",
       "      <td>2.0</td>\n",
       "      <td>1|2</td>\n",
       "    </tr>\n",
       "    <tr>\n",
       "      <th>3</th>\n",
       "      <td>TTTAGACGCATAAAGATGAGACGCTAGGA</td>\n",
       "      <td>5.308185e-05</td>\n",
       "      <td>4.825889e-05</td>\n",
       "      <td>0.000069</td>\n",
       "      <td>False</td>\n",
       "      <td>GGA</td>\n",
       "      <td>False</td>\n",
       "      <td>2</td>\n",
       "      <td>--CGCAGAGTAGAAATACGCAG\\n  ||||||||||||||||||||...</td>\n",
       "      <td>--CGCAGAGTAGAAATACGCAG\\n  ||||||||||||||||||||...</td>\n",
       "      <td>i:1:A|i:1:T</td>\n",
       "      <td>i</td>\n",
       "      <td>2.0</td>\n",
       "      <td>1|1</td>\n",
       "    </tr>\n",
       "    <tr>\n",
       "      <th>4</th>\n",
       "      <td>TTTAGACGTCAGTAAAGATGAGACGCTGG</td>\n",
       "      <td>8.747661e-25</td>\n",
       "      <td>7.856313e-27</td>\n",
       "      <td>0.000001</td>\n",
       "      <td>False</td>\n",
       "      <td>TGG</td>\n",
       "      <td>True</td>\n",
       "      <td>2</td>\n",
       "      <td>CGCAGAGTAGAAAT-AC-GCAG\\n|||||||||||||| || ||||...</td>\n",
       "      <td>CGCAGAGTAGAAAT-AC-GCAG\\n|||||||||||||| || ||||...</td>\n",
       "      <td>i:15:G|i:17:T</td>\n",
       "      <td>i</td>\n",
       "      <td>2.0</td>\n",
       "      <td>15|17</td>\n",
       "    </tr>\n",
       "  </tbody>\n",
       "</table>\n",
       "</div>"
      ],
      "text/plain": [
       "                        Sequence  cleavage_rate  cleavage_rate_5th_pctl  \\\n",
       "0    TTTAGAGCGTATTTCATGAGACGCTGG   2.657239e-06            6.222793e-24   \n",
       "1  TTTAGACTGCGATAAAGATGAGACGCTGG   2.767674e-22            1.326366e-25   \n",
       "2  TTTAGACGCATAAAGATGAGACGCCTTAA   1.199120e-06            1.717058e-27   \n",
       "3  TTTAGACGCATAAAGATGAGACGCTAGGA   5.308185e-05            4.825889e-05   \n",
       "4  TTTAGACGTCAGTAAAGATGAGACGCTGG   8.747661e-25            7.856313e-27   \n",
       "\n",
       "   cleavage_rate_95th_pctl  On Target  PAM  Canonical  Length difference  \\\n",
       "0                 0.000004      False  TGG       True                  0   \n",
       "1                 0.000005      False  TGG       True                  2   \n",
       "2                 0.000002      False  TAA      False                  2   \n",
       "3                 0.000069      False  GGA      False                  2   \n",
       "4                 0.000001      False  TGG       True                  2   \n",
       "\n",
       "                                           Alignment  \\\n",
       "0  CGCAGAGTAGAAATACGCAG\\n|||||||||.........||\\nCG...   \n",
       "1  CGCAGAGTAGAAATA-CG-CAG\\n||||||||||||||| || |||...   \n",
       "2  -C-GCAGAGTAGAAATACGCAG\\n | |||||||||||||||||||...   \n",
       "3  --CGCAGAGTAGAAATACGCAG\\n  ||||||||||||||||||||...   \n",
       "4  CGCAGAGTAGAAAT-AC-GCAG\\n|||||||||||||| || ||||...   \n",
       "\n",
       "                                     Alignment (All)  \\\n",
       "0  CGCAGAGTAGAAA-T--AC-GC-AG\\n||||||||    | |  | ...   \n",
       "1  CGCAGAGTAGAAATA-CG-CAG\\n||||||||||||||| || |||...   \n",
       "2  -C-GCAGAGTAGAAATACGCAG\\n | |||||||||||||||||||...   \n",
       "3  --CGCAGAGTAGAAATACGCAG\\n  ||||||||||||||||||||...   \n",
       "4  CGCAGAGTAGAAAT-AC-GCAG\\n|||||||||||||| || ||||...   \n",
       "\n",
       "                                         Mutation ID Mutation Type  \\\n",
       "0  r:10:C|r:11:T|r:12:T|r:13:T|r:14:A|r:15:T|r:16...             r   \n",
       "1                                      i:16:G|i:18:T             i   \n",
       "2                                        i:1:T|i:2:C             i   \n",
       "3                                        i:1:A|i:1:T             i   \n",
       "4                                      i:15:G|i:17:T             i   \n",
       "\n",
       "   Mutation Count          Mutation Positions  \n",
       "0             9.0  10|11|12|13|14|15|16|17|18  \n",
       "1             2.0                       16|18  \n",
       "2             2.0                         1|2  \n",
       "3             2.0                         1|1  \n",
       "4             2.0                       15|17  "
      ]
     },
     "execution_count": 7,
     "metadata": {},
     "output_type": "execute_result"
    }
   ],
   "source": [
    "full_data.head() "
   ]
  },
  {
   "cell_type": "code",
   "execution_count": 46,
   "metadata": {
    "collapsed": false
   },
   "outputs": [
    {
     "data": {
      "image/png": "[encoded data removed]",
      "text/plain": [
       "<matplotlib.figure.Figure at 0xb8ae6d8>"
      ]
     },
     "metadata": {},
     "output_type": "display_data"
    }
   ],
   "source": [
    "reload(pltData);\n",
    "single_mut_data_mean = pltData.plot_single_mut_data(full_data, 'cleavage_rate', 'r', Canonical=True, data_name='cleavage rate (Hz)', Plot=True, \n",
    "                                                    logplot=True, SaveFigures=False)"
   ]
  },
  {
   "cell_type": "code",
   "execution_count": 74,
   "metadata": {
    "collapsed": false
   },
   "outputs": [
    {
     "data": {
      "image/png": "[encoded data removed]",
      "text/plain": [
       "<matplotlib.figure.Figure at 0x104caa90>"
      ]
     },
     "metadata": {},
     "output_type": "display_data"
    }
   ],
   "source": [
    "reload(pltData);\n",
    "_, _ = pltData.plot_double_mut_data(full_data, 'cleavage_rate', 'r', Canonical=True, Ng=20, data_name='log (cleavage rate (Hz))', Plot=True, logplot=True,\n",
    "                        SaveFigures=False, figure_name='./Figure.pdf')"
   ]
  },
  {
   "cell_type": "code",
   "execution_count": null,
   "metadata": {
    "collapsed": true
   },
   "outputs": [],
   "source": []
  }
 ],
 "metadata": {
  "kernelspec": {
   "display_name": "Python 2",
   "language": "python",
   "name": "python2"
  },
  "language_info": {
   "codemirror_mode": {
    "name": "ipython",
    "version": 2
   },
   "file_extension": ".py",
   "mimetype": "text/x-python",
   "name": "python",
   "nbconvert_exporter": "python",
   "pygments_lexer": "ipython2",
   "version": "2.7.13"
  }
 },
 "nbformat": 4,
 "nbformat_minor": 2
}
