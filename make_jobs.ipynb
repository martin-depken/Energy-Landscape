{
 "cells": [
  {
   "cell_type": "code",
<<<<<<< HEAD
   "execution_count": 3,
   "metadata": {},
=======
   "execution_count": 2,
   "metadata": {
    "collapsed": false
   },
>>>>>>> a2650f4b35e0f036fe3fbf7a9c9d2333aa634844
   "outputs": [
    {
     "name": "stdout",
     "output_type": "stream",
     "text": [
      "done\n",
      "25\n"
     ]
    }
   ],
   "source": [
    "hpc=  '/home/mklein1/Energy_Landscape_dCas9/'\n",
    "datafolder= '/Users/mklein1/Documents/PhD_Martin_Depken_Group/Energy_Landscape_dCas9/data/'\n",
    "today= '27_3_2019/'\n",
    "simID= '1_25'\n",
    "model_ID = 'general_energies_no_kPR'\n",
    "replica_ID = '1'\n",
    "use_cluster = '1' \n",
    "\n",
    "\n",
    "jobs = open(datafolder + today + 'jobs_' + today.replace('/','_') + simID +'.txt','w')\n",
    "\n",
    "count = 0\n",
    "for sim in range(1,26):\n",
    "    count +=1\n",
    "    sim = str(sim)\n",
    "    monitor_SA = hpc + today + 'monitor_'+ today.replace('/','_') + 'sim_'+sim + '.txt'\n",
    "    fit_results= hpc + today + 'fit_' + today.replace('/','_') + 'sim_'+sim + '.txt'\n",
    "    init_monitor_SA = hpc + today + 'init_monitor_'+ today.replace('/','_') + 'sim_'+sim + '.txt'\n",
    "    jobs.write(replica_ID + '\\t')\n",
    "    jobs.write(model_ID + '\\t')\n",
    "    jobs.write(monitor_SA + '\\t')\n",
    "    jobs.write(fit_results + '\\t')\n",
    "    jobs.write(init_monitor_SA + '\\t')\n",
    "    jobs.write(use_cluster + '\\n')\n",
    "jobs.close()\n",
    "print 'done'\n",
    "print count "
   ]
  },
  {
   "cell_type": "code",
   "execution_count": null,
   "metadata": {
    "collapsed": true
   },
   "outputs": [],
   "source": []
  },
  {
   "cell_type": "code",
   "execution_count": null,
   "metadata": {
    "collapsed": true
   },
   "outputs": [],
   "source": []
  },
  {
   "cell_type": "code",
   "execution_count": 3,
   "metadata": {},
   "outputs": [],
   "source": [
    "hpc=  '/home/mklein1/Energy_Landscape_dCas9/'\n",
    "datafolder= '/Users/mklein1/Documents/PhD_Martin_Depken_Group/Energy_Landscape_dCas9/data/'\n",
    "today= '13_9_2018/'\n",
    "simID= 'Y_Z'\n",
    "replica_ID = '1'\n",
    "model_ID = 'init_limit_general_energies_v2'\n",
    "use_cluster = '1' \n",
    "\n",
    "\n",
    "jobs = open(datafolder + today + 'jobs_' + today.replace('/','_') + simID +'.txt','w')\n",
    "for sim in ['Y','Z']:\n",
    "    monitor_SA = hpc + today + 'monitor_'+ today.replace('/','_') + 'sim_'+sim + '.txt'\n",
    "    fit_results= hpc + today + 'fit_' + today.replace('/','_') + 'sim_'+sim + '.txt'\n",
    "    init_monitor_SA = hpc + today + 'init_monitor_'+ today.replace('/','_') + 'sim_'+sim + '.txt'\n",
    "    jobs.write(replica_ID + '\\t')\n",
    "    jobs.write(model_ID + '\\t')\n",
    "    jobs.write(monitor_SA + '\\t')\n",
    "    jobs.write(fit_results + '\\t')\n",
    "    jobs.write(init_monitor_SA + '\\t')\n",
    "    jobs.write(use_cluster + '\\n')\n",
    "jobs.close()\n",
    "\n",
    "\n",
    "\n"
   ]
  },
  {
   "cell_type": "code",
   "execution_count": 2,
   "metadata": {},
   "outputs": [],
   "source": [
    "# Make jobs file for Diewertje\n",
    "\n",
    "hpc=  '/home/dddekker/BEP/'\n",
    "datafolder= '/Users/Diewertje/Documents/Year 3/BEP/Energy_Landscape_dCas9/Diewertje/'\n",
    "today= '8_4_2019_conc3/'\n",
    "simID= '1_10'\n",
    "model_ID = 'init_limit_general_energies_v2'\n",
    "use_cluster = '1' \n",
    "\n",
    "\n",
    "jobs = open(datafolder + today + 'jobs_' + today.replace('/','_') + simID +'.txt','w')\n",
    "for sim in range(1,11):\n",
    "    monitor_SA = hpc + today + 'monitor_'+ today.replace('/','_') + 'sim_'+str(sim) + '.txt'\n",
    "    fit_results= hpc + today + 'fit_' + today.replace('/','_') + 'sim_'+str(sim) + '.txt'\n",
    "    init_monitor_SA = hpc + today + 'init_monitor_'+ today.replace('/','_') + 'sim_'+str(sim) + '.txt'\n",
    "    jobs.write(model_ID + '\\t')\n",
    "    jobs.write(monitor_SA + '\\t')\n",
    "    jobs.write(fit_results + '\\t')\n",
    "    jobs.write(init_monitor_SA + '\\t')\n",
    "    jobs.write(use_cluster + '\\n')\n",
    "jobs.close()\n",
    "\n"
   ]
  },
  {
   "cell_type": "code",
   "execution_count": null,
   "metadata": {},
   "outputs": [],
   "source": []
  },
  {
   "cell_type": "code",
   "execution_count": null,
   "metadata": {},
   "outputs": [],
   "source": []
  }
 ],
 "metadata": {
  "anaconda-cloud": {},
  "kernelspec": {
   "display_name": "Python 3",
   "language": "python",
   "name": "python3"
  },
  "language_info": {
   "codemirror_mode": {
    "name": "ipython",
    "version": 3
   },
   "file_extension": ".py",
   "mimetype": "text/x-python",
   "name": "python",
   "nbconvert_exporter": "python",
   "pygments_lexer": "ipython3",
   "version": "3.6.8"
  }
 },
 "nbformat": 4,
 "nbformat_minor": 1
}
