{
 "cells": [
  {
   "cell_type": "code",
   "execution_count": 1,
   "metadata": {
    "collapsed": false
   },
   "outputs": [],
   "source": [
    "hpc=  '/home/mklein1/Energy_Landscape_dCas9/'\n",
    "datafolder= '/Users/mklein1/Documents/PhD_Martin_Depken_Group/Energy_Landscape_dCas9/data/'\n",
    "today= '13_9_2018/'\n",
    "simID= 'P_Q_R'\n",
    "replica_ID = '1'\n",
    "model_ID = 'init_limit_general_energies_v2'\n",
    "use_cluster = '1' \n",
    "\n",
    "\n",
    "jobs = open(datafolder + today + 'jobs_' + today.replace('/','_') + simID +'.txt','w')\n",
    "for sim in ['P','Q','R']:\n",
    "    monitor_SA = hpc + today + 'monitor_'+ today.replace('/','_') + 'sim_'+sim + '.txt'\n",
    "    fit_results= hpc + today + 'fit_' + today.replace('/','_') + 'sim_'+sim + '.txt'\n",
    "    init_monitor_SA = hpc + today + 'init_monitor_'+ today.replace('/','_') + 'sim_'+sim + '.txt'\n",
    "    jobs.write(replica_ID + '\\t')\n",
    "    jobs.write(model_ID + '\\t')\n",
    "    jobs.write(monitor_SA + '\\t')\n",
    "    jobs.write(fit_results + '\\t')\n",
    "    jobs.write(init_monitor_SA + '\\t')\n",
    "    jobs.write(use_cluster + '\\n')\n",
    "jobs.close()\n",
    "\n",
    "\n",
    "\n"
   ]
  },
  {
   "cell_type": "code",
   "execution_count": null,
   "metadata": {
    "collapsed": true
   },
   "outputs": [],
   "source": []
  }
 ],
 "metadata": {
  "anaconda-cloud": {},
  "kernelspec": {
   "display_name": "Python [Root]",
   "language": "python",
   "name": "Python [Root]"
  },
  "language_info": {
   "codemirror_mode": {
    "name": "ipython",
    "version": 2
   },
   "file_extension": ".py",
   "mimetype": "text/x-python",
   "name": "python",
   "nbconvert_exporter": "python",
   "pygments_lexer": "ipython2",
   "version": "2.7.11"
  }
 },
 "nbformat": 4,
 "nbformat_minor": 0
}
