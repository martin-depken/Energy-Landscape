{
 "cells": [
  {
   "cell_type": "code",
   "execution_count": 14,
   "metadata": {
    "collapsed": true
   },
   "outputs": [],
   "source": [
    "%matplotlib inline \n",
    "import CRISPR_dCas9_binding_curve_Boyle as Boyle\n",
    "reload(Boyle)\n",
    "import pandas as pd\n",
    "import numpy as np\n",
    "import matplotlib.pyplot as plt"
   ]
  },
  {
   "cell_type": "code",
   "execution_count": 3,
   "metadata": {
    "collapsed": true
   },
   "outputs": [],
   "source": [
    "import seaborn as sns \n",
    "sns.set_style('ticks');\n",
    "current_color = sns.color_palette();\n",
    "sns.set_palette('Set2');\n",
    "\n",
    "#import plotsettings \n",
    "#publishable = plotsettings.Set('Cell') \n",
    "\n",
    "# Adjust all text and axes colors to black. default is some studip gray that appears to faint when printed \n",
    "from matplotlib import rc , rcParams\n",
    "rc('axes',edgecolor='black')\n",
    "rc('xtick',color='black',labelsize=15)\n",
    "rc('ytick',color='black',labelsize=15)\n",
    "rc('text',color='black')\n",
    "rc('axes',labelcolor='black',linewidth=2.0)\n",
    "rc('font',size=15)\n",
    "rcParams[\"patch.force_edgecolor\"] = True"
   ]
  },
  {
   "cell_type": "code",
   "execution_count": 4,
   "metadata": {
    "collapsed": true
   },
   "outputs": [],
   "source": [
    "Path = '../Data_Boyle/KoenDataForMisha/3ModelFit/'\n",
    "OT_landscape = np.loadtxt(delimiter=',', fname=Path+'3ModelOTLandscape.txt')\n",
    "epsilon_C = np.diff(OT_landscape)\n",
    "epsilon_I = np.loadtxt(delimiter=',', fname=Path+'3ModelMismatches.txt')-epsilon_C[1:]\n",
    "rates = np.loadtxt(delimiter='\\n', fname=Path+'3ModelRates.txt')\n",
    "epsilon = np.append(epsilon_C, epsilon_I)\n",
    "parameters = np.append(epsilon, rates)"
   ]
  },
  {
   "cell_type": "code",
   "execution_count": 5,
   "metadata": {
    "collapsed": false
   },
   "outputs": [
    {
     "data": {
      "image/png": "[encoded data removed]",
      "text/plain": [
       "<matplotlib.figure.Figure at 0x61d6898>"
      ]
     },
     "metadata": {},
     "output_type": "display_data"
    }
   ],
   "source": [
    "plt.plot(range(0,20), epsilon_I)\n",
    "plt.show()"
   ]
  },
  {
   "cell_type": "markdown",
   "metadata": {},
   "source": [
    "## Check unpack_parameters"
   ]
  },
  {
   "cell_type": "code",
   "execution_count": 95,
   "metadata": {
    "collapsed": false
   },
   "outputs": [
    {
     "name": "stdout",
     "output_type": "stream",
     "text": [
      "epsilon is rigth\n",
      "[ 0.10658859  2.48989913  2.48989913  2.48989913  2.48989913  2.48989913\n",
      "  2.48989913  2.48989913  2.48989913  2.48989913  2.48989913  2.48989913\n",
      "  2.48989913  2.48989913  2.48989913  2.48989913  2.48989913  2.48989913\n",
      "  2.48989913  2.48989913  2.48989913  0.        ]\n",
      "22\n"
     ]
    }
   ],
   "source": [
    "new_epsilon, forward_rates = Boyle.unpack_parameters(parameters=parameters)\n",
    "check = np.sum(epsilon-new_epsilon)==0\n",
    "if check:\n",
    "    print 'epsilon is rigth'\n",
    "print forward_rates\n",
    "print len(forward_rates)"
   ]
  },
  {
   "cell_type": "markdown",
   "metadata": {},
   "source": [
    "## Check get_energies"
   ]
  },
  {
   "cell_type": "code",
   "execution_count": 96,
   "metadata": {
    "collapsed": false
   },
   "outputs": [
    {
     "name": "stdout",
     "output_type": "stream",
     "text": [
      "OT energy correct\n",
      "difference between OF and OT energies:\n",
      "[ 0.          2.81457747  0.          0.          0.          2.78633019\n",
      "  0.          0.          0.          0.          0.          0.          0.\n",
      "  0.          0.          0.          0.          0.          0.          0.\n",
      "  0.        ]\n",
      "OF energy correct\n"
     ]
    }
   ],
   "source": [
    "mismatch_positions = []\n",
    "OT_energies = Boyle.get_energies(epsilon,mismatch_positions)\n",
    "check = np.sum(OT_energies-epsilon_C)==0\n",
    "if check:\n",
    "    print 'OT energy correct'\n",
    "mismatch_positions = [1,5]\n",
    "energies = Boyle.get_energies(epsilon,mismatch_positions)\n",
    "checkenergies = OT_energies.copy()\n",
    "checkenergies[1] = checkenergies[1]+epsilon_I[0]\n",
    "checkenergies[5] = checkenergies[5]+epsilon_I[4]\n",
    "print 'difference between OF and OT energies:'\n",
    "print (checkenergies-OT_energies)\n",
    "check = np.sum(checkenergies-energies)==0\n",
    "if check:\n",
    "    print 'OF energy correct'"
   ]
  },
  {
   "cell_type": "markdown",
   "metadata": {},
   "source": [
    "## Check get_backward_rates"
   ]
  },
  {
   "cell_type": "code",
   "execution_count": 97,
   "metadata": {
    "collapsed": false
   },
   "outputs": [
    {
     "name": "stdout",
     "output_type": "stream",
     "text": [
      "[  0.          95.8216772   32.75431014   2.43192143   2.46512421\n",
      "   2.43151006  39.05730939   2.464641     2.45012216   2.46512422\n",
      "   2.46512422   2.46462941   2.46026469   2.39681254   0.79875474\n",
      "   0.44805622   2.43697674   0.39175154   0.41779923   0.40070166\n",
      "   2.43095688   0.30564096]\n",
      "22\n"
     ]
    }
   ],
   "source": [
    "backward_rates = Boyle.get_backward_rates(energies, forward_rates)\n",
    "print backward_rates\n",
    "print len(backward_rates)"
   ]
  },
  {
   "cell_type": "markdown",
   "metadata": {},
   "source": [
    "## Check build_rate_matrix and get_master_equation"
   ]
  },
  {
   "cell_type": "code",
   "execution_count": 98,
   "metadata": {
    "collapsed": false,
    "scrolled": true
   },
   "outputs": [
    {
     "name": "stdout",
     "output_type": "stream",
     "text": [
      "build_rate_matrix calculates the same as get_master_equation\n"
     ]
    }
   ],
   "source": [
    "rate_matrix = Boyle.build_rate_matrix(backward_rates=backward_rates, \n",
    "                                      forward_rates=forward_rates)\n",
    "rate_matrix_2 = Boyle.get_master_equation(parameters=parameters, mismatch_positions=mismatch_positions, model_id='general_energies', guide_length=20)\n",
    "\n",
    "check = np.sum(rate_matrix-rate_matrix_2)==0\n",
    "\n",
    "if check:\n",
    "    print 'build_rate_matrix calculates the same as get_master_equation' "
   ]
  },
  {
   "cell_type": "code",
   "execution_count": 109,
   "metadata": {
    "collapsed": false
   },
   "outputs": [
    {
     "data": {
      "text/plain": [
       "(0.69192772408636793, 0.00022211548444814869, 0.00011032854992262117)"
      ]
     },
     "execution_count": 109,
     "metadata": {},
     "output_type": "execute_result"
    }
   ],
   "source": [
    "Boyle.calc_Boyle(True, True, True,\n",
    "               parameters, mismatch_positions=[17,18])"
   ]
  },
  {
   "cell_type": "markdown",
   "metadata": {},
   "source": [
    "## Calculate kon, koff, and Pbound\n",
    "NOTE: For this section I have temporarily changed the mane code to set the equilibration time to 12000 hours instead of 12 hours :-). This makes it comparable to Koens prediction "
   ]
  },
  {
   "cell_type": "code",
   "execution_count": 29,
   "metadata": {
    "collapsed": true
   },
   "outputs": [],
   "source": [
    "\n",
    "on_rate = np.loadtxt(delimiter=',', fname=Path+'3ModelOnRate.txt')\n",
    "off_rate = np.loadtxt(delimiter=',', fname=Path+'3ModelOffRate.txt')\n",
    "Pbound = np.loadtxt(delimiter=',', fname=Path+'3ModelOccupancy.txt')\n",
    "\n",
    "on_rate_predict = np.zeros([20,20])\n",
    "off_rate_predict = np.zeros([20,20])\n",
    "Pbound_predict = np.zeros([20,20])\n",
    "\n",
    "Pbound_OT,_,_ = Boyle.calc_Boyle(True, True, True,parameters, [])\n",
    "\n",
    "for i in range(0,20):\n",
    "    for j in range(0,20):\n",
    "        mismatch_positions = [20-i, 20-j]\n",
    "        if i==j:\n",
    "            mismatch_positions = [20-i]\n",
    "        predictions = Boyle.calc_Boyle(True, True, True,parameters, mismatch_positions)\n",
    "        Pbound_predict[i,j] = predictions[0]/Pbound_OT\n",
    "        on_rate_predict[i,j] = predictions[1]\n",
    "        off_rate_predict[i,j] = predictions[2]\n",
    "        \n"
   ]
  },
  {
   "cell_type": "code",
   "execution_count": 18,
   "metadata": {
    "collapsed": false,
    "scrolled": true
   },
   "outputs": [
    {
     "name": "stdout",
     "output_type": "stream",
     "text": [
      "difference in kon:\n",
      "4.21455365487e-13\n",
      "difference in koff:\n",
      "1.67934550374e-13\n",
      "difference in pbound:\n",
      "6.52159173101e-05\n"
     ]
    }
   ],
   "source": [
    "print 'difference in kon:'\n",
    "print np.sum(np.abs(on_rate_predict-on_rate))\n",
    "\n",
    "print 'difference in koff:'\n",
    "print np.sum(np.abs(off_rate_predict-off_rate))\n",
    "\n",
    "print 'difference in pbound:'\n",
    "print np.sum(np.abs(Pbound_predict-Pbound))\n"
   ]
  },
  {
   "cell_type": "code",
   "execution_count": 19,
   "metadata": {
    "collapsed": false
   },
   "outputs": [
    {
     "data": {
      "text/plain": [
       "'\\ncolorbar\\n'"
      ]
     },
     "execution_count": 19,
     "metadata": {},
     "output_type": "execute_result"
    },
    {
     "data": {
      "image/png": "[encoded data removed]",
      "text/plain": [
       "<matplotlib.figure.Figure at 0xe58af60>"
      ]
     },
     "metadata": {},
     "output_type": "display_data"
    }
   ],
   "source": [
    "B = Pbound\n",
    "\n",
    "mask = np.zeros(shape=B.shape)\n",
    "for i in range(len(B)):\n",
    "    for j in range(i-1,len(B)):\n",
    "        mask[i,j] = 1\n",
    "        \n",
    "axHeatmap=sns.heatmap(B, cmap='Greens',mask=mask,cbar=True,vmin=0,vmax=1);\n",
    "        \n",
    "    \n",
    "model = Pbound_predict\n",
    "\n",
    "mask = np.ones(shape=model.shape)\n",
    "for i in range(len(B)):\n",
    "    for j in range(i+1,len(B)):\n",
    "        mask[i,j] = 0\n",
    "sns.heatmap(model, cmap='Greens',mask=mask,cbar=True,vmin=0,vmax=1);\n",
    "\n",
    "\n",
    "plt.xticks([i+0.5 for i in range(20)], \n",
    "           [20,'','','',15,'','','','',10,'','','','',5,'','','','',1], rotation=0);\n",
    "\n",
    "plt.yticks([i+0.5 for i in range(20)], \n",
    "           [1,'','','',5,'','','','',10,'','','','',15,'','','','',20], rotation=0);\n",
    "\n",
    "plt.xlabel('mismatch 1',fontsize=25);\n",
    "plt.ylabel('mismatch 2',fontsize=25);\n",
    "plt.title('Bound Fraction',fontsize=20);\n",
    "\n",
    "\n",
    "\n",
    "\n",
    "\n",
    "'''\n",
    "colorbar\n",
    "'''\n",
    "# cbar = axHeatmap.figure.colorbar(axHeatmap.axes.collections[0],aspect=15);\n",
    "# cbar.set_label(r'$\\mu M^{-1} s^{-1}$',rotation=-90, labelpad=-100,fontsize=15,y=0.5,color='black')\n",
    "# cbar.set_ticks([4,5*10**(-5),5*10**(-5),5*10**(-5),5*10**(-5)]);\n",
    "# cbar.ax.set_yticklabels([0,'',0.5,'',1],fontsize=15);\n",
    "\n",
    "\n",
    "# plt.savefig('occupancy_generalmodel_globalfit_v2.pdf',format='pdf',bbox_inches='tight');\n",
    "# plt.savefig('occupancy_simplified_landscape.pdf',format='pdf',bbox_inches='tight');\n",
    "# plt.savefig('occupancy_overfit_bad_fit.pdf',format='pdf',bbox_inches='tight');\n",
    "# plt.savefig('occupancy_underfit.pdf',format='pdf',bbox_inches='tight');"
   ]
  },
  {
   "cell_type": "code",
   "execution_count": 30,
   "metadata": {
    "collapsed": false
   },
   "outputs": [
    {
     "data": {
      "text/plain": [
       "'\\ncolorbar\\n'"
      ]
     },
     "execution_count": 30,
     "metadata": {},
     "output_type": "execute_result"
    },
    {
     "data": {
      "image/png": "[encoded data removed]",
      "text/plain": [
       "<matplotlib.figure.Figure at 0xe538128>"
      ]
     },
     "metadata": {},
     "output_type": "display_data"
    }
   ],
   "source": [
    "B =on_rate\n",
    "B *= 10**3\n",
    "mask = np.zeros(shape=B.shape)\n",
    "for i in range(len(B)):\n",
    "    for j in range(i-1,len(B)):\n",
    "        mask[i,j] = 1\n",
    "        \n",
    "axHeatmap=sns.heatmap(B, cmap='Reds',mask=mask,cbar=True,vmin=0);\n",
    "        \n",
    "    \n",
    "model = on_rate_predict\n",
    "model  *=10**3\n",
    "mask = np.ones(shape=model.shape)\n",
    "for i in range(len(model)):\n",
    "    for j in range(i+1,len(model)):\n",
    "        mask[i,j] = 0\n",
    "sns.heatmap(model, cmap='Reds',mask=mask,cbar=True,vmin=0);\n",
    "\n",
    "\n",
    "plt.xticks([i+0.5 for i in range(20)], \n",
    "           [20,'','','',15,'','','','',10,'','','','',5,'','','','',1], rotation=0);\n",
    "\n",
    "plt.yticks([i+0.5 for i in range(20)], \n",
    "           [1,'','','',5,'','','','',10,'','','','',15,'','','','',20], rotation=0);\n",
    "\n",
    "plt.xlabel('mismatch 1',fontsize=15);\n",
    "plt.ylabel('mismatch 2',fontsize=15);\n",
    "plt.title('(eff.) Binding Rate \\n ($ \\mu M^{-1} s^{-1}$)',fontsize=15);\n",
    "\n",
    "\n",
    "\n",
    "\n",
    "\n",
    "'''\n",
    "colorbar\n",
    "'''\n",
    "# cbar = axHeatmap.figure.colorbar(axHeatmap.axes.collections[0],aspect=15);\n",
    "# cbar.set_label(r'$\\mu M^{-1} s^{-1}$',rotation=-90, labelpad=-100,fontsize=15,y=0.5,color='black')\n",
    "# cbar.set_ticks([4,5*10**(-5),5*10**(-5),5*10**(-5),5*10**(-5)]);\n",
    "# cbar.ax.set_yticklabels([0,'',0.5,'',1],fontsize=15);\n",
    "\n",
    "\n",
    "# plt.savefig('association_generalmodel_globalfit.pdf',format='pdf',bbox_inches='tight')\n",
    "# plt.savefig('association_simplified_landscape.pdf',format='pdf',bbox_inches='tight');\n"
   ]
  },
  {
   "cell_type": "code",
   "execution_count": 32,
   "metadata": {
    "collapsed": false
   },
   "outputs": [
    {
     "data": {
      "text/plain": [
       "'\\ncolorbar\\n'"
      ]
     },
     "execution_count": 32,
     "metadata": {},
     "output_type": "execute_result"
    },
    {
     "data": {
      "image/png": "[encoded data removed]",
      "text/plain": [
       "<matplotlib.figure.Figure at 0xcb06860>"
      ]
     },
     "metadata": {},
     "output_type": "display_data"
    }
   ],
   "source": [
    "B = off_rate\n",
    "B *= 10**5\n",
    "mask = np.zeros(shape=B.shape)\n",
    "for i in range(len(B)):\n",
    "    for j in range(i-1,len(B)):\n",
    "        mask[i,j] = 1\n",
    "        \n",
    "axHeatmap=sns.heatmap(B, cmap='Blues',mask=mask,cbar=True,vmin=0);\n",
    "        \n",
    "    \n",
    "model = off_rate_predict        \n",
    "model  *=10**5\n",
    "mask = np.ones(shape=model.shape)\n",
    "for i in range(len(model)):\n",
    "    for j in range(i+1,len(model)):\n",
    "        mask[i,j] = 0\n",
    "sns.heatmap(model, cmap='Blues',mask=mask,cbar=True,vmin=0);\n",
    "\n",
    "\n",
    "plt.xticks([i+0.5 for i in range(20)], \n",
    "           [20,'','','',15,'','','','',10,'','','','',5,'','','','',1], rotation=0);\n",
    "\n",
    "plt.yticks([i+0.5 for i in range(20)], \n",
    "           [1,'','','',5,'','','','',10,'','','','',15,'','','','',20], rotation=0);\n",
    "\n",
    "plt.xlabel('mismatch 1',fontsize=15);\n",
    "plt.ylabel('mismatch 2',fontsize=15);\n",
    "plt.title('(eff.) Discociation Rate \\n ($ 10^{-5} s^{-1}$)',fontsize=15);\n",
    "\n",
    "\n",
    "\n",
    "\n",
    "\n",
    "'''\n",
    "colorbar\n",
    "'''\n",
    "#cbar = axHeatmap.figure.colorbar(axHeatmap.axes.collections[0],aspect=15);\n",
    "# cbar.set_label(r'$\\mu M^{-1} s^{-1}$',rotation=-90, labelpad=-100,fontsize=15,y=0.5,color='black')\n",
    "# cbar.set_ticks([4,5*10**(-5),5*10**(-5),5*10**(-5),5*10**(-5)]);\n",
    "# cbar.ax.set_yticklabels([0,'',0.5,'',1],fontsize=15);\n",
    "\n",
    "# plt.savefig('dissociation_simplified_landscape.pdf',format='pdf',bbox_inches='tight');\n",
    "#plt.savefig('dissociation_underfit.pdf',format='pdf',bbox_inches='tight');"
   ]
  },
  {
   "cell_type": "markdown",
   "metadata": {
    "collapsed": true
   },
   "source": [
    "### Now we set T=12 h and also scle the real on rate by a factor of 0.1"
   ]
  },
  {
   "cell_type": "code",
   "execution_count": 95,
   "metadata": {
    "collapsed": true
   },
   "outputs": [],
   "source": [
    "reload(Boyle);\n",
    "on_rate = np.loadtxt(delimiter=',', fname=Path+'3ModelOnRate.txt')\n",
    "off_rate = np.loadtxt(delimiter=',', fname=Path+'3ModelOffRate.txt')\n",
    "Pbound = np.loadtxt(delimiter=',', fname=Path+'3ModelOccupancy.txt')\n",
    "\n",
    "on_rate_predict = np.zeros([20,20])\n",
    "off_rate_predict = np.zeros([20,20])\n",
    "Pbound_predict = np.zeros([20,20])\n",
    "\n",
    "Pbound_OT,_,_ = Boyle.calc_Boyle(True, True, True,parameters, [])\n",
    "\n",
    "for i in range(0,20):\n",
    "    for j in range(0,20):\n",
    "        mismatch_positions = [20-i, 20-j]\n",
    "        if i==j:\n",
    "            mismatch_positions = [20-i]\n",
    "        predictions = Boyle.calc_Boyle(True, True, True,parameters, mismatch_positions)\n",
    "        Pbound_predict[i,j] = predictions[0]/Pbound_OT\n",
    "        on_rate_predict[i,j] = predictions[1]\n",
    "        off_rate_predict[i,j] = predictions[2]\n",
    "        \n"
   ]
  },
  {
   "cell_type": "code",
   "execution_count": 40,
   "metadata": {
    "collapsed": false
   },
   "outputs": [
    {
     "data": {
      "text/plain": [
       "'\\ncolorbar\\n'"
      ]
     },
     "execution_count": 40,
     "metadata": {},
     "output_type": "execute_result"
    },
    {
     "data": {
      "image/png": "[encoded data removed]",
      "text/plain": [
       "<matplotlib.figure.Figure at 0xe506630>"
      ]
     },
     "metadata": {},
     "output_type": "display_data"
    }
   ],
   "source": [
    "B =on_rate\n",
    "B *= 10**3\n",
    "mask = np.zeros(shape=B.shape)\n",
    "for i in range(len(B)):\n",
    "    for j in range(i-1,len(B)):\n",
    "        mask[i,j] = 1\n",
    "        \n",
    "axHeatmap=sns.heatmap(B, cmap='Reds',mask=mask,cbar=True,vmin=0);\n",
    "        \n",
    "    \n",
    "model = on_rate_predict\n",
    "model  *=10**3\n",
    "mask = np.ones(shape=model.shape)\n",
    "for i in range(len(model)):\n",
    "    for j in range(i+1,len(model)):\n",
    "        mask[i,j] = 0\n",
    "sns.heatmap(model, cmap='Reds',mask=mask,cbar=True,vmin=0);\n",
    "\n",
    "\n",
    "plt.xticks([i+0.5 for i in range(20)], \n",
    "           [20,'','','',15,'','','','',10,'','','','',5,'','','','',1], rotation=0);\n",
    "\n",
    "plt.yticks([i+0.5 for i in range(20)], \n",
    "           [1,'','','',5,'','','','',10,'','','','',15,'','','','',20], rotation=0);\n",
    "\n",
    "plt.xlabel('mismatch 1',fontsize=15);\n",
    "plt.ylabel('mismatch 2',fontsize=15);\n",
    "plt.title('(eff.) Binding Rate \\n ($ \\mu M^{-1} s^{-1}$)',fontsize=15);\n",
    "\n",
    "\n",
    "\n",
    "\n",
    "\n",
    "'''\n",
    "colorbar\n",
    "'''\n",
    "# cbar = axHeatmap.figure.colorbar(axHeatmap.axes.collections[0],aspect=15);\n",
    "# cbar.set_label(r'$\\mu M^{-1} s^{-1}$',rotation=-90, labelpad=-100,fontsize=15,y=0.5,color='black')\n",
    "# cbar.set_ticks([4,5*10**(-5),5*10**(-5),5*10**(-5),5*10**(-5)]);\n",
    "# cbar.ax.set_yticklabels([0,'',0.5,'',1],fontsize=15);\n",
    "\n",
    "\n",
    "# plt.savefig('association_generalmodel_globalfit.pdf',format='pdf',bbox_inches='tight')\n",
    "# plt.savefig('association_simplified_landscape.pdf',format='pdf',bbox_inches='tight');\n"
   ]
  },
  {
   "cell_type": "markdown",
   "metadata": {},
   "source": [
    "### Check calc_Chi_square "
   ]
  },
  {
   "cell_type": "code",
   "execution_count": 130,
   "metadata": {
    "collapsed": false
   },
   "outputs": [
    {
     "data": {
      "text/plain": [
       "<module 'Boyle_data_processing' from 'Boyle_data_processing.pyc'>"
      ]
     },
     "execution_count": 130,
     "metadata": {},
     "output_type": "execute_result"
    }
   ],
   "source": [
    "reload(Boyle)\n",
    "import Boyle_data_processing as Bdata\n",
    "reload(Bdata)"
   ]
  },
  {
   "cell_type": "code",
   "execution_count": 60,
   "metadata": {
    "collapsed": true
   },
   "outputs": [],
   "source": [
    "xdata_all, ydata_all = Bdata.prepare_multiprocessing()"
   ]
  },
  {
   "cell_type": "code",
   "execution_count": 96,
   "metadata": {
    "collapsed": false
   },
   "outputs": [
    {
     "data": {
      "text/plain": [
       "0.077196208191895113"
      ]
     },
     "execution_count": 96,
     "metadata": {},
     "output_type": "execute_result"
    }
   ],
   "source": [
    "xdata = xdata_all[0]\n",
    "ydata = ydata_all[0]\n",
    "yerr = []\n",
    "ONtarget_occupancy = Pbound_OT\n",
    "Boyle.calc_Chi_square(parameters,xdata,ydata,yerr,\n",
    "                    ONtarget_occupancy)"
   ]
  },
  {
   "cell_type": "code",
   "execution_count": 102,
   "metadata": {
    "collapsed": false
   },
   "outputs": [
    {
     "name": "stdout",
     "output_type": "stream",
     "text": [
      "0.0\n",
      "0.0\n",
      "0.0\n"
     ]
    }
   ],
   "source": [
    "[occ, on, off] = Boyle.calc_Boyle(True, True, True,parameters, xdata)\n",
    "\n",
    "ydata = (np.array([occ/ONtarget_occupancy]*3), np.array([on]), np.array([off]*2))\n",
    "print Boyle.calc_Chi_square(parameters,xdata,ydata,yerr,\n",
    "                    ONtarget_occupancy)\n",
    "\n",
    "ydata = (np.array([occ/ONtarget_occupancy]*3), np.array([]), np.array([off]*2))\n",
    "print Boyle.calc_Chi_square(parameters,xdata,ydata,yerr,\n",
    "                    ONtarget_occupancy)\n",
    "\n",
    "ydata = (np.array([occ/ONtarget_occupancy]*3), np.array([on]), np.array([]))\n",
    "print Boyle.calc_Chi_square(parameters,xdata,ydata,yerr,\n",
    "                    ONtarget_occupancy)"
   ]
  },
  {
   "cell_type": "markdown",
   "metadata": {},
   "source": [
    "### Check weights_averages"
   ]
  },
  {
   "cell_type": "code",
   "execution_count": 129,
   "metadata": {
    "collapsed": false
   },
   "outputs": [
    {
     "data": {
      "text/plain": [
       "array([  2.45209549e+00,   1.29538499e+08,   4.45983372e+08])"
      ]
     },
     "execution_count": 129,
     "metadata": {},
     "output_type": "execute_result"
    }
   ],
   "source": [
    "Bdata.weights_averages()"
   ]
  },
  {
   "cell_type": "markdown",
   "metadata": {},
   "source": [
    "### Python class example"
   ]
  },
  {
   "cell_type": "code",
   "execution_count": 106,
   "metadata": {
    "collapsed": false
   },
   "outputs": [
    {
     "name": "stdout",
     "output_type": "stream",
     "text": [
      "woef!\n",
      "B...\n",
      "i...\n",
      "n...\n",
      "g...\n",
      "o...\n"
     ]
    }
   ],
   "source": [
    "class Dog():\n",
    "    \n",
    "    def __init__(self, age, name,trick):\n",
    "        self.age = age\n",
    "        self.name = name\n",
    "        self.trick=trick\n",
    "    \n",
    "    def bark(self):\n",
    "        print \"woef!\"\n",
    "    def what_is_your_name(self):\n",
    "        for letter in self.name:\n",
    "            print letter + '...'\n",
    "    \n",
    "        \n",
    "        \n",
    "Bingo = Dog(name='Bingo',age=2,trick=np.sqrt)\n",
    "Bingo.bark()\n",
    "Bingo.name\n",
    "Bingo.what_is_your_name()"
   ]
  },
  {
   "cell_type": "code",
   "execution_count": null,
   "metadata": {
    "collapsed": true
   },
   "outputs": [],
   "source": []
  }
 ],
 "metadata": {
  "kernelspec": {
   "display_name": "Python [Root]",
   "language": "python",
   "name": "Python [Root]"
  },
  "language_info": {
   "codemirror_mode": {
    "name": "ipython",
    "version": 2
   },
   "file_extension": ".py",
   "mimetype": "text/x-python",
   "name": "python",
   "nbconvert_exporter": "python",
   "pygments_lexer": "ipython2",
   "version": "2.7.11"
  }
 },
 "nbformat": 4,
 "nbformat_minor": 2
}
