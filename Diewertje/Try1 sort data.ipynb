{
 "cells": [
  {
   "cell_type": "code",
   "execution_count": 1,
   "metadata": {},
   "outputs": [],
   "source": [
    "import numpy as np \n",
    "import pandas as pd\n",
    "import Bio\n",
    "from Bio.pairwise2 import format_alignment\n",
    "import copy\n",
    "\n",
    "import sys \n",
    "sys.path.append('../code_general_Finkelsteinlab/')\n",
    "\n",
    "import Process_SeqLibrary_Finkelsteinlab as preprocess\n",
    "\n",
    "import plotting_Finkelsteinlab as pltData\n",
    "\n",
    "%matplotlib inline \n",
    "import matplotlib.pylab as plt "
   ]
  },
  {
   "cell_type": "code",
   "execution_count": 2,
   "metadata": {},
   "outputs": [
    {
     "name": "stdout",
     "output_type": "stream",
     "text": [
      "[array([1]), array([10])]\n",
      "[[2.107582, 2.2418720000000003, 2.19105, 2.128268, 2.136484, 2.15305, 2.2701990000000003, 2.211512, 2.178649, 2.1892560000000003, 2.210899, 2.231373, 2.142187, 1.848123, 1.97554, 2.183333, 2.049935, 2.199445, 2.240856, 2.242004, 2.201306, 2.184312, 2.202237, 2.271958, 2.196158, 2.156701, 2.130128, 2.1343900000000002, 2.153825, 2.150444, 1.962753, 2.235647, 2.200695, 2.069164, 2.1381330000000003, 2.155552, 2.179248, 2.083879, 1.8498139999999998, 2.1984169999999996, 2.1897729999999997, 2.2370900000000002, 2.180273, 2.185925, 2.413176, 2.192801, 2.079257, 1.967932], [0.212308, 0.62721, 0.5690470000000001, 0.7840779999999999, 0.327397, 0.795272, 0.46398999999999996, 0.853942, 0.533552, 0.794582, 0.47755200000000003, 0.9220379999999999, 0.891862, 0.667221, 0.363523, 0.554671, 0.461413, 0.789131, 0.7857029999999999, 0.681701, 0.44807700000000006, 0.7963680000000001, 0.798054, 0.8555229999999999, 0.307153, 0.883461, 0.315629, 0.49782, 0.726675, 0.8466049999999999, 0.364379, 0.8604350000000001, 0.927205, 0.349073, 0.937348, 0.695176, 0.752484, 0.6212300000000001, 0.821789, 0.747865, 0.849397, 0.515676, 0.9423229999999999, 0.762857, 0.654716, 0.6786770000000001, 0.985125, 0.686616]]\n",
      "[[0.048699, 0.052123, 0.052266999999999994, 0.056248, 0.071385, 0.048387, 0.043407999999999995, 0.043162, 0.034616, 0.046157, 0.028472000000000004, 0.045868, 0.03678, 0.038254, 0.033494, 0.037908, 0.047285, 0.039731, 0.037594999999999996, 0.025456, 0.030659, 0.034459, 0.033201, 0.039252999999999996, 0.042138, 0.039914, 0.045087999999999996, 0.047598, 0.045769, 0.043442, 0.040734, 0.048159, 0.028872000000000002, 0.047832, 0.048451999999999995, 0.054991, 0.031649000000000004, 0.052263, 0.067075, 0.046504000000000004, 0.044355, 0.034352, 0.031612, 0.044586, 0.048649, 0.044608999999999996, 0.027811000000000002, 0.059616999999999996], [0.07157899999999999, 0.079574, 0.05536900000000001, 0.077303, 0.06329800000000001, 0.078173, 0.09110599999999999, 0.071978, 0.054888, 0.052833000000000005, 0.064569, 0.058681, 0.046984, 0.104747, 0.043687000000000004, 0.077274, 0.056245, 0.084316, 0.059088, 0.067888, 0.049901999999999995, 0.056209, 0.047934, 0.068484, 0.070535, 0.065676, 0.078618, 0.059239, 0.056528999999999996, 0.048049, 0.066288, 0.046333, 0.064118, 0.048933, 0.059869000000000006, 0.055364, 0.059459000000000005, 0.061607, 0.059571000000000006, 0.045307, 0.082076, 0.066609, 0.060658000000000004, 0.062792, 0.049417, 0.077986, 0.06327100000000001, 0.06712]]\n"
     ]
    }
   ],
   "source": [
    "import Prepare_data as Pre\n",
    "path = '../Data_ABA_Finkelsteinlab/' \n",
    "filename= 'cas9-target-e-replicate-1-delta-abas_Canonical_OT-r_0-2.csv'\n",
    "xdata,ydata,yerr=Pre.Prepare_Cdata(path,filename)\n",
    "print(xdata[0:2])\n",
    "print(ydata[0:2])\n",
    "print(yerr[0:2])"
   ]
  },
  {
   "cell_type": "code",
   "execution_count": 3,
   "metadata": {},
   "outputs": [],
   "source": [
    "upper_bnd =  [10.0] + [10.0]*40 +  [3.0] *2\n",
    "lower_bnd = [0.0] + [-10.0]*40 + [-7.0] *2\n",
    "initial_guess =  [5.0] + [0.0]*40 + [0.0] *2"
   ]
  },
  {
   "cell_type": "code",
   "execution_count": 4,
   "metadata": {},
   "outputs": [],
   "source": [
    "import Chisq_Finkelstein as Chi\n",
    "import SimulatedAnnealing_Finkelstein_parallel as SA\n",
    "import sys\n",
    "import Calculate_ABA_Finkelsteinlab_Diewertje as ABA\n",
    "\n",
    "import functools"
   ]
  },
  {
   "cell_type": "code",
   "execution_count": 6,
   "metadata": {},
   "outputs": [
    {
     "name": "stdout",
     "output_type": "stream",
     "text": [
      "____________\n",
      "[5.  1.  1.  1.  1.  1.  1.  1.  1.  1.  1.  1.  1.  1.  1.  1.  1.  1.\n",
      " 1.  1.  1.  1.  1.  1.  1.  1.  1.  1.  1.  1.  1.  1.  1.  1.  1.  1.\n",
      " 1.  1.  1.  1.  1.  0.5 0.5]\n",
      "_________________\n",
      "[0.5 0.5 0.5 0.5 0.5 0.5 0.5 0.5 0.5 0.5 0.5 0.5 0.5 0.5 0.5 0.5 0.5 0.5\n",
      " 0.5 0.5 0.5 0. ]\n"
     ]
    },
    {
     "data": {
      "text/plain": [
       "array([[ -0.5       ,  74.20657955,   0.        ,   0.        ,\n",
       "          0.        ,   0.        ,   0.        ,   0.        ,\n",
       "          0.        ,   0.        ,   0.        ,   0.        ,\n",
       "          0.        ,   0.        ,   0.        ,   0.        ,\n",
       "          0.        ,   0.        ,   0.        ,   0.        ,\n",
       "          0.        ,   0.        ],\n",
       "       [  0.5       , -74.70657955,   0.18393972,   0.        ,\n",
       "          0.        ,   0.        ,   0.        ,   0.        ,\n",
       "          0.        ,   0.        ,   0.        ,   0.        ,\n",
       "          0.        ,   0.        ,   0.        ,   0.        ,\n",
       "          0.        ,   0.        ,   0.        ,   0.        ,\n",
       "          0.        ,   0.        ],\n",
       "       [  0.        ,   0.5       ,  -0.68393972,   0.18393972,\n",
       "          0.        ,   0.        ,   0.        ,   0.        ,\n",
       "          0.        ,   0.        ,   0.        ,   0.        ,\n",
       "          0.        ,   0.        ,   0.        ,   0.        ,\n",
       "          0.        ,   0.        ,   0.        ,   0.        ,\n",
       "          0.        ,   0.        ],\n",
       "       [  0.        ,   0.        ,   0.5       ,  -0.68393972,\n",
       "          0.18393972,   0.        ,   0.        ,   0.        ,\n",
       "          0.        ,   0.        ,   0.        ,   0.        ,\n",
       "          0.        ,   0.        ,   0.        ,   0.        ,\n",
       "          0.        ,   0.        ,   0.        ,   0.        ,\n",
       "          0.        ,   0.        ],\n",
       "       [  0.        ,   0.        ,   0.        ,   0.5       ,\n",
       "         -0.68393972,   0.18393972,   0.        ,   0.        ,\n",
       "          0.        ,   0.        ,   0.        ,   0.        ,\n",
       "          0.        ,   0.        ,   0.        ,   0.        ,\n",
       "          0.        ,   0.        ,   0.        ,   0.        ,\n",
       "          0.        ,   0.        ],\n",
       "       [  0.        ,   0.        ,   0.        ,   0.        ,\n",
       "          0.5       ,  -0.68393972,   0.18393972,   0.        ,\n",
       "          0.        ,   0.        ,   0.        ,   0.        ,\n",
       "          0.        ,   0.        ,   0.        ,   0.        ,\n",
       "          0.        ,   0.        ,   0.        ,   0.        ,\n",
       "          0.        ,   0.        ],\n",
       "       [  0.        ,   0.        ,   0.        ,   0.        ,\n",
       "          0.        ,   0.5       ,  -0.68393972,   0.18393972,\n",
       "          0.        ,   0.        ,   0.        ,   0.        ,\n",
       "          0.        ,   0.        ,   0.        ,   0.        ,\n",
       "          0.        ,   0.        ,   0.        ,   0.        ,\n",
       "          0.        ,   0.        ],\n",
       "       [  0.        ,   0.        ,   0.        ,   0.        ,\n",
       "          0.        ,   0.        ,   0.5       ,  -0.68393972,\n",
       "          0.18393972,   0.        ,   0.        ,   0.        ,\n",
       "          0.        ,   0.        ,   0.        ,   0.        ,\n",
       "          0.        ,   0.        ,   0.        ,   0.        ,\n",
       "          0.        ,   0.        ],\n",
       "       [  0.        ,   0.        ,   0.        ,   0.        ,\n",
       "          0.        ,   0.        ,   0.        ,   0.5       ,\n",
       "         -0.68393972,   0.18393972,   0.        ,   0.        ,\n",
       "          0.        ,   0.        ,   0.        ,   0.        ,\n",
       "          0.        ,   0.        ,   0.        ,   0.        ,\n",
       "          0.        ,   0.        ],\n",
       "       [  0.        ,   0.        ,   0.        ,   0.        ,\n",
       "          0.        ,   0.        ,   0.        ,   0.        ,\n",
       "          0.5       ,  -0.68393972,   0.18393972,   0.        ,\n",
       "          0.        ,   0.        ,   0.        ,   0.        ,\n",
       "          0.        ,   0.        ,   0.        ,   0.        ,\n",
       "          0.        ,   0.        ],\n",
       "       [  0.        ,   0.        ,   0.        ,   0.        ,\n",
       "          0.        ,   0.        ,   0.        ,   0.        ,\n",
       "          0.        ,   0.5       ,  -0.68393972,   0.18393972,\n",
       "          0.        ,   0.        ,   0.        ,   0.        ,\n",
       "          0.        ,   0.        ,   0.        ,   0.        ,\n",
       "          0.        ,   0.        ],\n",
       "       [  0.        ,   0.        ,   0.        ,   0.        ,\n",
       "          0.        ,   0.        ,   0.        ,   0.        ,\n",
       "          0.        ,   0.        ,   0.5       ,  -0.68393972,\n",
       "          0.18393972,   0.        ,   0.        ,   0.        ,\n",
       "          0.        ,   0.        ,   0.        ,   0.        ,\n",
       "          0.        ,   0.        ],\n",
       "       [  0.        ,   0.        ,   0.        ,   0.        ,\n",
       "          0.        ,   0.        ,   0.        ,   0.        ,\n",
       "          0.        ,   0.        ,   0.        ,   0.5       ,\n",
       "         -0.68393972,   0.18393972,   0.        ,   0.        ,\n",
       "          0.        ,   0.        ,   0.        ,   0.        ,\n",
       "          0.        ,   0.        ],\n",
       "       [  0.        ,   0.        ,   0.        ,   0.        ,\n",
       "          0.        ,   0.        ,   0.        ,   0.        ,\n",
       "          0.        ,   0.        ,   0.        ,   0.        ,\n",
       "          0.5       ,  -0.68393972,   0.18393972,   0.        ,\n",
       "          0.        ,   0.        ,   0.        ,   0.        ,\n",
       "          0.        ,   0.        ],\n",
       "       [  0.        ,   0.        ,   0.        ,   0.        ,\n",
       "          0.        ,   0.        ,   0.        ,   0.        ,\n",
       "          0.        ,   0.        ,   0.        ,   0.        ,\n",
       "          0.        ,   0.5       ,  -0.68393972,   0.18393972,\n",
       "          0.        ,   0.        ,   0.        ,   0.        ,\n",
       "          0.        ,   0.        ],\n",
       "       [  0.        ,   0.        ,   0.        ,   0.        ,\n",
       "          0.        ,   0.        ,   0.        ,   0.        ,\n",
       "          0.        ,   0.        ,   0.        ,   0.        ,\n",
       "          0.        ,   0.        ,   0.5       ,  -0.68393972,\n",
       "          0.18393972,   0.        ,   0.        ,   0.        ,\n",
       "          0.        ,   0.        ],\n",
       "       [  0.        ,   0.        ,   0.        ,   0.        ,\n",
       "          0.        ,   0.        ,   0.        ,   0.        ,\n",
       "          0.        ,   0.        ,   0.        ,   0.        ,\n",
       "          0.        ,   0.        ,   0.        ,   0.5       ,\n",
       "         -0.68393972,   0.18393972,   0.        ,   0.        ,\n",
       "          0.        ,   0.        ],\n",
       "       [  0.        ,   0.        ,   0.        ,   0.        ,\n",
       "          0.        ,   0.        ,   0.        ,   0.        ,\n",
       "          0.        ,   0.        ,   0.        ,   0.        ,\n",
       "          0.        ,   0.        ,   0.        ,   0.        ,\n",
       "          0.5       ,  -0.68393972,   0.18393972,   0.        ,\n",
       "          0.        ,   0.        ],\n",
       "       [  0.        ,   0.        ,   0.        ,   0.        ,\n",
       "          0.        ,   0.        ,   0.        ,   0.        ,\n",
       "          0.        ,   0.        ,   0.        ,   0.        ,\n",
       "          0.        ,   0.        ,   0.        ,   0.        ,\n",
       "          0.        ,   0.5       ,  -0.68393972,   0.18393972,\n",
       "          0.        ,   0.        ],\n",
       "       [  0.        ,   0.        ,   0.        ,   0.        ,\n",
       "          0.        ,   0.        ,   0.        ,   0.        ,\n",
       "          0.        ,   0.        ,   0.        ,   0.        ,\n",
       "          0.        ,   0.        ,   0.        ,   0.        ,\n",
       "          0.        ,   0.        ,   0.5       ,  -0.68393972,\n",
       "          0.18393972,   0.        ],\n",
       "       [  0.        ,   0.        ,   0.        ,   0.        ,\n",
       "          0.        ,   0.        ,   0.        ,   0.        ,\n",
       "          0.        ,   0.        ,   0.        ,   0.        ,\n",
       "          0.        ,   0.        ,   0.        ,   0.        ,\n",
       "          0.        ,   0.        ,   0.        ,   0.5       ,\n",
       "         -0.68393972,   0.18393972],\n",
       "       [  0.        ,   0.        ,   0.        ,   0.        ,\n",
       "          0.        ,   0.        ,   0.        ,   0.        ,\n",
       "          0.        ,   0.        ,   0.        ,   0.        ,\n",
       "          0.        ,   0.        ,   0.        ,   0.        ,\n",
       "          0.        ,   0.        ,   0.        ,   0.        ,\n",
       "          0.5       ,  -0.18393972]])"
      ]
     },
     "execution_count": 6,
     "metadata": {},
     "output_type": "execute_result"
    }
   ],
   "source": [
    "# parameters =  np.array([5.0] + [1.0]*40 + [0.5] *2)\n",
    "# concentrations = np.array([0.1, 0.3, 1, 3, 10, 30, 100, 300]) # in nanoMolair\n",
    "# reference=1 # in nanomolair\n",
    "\n",
    "# ontarget_ABA=ABA.calc_ABA(parameters,concentrations,reference, mismatch_positions=[],model_id = 'general_energies', guide_length = 20, T=10*60)\n",
    "# Pbound=ABA.calc_Pbound(parameters,concentrations,reference,mismatch_positions=[],model_id = 'general_energies', guide_length = 20, T=10*60)\n",
    "# print(Pbound)\n",
    "\n",
    "#mABA=ABA.calc_delta_ABA(parameters,concentrations,reference, xdata[10],ontarget_ABA,model_id = 'general_energies', guide_length = 20, T=10*60)\n",
    "#print(mABA)\n",
    "#chi=Chi.calc_Chi_square(parameters,xdata[10],np.ones(len(yerr[10]))*mABA,yerr[10],concentrations,\n",
    "        #                     reference,guide_length=20,model_id='general_energies')\n",
    "#print(chi)\n",
    "# THIS WAS TO CHECK IF CHI IS 0 IF THE mABA IS THE SAME AS YDATA\n",
    "\n",
    "#chi=Chi.calc_Chi_square(parameters,xdata[1],ydata[1],yerr[1],concentrations,\n",
    " #                            reference,guide_length=20,model_id='general_energies')\n",
    "#print(chi)\n",
    "\n",
    "ABA.get_master_equation(parameters,mismatch_positions=[],model_id='general_energies', guide_length=20)\n",
    "# plot to see the fit\n",
    "# import matplotlib.pylab as plt\n",
    "# plt.plot(range(10),mABA)\n",
    "# for i in range(10):\n",
    "#     m=np.ones(len(ydata[i]))*i\n",
    "#     plt.scatter(m,ydata[i])\n",
    "# #KineticModel(parameters,xdata[0],ydata[0],yerr[0])\n",
    "# print(mABA)\n",
    "# new_ydata=mABA\n",
    "\n",
    "# IT DOES RUN, SO THE CHI SQUARE FUNCTION WORKS, THE REASON WHY IT IS SUCH A POOR FIT,\n",
    "# IS THAT I JUST TOOK SOME INITIAL PARAMETERS\n",
    "\n",
    "# Om het te laten werken, remove the # in the functie in python file!"
   ]
  },
  {
   "cell_type": "code",
   "execution_count": null,
   "metadata": {},
   "outputs": [],
   "source": [
    "gRNA_length = 20\n",
    "model_ID = 'general_energies'\n",
    "parameters =  np.array([5.0] + [1.0]*40 + [0.5] *2)\n",
    "concentrations = np.array([0, 0.1, 0.3, 1, 3, 10, 30, 100, 300]) # in nanoMolair\n",
    "reference=1 # in nanomolair\n",
    "\n",
    "KineticModel = functools.partial(Chi.calc_Chi_square,model_id=model_ID, guide_length=20,\n",
    "                                 concentrations=concentrations,reference=reference)\n",
    "chi=KineticModel(parameters,xdata[0:10],ydata[0:10],yerr[0:10])\n",
    "print(chi)"
   ]
  },
  {
   "cell_type": "code",
   "execution_count": null,
   "metadata": {},
   "outputs": [],
   "source": [
    "new_ydata=mABA\n",
    "chi,mABA=Chi.calc_Chi_square(parameters,xdata[0:10],new_ydata,yerr[0:10],concentrations,\n",
    "                             reference,guide_length=20,model_id='general_energies')\n",
    "print(chi)\n",
    "# plot to see the fit\n",
    "import matplotlib.pylab as plt\n",
    "plt.plot(range(10),mABA)\n",
    "for i in range(10):\n",
    "    m=np.ones(len(ydata[i]))*i\n",
    "    plt.scatter(m,ydata[i])"
   ]
  },
  {
   "cell_type": "code",
   "execution_count": null,
   "metadata": {},
   "outputs": [],
   "source": []
  },
  {
   "cell_type": "code",
   "execution_count": null,
   "metadata": {},
   "outputs": [],
   "source": []
  },
  {
   "cell_type": "code",
   "execution_count": null,
   "metadata": {},
   "outputs": [],
   "source": [
    "# to try without the working function from berouz\n",
    "df=pd.DataFrame()\n",
    "df['MMpos']=['1|6','1|6','7|2','8|3','19|1','15,8']\n",
    "df['ABA']=[6,4,9,3,8,2]\n",
    "df['Uncertainty']=[0.1,0.03,0.3,0.2,0.68,0.9]\n",
    "Grouped = df.groupby('MMpos').agg(lambda x: list(x))\n",
    "Grouped.reset_index(inplace=True)\n",
    "Grouped\n"
   ]
  },
  {
   "cell_type": "code",
   "execution_count": null,
   "metadata": {},
   "outputs": [],
   "source": [
    "s='7|22'\n",
    "s.split('|')\n",
    "mm = np.array(s.split('|')).astype(int)\n",
    "mm"
   ]
  },
  {
   "cell_type": "code",
   "execution_count": null,
   "metadata": {},
   "outputs": [],
   "source": [
    "MMpos=Grouped['MMpos'].tolist()\n",
    "ABA=Grouped['ABA'].tolist()\n",
    "Uncertainty=Grouped['Uncertainty'].tolist()\n",
    "\n",
    "#df['df.apply('functionname',axis=1)"
   ]
  },
  {
   "cell_type": "code",
   "execution_count": null,
   "metadata": {},
   "outputs": [],
   "source": [
    "Path = '../Data_ABA_Finkelsteinlab/cas9-target-e-replicate-1-delta-abas.txt'\n",
    "data = pd.read_table(Path,comment='#')\n",
    "#data"
   ]
  },
  {
   "cell_type": "code",
   "execution_count": null,
   "metadata": {},
   "outputs": [],
   "source": [
    "Cas='Cas9'\n",
    "on_target = 'TTTAGACGCATAAAGATGAGACGCTGG'\n",
    "seq_colname = 'Sequence'\n",
    "output_colnames = ['Delta ABA (kBT)', 'Uncertainty']\n",
    "out_file_name = 'Cas9_target_e.csv'\n",
    "out_path = '../Data_ABA_Finkelsteinlab/cas9-target-e-replicate-1-delta-abas.txt'\n",
    "\n",
    "new_data = preprocess.process_Finkelstein_Library(data, on_target, seq_colname, output_colnames, Cas, \n",
    "                                                  Canonical_PAM = True, Mut_type = ['OT','r'], Mut_min = 0, Mut_max = 20,\n",
    "                                                  out_file_name = out_file_name, out_path = out_path, nofilter = False,\n",
    "                                                  save_data = True)\n"
   ]
  },
  {
   "cell_type": "code",
   "execution_count": null,
   "metadata": {},
   "outputs": [],
   "source": [
    "fit_result_file= 'fit_results.txt'\n",
    "monitor_file = 'monitor.txt'\n",
    "init_monitor_file='init_monitor.txt'\n",
    "\n",
    "gRNA_length = 20\n",
    "model_ID = 'general_energies'\n",
    "parameters =  np.array([5.0] + [1.0]*40 + [0.5] *2)\n",
    "concentrations = np.array([0.1, 0.3, 1, 3, 10, 30, 100, 300]) # in nanoMolair\n",
    "reference=1 # in nanomolair\n",
    "\n",
    "KineticModel = functools.partial(Chi.calc_Chi_square,model_id=model_ID, guide_length=20,\n",
    "                                 concentrations=concentrations,reference=reference)\n",
    "\n",
    "fit_result = SA.sim_anneal_fit(xdata=xdata[0],\n",
    "                                ydata=ydata[0],\n",
    "                                yerr = yerr[0],\n",
    "                                Xstart= np.array(initial_guess),\n",
    "                                lwrbnd= np.array(lower_bnd),\n",
    "                                upbnd= np.array(upper_bnd),\n",
    "                                model='I_am_using_multi_processing_in_stead',\n",
    "                                objective_function=KineticModel,\n",
    "                                on_target_function=ABA.calc_ABA,\n",
    "                                Tstart=100.,             # infered from run on my computer/other runs on cluster\n",
    "                                use_relative_steps=False,\n",
    "                                delta=1.0,\n",
    "                                tol=1E-5,\n",
    "                                Tfinal=50,\n",
    "                                adjust_factor=1.1,\n",
    "                                cooling_rate=0.5,\n",
    "                                N_int=10,\n",
    "                                AR_low=0,\n",
    "                                AR_high=100,\n",
    "                                use_multiprocessing=True,\n",
    "                                nprocs=1,\n",
    "                                output_file_results = fit_result_file,\n",
    "                                output_file_monitor = monitor_file,\n",
    "                                output_file_init_monitor=init_monitor_file\n",
    "                              )"
   ]
  },
  {
   "cell_type": "code",
   "execution_count": null,
   "metadata": {},
   "outputs": [],
   "source": [
    "def f(a,b):\n",
    "    return a+b\n",
    "import functools\n",
    "g=functools.partial(f,b=5)\n",
    "print(f(1,5))\n",
    "print(g(1))"
   ]
  },
  {
   "cell_type": "code",
   "execution_count": 9,
   "metadata": {},
   "outputs": [
    {
     "data": {
      "text/plain": [
       "44"
      ]
     },
     "execution_count": 9,
     "metadata": {},
     "output_type": "execute_result"
    }
   ],
   "source": [
    "len(np.loadtxt('parameters.txt'))"
   ]
  },
  {
   "cell_type": "code",
   "execution_count": null,
   "metadata": {},
   "outputs": [],
   "source": []
  }
 ],
 "metadata": {
  "kernelspec": {
   "display_name": "Python 3",
   "language": "python",
   "name": "python3"
  },
  "language_info": {
   "codemirror_mode": {
    "name": "ipython",
    "version": 3
   },
   "file_extension": ".py",
   "mimetype": "text/x-python",
   "name": "python",
   "nbconvert_exporter": "python",
   "pygments_lexer": "ipython3",
   "version": "3.6.5"
  }
 },
 "nbformat": 4,
 "nbformat_minor": 2
}
