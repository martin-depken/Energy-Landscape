{
 "cells": [
  {
   "cell_type": "code",
   "execution_count": 2,
   "metadata": {},
   "outputs": [],
   "source": [
    "import numpy as np \n",
    "import pandas as pd\n",
    "import Bio\n",
    "from Bio.pairwise2 import format_alignment\n",
    "import copy\n",
    "\n",
    "import sys \n",
    "sys.path.append('../code_general_Finkelsteinlab/')\n",
    "\n",
    "import Process_SeqLibrary_Finkelsteinlab as preprocess\n",
    "\n",
    "import plotting_Finkelsteinlab as pltData\n",
    "\n",
    "%matplotlib inline \n",
    "import matplotlib.pylab as plt "
   ]
  },
  {
   "cell_type": "code",
   "execution_count": 3,
   "metadata": {},
   "outputs": [],
   "source": [
    "import Prepare_data as Pre\n",
    "path = '../Data_ABA_Finkelsteinlab/' \n",
    "filename= 'cas9-target-e-replicate-1-delta-abas_Canonical_OT-r_0-2.csv'\n",
    "xdata,ydata,yerr=Pre.Prepare_Cdata(path,filename)\n"
   ]
  },
  {
   "cell_type": "code",
   "execution_count": 4,
   "metadata": {},
   "outputs": [],
   "source": [
    "upper_bnd =  [10.0] + [10.0]*40 +  [3.0] *2\n",
    "lower_bnd = [0.0] + [-10.0]*40 + [-7.0] *2\n",
    "initial_guess =  [5.0] + [0.0]*40 + [0.0] *2"
   ]
  },
  {
   "cell_type": "code",
   "execution_count": 5,
   "metadata": {},
   "outputs": [],
   "source": [
    "import Chisq_Finkelstein as Chi\n",
    "import SimulatedAnnealing_Finkelstein_parallel as SA\n",
    "import sys\n",
    "sys.path.append('../code_ABA_Finkelsteinlab/')\n",
    "import Calculate_ABA_Finkelsteinlab as ABA\n",
    "\n",
    "import functools"
   ]
  },
  {
   "cell_type": "code",
   "execution_count": 1,
   "metadata": {},
   "outputs": [
    {
     "ename": "NameError",
     "evalue": "name 'np' is not defined",
     "output_type": "error",
     "traceback": [
      "\u001b[1;31m---------------------------------------------------------------------------\u001b[0m",
      "\u001b[1;31mNameError\u001b[0m                                 Traceback (most recent call last)",
      "\u001b[1;32m<ipython-input-1-dff3de262a03>\u001b[0m in \u001b[0;36m<module>\u001b[1;34m()\u001b[0m\n\u001b[1;32m----> 1\u001b[1;33m \u001b[0mparameters\u001b[0m \u001b[1;33m=\u001b[0m  \u001b[0mnp\u001b[0m\u001b[1;33m.\u001b[0m\u001b[0marray\u001b[0m\u001b[1;33m(\u001b[0m\u001b[1;33m[\u001b[0m\u001b[1;36m5.0\u001b[0m\u001b[1;33m]\u001b[0m \u001b[1;33m+\u001b[0m \u001b[1;33m[\u001b[0m\u001b[1;36m1.0\u001b[0m\u001b[1;33m]\u001b[0m\u001b[1;33m*\u001b[0m\u001b[1;36m40\u001b[0m \u001b[1;33m+\u001b[0m \u001b[1;33m[\u001b[0m\u001b[1;36m0.5\u001b[0m\u001b[1;33m]\u001b[0m \u001b[1;33m*\u001b[0m\u001b[1;36m2\u001b[0m\u001b[1;33m)\u001b[0m\u001b[1;33m\u001b[0m\u001b[0m\n\u001b[0m\u001b[0;32m      2\u001b[0m \u001b[0mconcentrations\u001b[0m \u001b[1;33m=\u001b[0m \u001b[0mnp\u001b[0m\u001b[1;33m.\u001b[0m\u001b[0marray\u001b[0m\u001b[1;33m(\u001b[0m\u001b[1;33m[\u001b[0m\u001b[1;36m0.1\u001b[0m\u001b[1;33m,\u001b[0m \u001b[1;36m0.3\u001b[0m\u001b[1;33m,\u001b[0m \u001b[1;36m1\u001b[0m\u001b[1;33m,\u001b[0m \u001b[1;36m3\u001b[0m\u001b[1;33m,\u001b[0m \u001b[1;36m10\u001b[0m\u001b[1;33m,\u001b[0m \u001b[1;36m30\u001b[0m\u001b[1;33m,\u001b[0m \u001b[1;36m100\u001b[0m\u001b[1;33m,\u001b[0m \u001b[1;36m300\u001b[0m\u001b[1;33m]\u001b[0m\u001b[1;33m)\u001b[0m \u001b[1;31m# in nanoMolair\u001b[0m\u001b[1;33m\u001b[0m\u001b[0m\n\u001b[0;32m      3\u001b[0m \u001b[0mreference\u001b[0m\u001b[1;33m=\u001b[0m\u001b[1;36m1\u001b[0m \u001b[1;31m# in nanomolair\u001b[0m\u001b[1;33m\u001b[0m\u001b[0m\n\u001b[0;32m      4\u001b[0m \u001b[1;31m#ontarget_ABA=ABA.calc_ABA(parameters,concentrations,reference, mismatch_positions=[],model_id = 'general_energies', guide_length = 20, T=10*60)\u001b[0m\u001b[1;33m\u001b[0m\u001b[1;33m\u001b[0m\u001b[0m\n\u001b[0;32m      5\u001b[0m \u001b[1;31m#mABA=ABA.calc_delta_ABA(parameters,concentrations,reference, xdata[0],ontarget_ABA,model_id = 'general_energies', guide_length = 20, T=10*60)\u001b[0m\u001b[1;33m\u001b[0m\u001b[1;33m\u001b[0m\u001b[0m\n",
      "\u001b[1;31mNameError\u001b[0m: name 'np' is not defined"
     ]
    }
   ],
   "source": [
    "parameters =  np.array([5.0] + [1.0]*40 + [0.5] *2)\n",
    "concentrations = np.array([0.1, 0.3, 1, 3, 10, 30, 100, 300]) # in nanoMolair\n",
    "reference=1 # in nanomolair\n",
    "#ontarget_ABA=ABA.calc_ABA(parameters,concentrations,reference, mismatch_positions=[],model_id = 'general_energies', guide_length = 20, T=10*60)\n",
    "#mABA=ABA.calc_delta_ABA(parameters,concentrations,reference, xdata[0],ontarget_ABA,model_id = 'general_energies', guide_length = 20, T=10*60)\n",
    "\n",
    "chi,mABA=Chi.calc_Chi_square(parameters,xdata[0:10],ydata[0:10],yerr[0:10],concentrations,\n",
    "                             reference,guide_length=20,model_id='general_energies')\n",
    "print(chi)\n",
    "# plot to see the fit\n",
    "import matplotlib.pylab as plt\n",
    "plt.plot(range(10),mABA)\n",
    "for i in range(10):\n",
    "    m=np.ones(len(ydata[i]))*i\n",
    "    plt.scatter(m,ydata[i])\n",
    "#KineticModel(parameters,xdata[0],ydata[0],yerr[0])\n",
    "print(mABA)\n",
    "new_ydata=mABA\n",
    "\n",
    "# IT DOES RUN, SO THE CHI SQUARE FUNCTION WORKS, THE REASON WHY IT IS SUCH A POOR FIT,\n",
    "# IS THAT I JUST TOOK SOME INITIAL PARAMETERS\n",
    "\n",
    "# Om het te laten werken, remove the # in the functie in python file!"
   ]
  },
  {
   "cell_type": "code",
   "execution_count": 6,
   "metadata": {},
   "outputs": [
    {
     "name": "stderr",
     "output_type": "stream",
     "text": [
      "../code_ABA_Finkelsteinlab\\Calculate_ABA_Finkelsteinlab.py:37: RuntimeWarning: divide by zero encountered in true_divide\n",
      "  return (1.0+Kd/C)**(-1)\n"
     ]
    },
    {
     "ename": "TypeError",
     "evalue": "'numpy.float64' object is not iterable",
     "output_type": "error",
     "traceback": [
      "\u001b[1;31m---------------------------------------------------------------------------\u001b[0m",
      "\u001b[1;31mTypeError\u001b[0m                                 Traceback (most recent call last)",
      "\u001b[1;32m<ipython-input-6-2edcb04072f3>\u001b[0m in \u001b[0;36m<module>\u001b[1;34m()\u001b[0m\n\u001b[0;32m      7\u001b[0m KineticModel = functools.partial(Chi.calc_Chi_square,model_id=model_ID, guide_length=20,\n\u001b[0;32m      8\u001b[0m                                  concentrations=concentrations,reference=reference)\n\u001b[1;32m----> 9\u001b[1;33m \u001b[0mchi\u001b[0m\u001b[1;33m,\u001b[0m\u001b[0mmABA\u001b[0m\u001b[1;33m=\u001b[0m\u001b[0mKineticModel\u001b[0m\u001b[1;33m(\u001b[0m\u001b[0mparameters\u001b[0m\u001b[1;33m,\u001b[0m\u001b[0mxdata\u001b[0m\u001b[1;33m[\u001b[0m\u001b[1;36m0\u001b[0m\u001b[1;33m:\u001b[0m\u001b[1;36m10\u001b[0m\u001b[1;33m]\u001b[0m\u001b[1;33m,\u001b[0m\u001b[0mydata\u001b[0m\u001b[1;33m[\u001b[0m\u001b[1;36m0\u001b[0m\u001b[1;33m:\u001b[0m\u001b[1;36m10\u001b[0m\u001b[1;33m]\u001b[0m\u001b[1;33m,\u001b[0m\u001b[0myerr\u001b[0m\u001b[1;33m[\u001b[0m\u001b[1;36m0\u001b[0m\u001b[1;33m:\u001b[0m\u001b[1;36m10\u001b[0m\u001b[1;33m]\u001b[0m\u001b[1;33m)\u001b[0m\u001b[1;33m\u001b[0m\u001b[0m\n\u001b[0m\u001b[0;32m     10\u001b[0m \u001b[0mprint\u001b[0m\u001b[1;33m(\u001b[0m\u001b[0mchi\u001b[0m\u001b[1;33m)\u001b[0m\u001b[1;33m\u001b[0m\u001b[0m\n",
      "\u001b[1;31mTypeError\u001b[0m: 'numpy.float64' object is not iterable"
     ]
    }
   ],
   "source": [
    "gRNA_length = 20\n",
    "model_ID = 'general_energies'\n",
    "parameters =  np.array([5.0] + [1.0]*40 + [0.5] *2)\n",
    "concentrations = np.array([0, 0.1, 0.3, 1, 3, 10, 30, 100, 300]) # in nanoMolair\n",
    "reference=1 # in nanomolair\n",
    "\n",
    "KineticModel = functools.partial(Chi.calc_Chi_square,model_id=model_ID, guide_length=20,\n",
    "                                 concentrations=concentrations,reference=reference)\n",
    "chi,mABA=KineticModel(parameters,xdata[0:10],ydata[0:10],yerr[0:10])\n",
    "print(chi)"
   ]
  },
  {
   "cell_type": "code",
   "execution_count": 9,
   "metadata": {},
   "outputs": [
    {
     "name": "stdout",
     "output_type": "stream",
     "text": [
      "0.0\n"
     ]
    },
    {
     "data": {
      "image/png": "[encoded data removed]",
      "text/plain": [
       "<Figure size 432x288 with 1 Axes>"
      ]
     },
     "metadata": {},
     "output_type": "display_data"
    }
   ],
   "source": [
    "new_ydata=mABA\n",
    "chi,mABA=Chi.calc_Chi_square(parameters,xdata[0:10],new_ydata,yerr[0:10],concentrations,\n",
    "                             reference,guide_length=20,model_id='general_energies')\n",
    "print(chi)\n",
    "# plot to see the fit\n",
    "import matplotlib.pylab as plt\n",
    "plt.plot(range(10),mABA)\n",
    "for i in range(10):\n",
    "    m=np.ones(len(ydata[i]))*i\n",
    "    plt.scatter(m,ydata[i])"
   ]
  },
  {
   "cell_type": "code",
   "execution_count": null,
   "metadata": {},
   "outputs": [],
   "source": []
  },
  {
   "cell_type": "code",
   "execution_count": null,
   "metadata": {},
   "outputs": [],
   "source": []
  },
  {
   "cell_type": "code",
   "execution_count": null,
   "metadata": {},
   "outputs": [],
   "source": [
    "# to try without the working function from berouz\n",
    "df=pd.DataFrame()\n",
    "df['MMpos']=['1|6','1|6','7|2','8|3','19|1','15,8']\n",
    "df['ABA']=[6,4,9,3,8,2]\n",
    "df['Uncertainty']=[0.1,0.03,0.3,0.2,0.68,0.9]\n",
    "Grouped = df.groupby('MMpos').agg(lambda x: list(x))\n",
    "Grouped.reset_index(inplace=True)\n",
    "Grouped\n"
   ]
  },
  {
   "cell_type": "code",
   "execution_count": null,
   "metadata": {},
   "outputs": [],
   "source": [
    "s='7|22'\n",
    "s.split('|')\n",
    "mm = np.array(s.split('|')).astype(int)\n",
    "mm"
   ]
  },
  {
   "cell_type": "code",
   "execution_count": null,
   "metadata": {},
   "outputs": [],
   "source": [
    "MMpos=Grouped['MMpos'].tolist()\n",
    "ABA=Grouped['ABA'].tolist()\n",
    "Uncertainty=Grouped['Uncertainty'].tolist()\n",
    "\n",
    "#df['df.apply('functionname',axis=1)"
   ]
  },
  {
   "cell_type": "code",
   "execution_count": null,
   "metadata": {},
   "outputs": [],
   "source": [
    "Path = '../Data_ABA_Finkelsteinlab/cas9-target-e-replicate-1-delta-abas.txt'\n",
    "data = pd.read_table(Path,comment='#')\n",
    "#data"
   ]
  },
  {
   "cell_type": "code",
   "execution_count": null,
   "metadata": {},
   "outputs": [],
   "source": [
    "Cas='Cas9'\n",
    "on_target = 'TTTAGACGCATAAAGATGAGACGCTGG'\n",
    "seq_colname = 'Sequence'\n",
    "output_colnames = ['Delta ABA (kBT)', 'Uncertainty']\n",
    "out_file_name = 'Cas9_target_e.csv'\n",
    "out_path = '../Data_ABA_Finkelsteinlab/cas9-target-e-replicate-1-delta-abas.txt'\n",
    "\n",
    "new_data = preprocess.process_Finkelstein_Library(data, on_target, seq_colname, output_colnames, Cas, \n",
    "                                                  Canonical_PAM = True, Mut_type = ['OT','r'], Mut_min = 0, Mut_max = 20,\n",
    "                                                  out_file_name = out_file_name, out_path = out_path, nofilter = False,\n",
    "                                                  save_data = True)\n"
   ]
  },
  {
   "cell_type": "code",
   "execution_count": null,
   "metadata": {},
   "outputs": [],
   "source": [
    "fit_result_file= 'fit_results.txt'\n",
    "monitor_file = 'monitor.txt'\n",
    "init_monitor_file='init_monitor.txt'\n",
    "\n",
    "gRNA_length = 20\n",
    "model_ID = 'general_energies'\n",
    "parameters =  np.array([5.0] + [1.0]*40 + [0.5] *2)\n",
    "concentrations = np.array([0.1, 0.3, 1, 3, 10, 30, 100, 300]) # in nanoMolair\n",
    "reference=1 # in nanomolair\n",
    "\n",
    "KineticModel = functools.partial(Chi.calc_Chi_square,model_id=model_ID, guide_length=20,\n",
    "                                 concentrations=concentrations,reference=reference)\n",
    "\n",
    "fit_result = SA.sim_anneal_fit(xdata=xdata[0],\n",
    "                                ydata=ydata[0],\n",
    "                                yerr = yerr[0],\n",
    "                                Xstart= np.array(initial_guess),\n",
    "                                lwrbnd= np.array(lower_bnd),\n",
    "                                upbnd= np.array(upper_bnd),\n",
    "                                model='I_am_using_multi_processing_in_stead',\n",
    "                                objective_function=KineticModel,\n",
    "                                on_target_function=ABA.calc_ABA,\n",
    "                                Tstart=100.,             # infered from run on my computer/other runs on cluster\n",
    "                                use_relative_steps=False,\n",
    "                                delta=1.0,\n",
    "                                tol=1E-5,\n",
    "                                Tfinal=50,\n",
    "                                adjust_factor=1.1,\n",
    "                                cooling_rate=0.5,\n",
    "                                N_int=10,\n",
    "                                AR_low=0,\n",
    "                                AR_high=100,\n",
    "                                use_multiprocessing=True,\n",
    "                                nprocs=1,\n",
    "                                output_file_results = fit_result_file,\n",
    "                                output_file_monitor = monitor_file,\n",
    "                                output_file_init_monitor=init_monitor_file\n",
    "                              )"
   ]
  },
  {
   "cell_type": "code",
   "execution_count": null,
   "metadata": {},
   "outputs": [],
   "source": [
    "def f(a,b):\n",
    "    return a+b\n",
    "import functools\n",
    "g=functools.partial(f,b=5)\n",
    "print(f(1,5))\n",
    "print(g(1))"
   ]
  },
  {
   "cell_type": "code",
   "execution_count": null,
   "metadata": {},
   "outputs": [],
   "source": []
  },
  {
   "cell_type": "code",
   "execution_count": null,
   "metadata": {},
   "outputs": [],
   "source": []
  }
 ],
 "metadata": {
  "kernelspec": {
   "display_name": "Python 3",
   "language": "python",
   "name": "python3"
  },
  "language_info": {
   "codemirror_mode": {
    "name": "ipython",
    "version": 3
   },
   "file_extension": ".py",
   "mimetype": "text/x-python",
   "name": "python",
   "nbconvert_exporter": "python",
   "pygments_lexer": "ipython3",
   "version": "3.6.5"
  }
 },
 "nbformat": 4,
 "nbformat_minor": 2
}
