{
 "cells": [
  {
   "cell_type": "code",
   "execution_count": 2,
   "metadata": {},
   "outputs": [],
   "source": [
    "import os\n",
    "import numpy as np\n",
    "import pandas as pd\n",
    "import matplotlib.pylab as plt\n",
    "import Prepare_data as prep\n",
    "\n",
    "import Calculate_ABA_Finkelsteinlab_Diewertje as ABA"
   ]
  },
  {
   "cell_type": "code",
   "execution_count": 13,
   "metadata": {},
   "outputs": [],
   "source": [
    "# Load data\n",
    "import Prepare_data as Pre\n",
    "rawABA=pd.read_csv('../Data_ABA_Finkelsteinlab/champ-cas9-cas12a-data/cas12a-target-d-replicate-1-delta-abas_Canonical_OT-r_0-2.csv')\n",
    "rawABA\n",
    "\n",
    "cas9=pd.read_csv('../Data_ABA_Finkelsteinlab/cas9-target-e-replicate-1-delta-abas_Canonical_OT-r_0-2.csv')\n",
    "x,_,_=Pre.Prepare_Cdata('../Data_ABA_Finkelsteinlab/','cas9-target-e-replicate-1-delta-abas_Canonical_OT-r_0-2.csv')\n",
    "\n",
    "# prepare data\n",
    "path_to_data= '../Data_ABA_Finkelsteinlab/champ-cas9-cas12a-data/'\n",
    "filename= 'cas12a-target-d-replicate-1-delta-abas_Canonical_OT-r_0-2.csv'\n",
    "xdata,ydata,yerr=Pre.Prepare_Cdata(path_to_data,filename) "
   ]
  },
  {
   "cell_type": "code",
   "execution_count": 17,
   "metadata": {},
   "outputs": [],
   "source": [
    "# Add this piece of code to the pipeline for data downloading\n",
    "WAydata=[]\n",
    "WAyerr=[]\n",
    "for i in range(len(xdata)):\n",
    "    WAydata.append(np.average(np.array(ydata[i]),weights=np.array(yerr[i])**-2,axis=0))\n",
    "    WAyerr.append((1/np.sum((np.array(yerr[i]))**-2))**0.5)\n",
    "ydata=WAydata\n",
    "yerr=WAyerr"
   ]
  },
  {
   "cell_type": "code",
   "execution_count": null,
   "metadata": {},
   "outputs": [],
   "source": []
  },
  {
   "cell_type": "code",
   "execution_count": null,
   "metadata": {},
   "outputs": [],
   "source": []
  }
 ],
 "metadata": {
  "kernelspec": {
   "display_name": "Python 3",
   "language": "python",
   "name": "python3"
  },
  "language_info": {
   "codemirror_mode": {
    "name": "ipython",
    "version": 3
   },
   "file_extension": ".py",
   "mimetype": "text/x-python",
   "name": "python",
   "nbconvert_exporter": "python",
   "pygments_lexer": "ipython3",
   "version": "3.6.8"
  }
 },
 "nbformat": 4,
 "nbformat_minor": 2
}
