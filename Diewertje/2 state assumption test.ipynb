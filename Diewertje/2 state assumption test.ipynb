{
 "cells": [
  {
   "cell_type": "markdown",
   "metadata": {},
   "source": [
    "# To test if the 2 state assumption gives the correct Pbnd"
   ]
  },
  {
   "cell_type": "code",
   "execution_count": 3,
   "metadata": {},
   "outputs": [],
   "source": [
    "import Calculate_Pbnd_2statesAssumption as Calc_Pbnd_2states\n",
    "import numpy as np\n",
    "import Calculate_ABA_Finkelsteinlab_Diewertje as ABA\n",
    "import matplotlib.pyplot as plt\n"
   ]
  },
  {
   "cell_type": "code",
   "execution_count": 2,
   "metadata": {},
   "outputs": [],
   "source": [
    "# To load the data and check what it looks like\n",
    "import numpy as np \n",
    "import pandas as pd\n",
    "import Prepare_data as Pre\n",
    "\n",
    "path = '../Data_ABA_Finkelsteinlab/' \n",
    "filename= 'cas9-target-e-replicate-1-delta-abas_Canonical_OT-r_0-2.csv'\n",
    "data=pd.read_csv(path+filename)\n",
    "xdata,ydata,yerr=Pre.Prepare_Cdata(path,filename)\n",
    "#Wo I have the delta ABA = log(Kd)-ABA ontarget"
   ]
  },
  {
   "cell_type": "code",
   "execution_count": 18,
   "metadata": {},
   "outputs": [],
   "source": [
    "paramBoyle=np.loadtxt('../Diewertje/parameters_Boyle.txt')\n",
    "concentrations=np.array([0.1, 0.3, 1, 3, 10, 30, 100, 300])\n",
    "ref=1\n",
    "mismatch_positions=xdata[0]\n",
    "model_id='init_limit_general_energies_v2'\n",
    "guide_length=20\n",
    "T=10*60"
   ]
  },
  {
   "cell_type": "code",
   "execution_count": 19,
   "metadata": {},
   "outputs": [
    {
     "name": "stdout",
     "output_type": "stream",
     "text": [
      "[2.24855695e-02 6.74567084e-02 2.24855695e-01 6.74567084e-01\n",
      " 2.24855695e+00 6.74567084e+00 2.24855695e+01 6.74567084e+01]\n",
      "0.03465514362976294\n",
      "<class 'numpy.float64'>\n",
      "[5.71407131e-02 1.02111852e-01 2.59510838e-01 7.09222227e-01\n",
      " 2.28321209e+00 6.78032598e+00 2.25202246e+01 6.74913635e+01]\n",
      "The time needed for calculation with 2 state assumption =  0.0\n"
     ]
    }
   ],
   "source": [
    "import time\n",
    "t1=time.time()\n",
    "Pbnd_2states=Calc_Pbnd_2states.calc_Pbnd(paramBoyle,concentrations,ref,mismatch_positions)\n",
    "t2=time.time()\n",
    "diff_time=t2-t1\n",
    "print('The time needed for calculation with 2 state assumption = ', diff_time)"
   ]
  },
  {
   "cell_type": "code",
   "execution_count": 20,
   "metadata": {},
   "outputs": [],
   "source": [
    "Kon=[2.24855695e-01, 6.74567084e-01, 2.24855695e+00, 6.74567084e+00,\n",
    " 2.24855695e+01, 6.74567084e+01, 2.24855695e+02, 6.74567084e+02]\n",
    "Kon=np.array(Kon)\n",
    "Koff=0.00012716753254655896"
   ]
  },
  {
   "cell_type": "code",
   "execution_count": 21,
   "metadata": {},
   "outputs": [
    {
     "data": {
      "text/plain": [
       "array([0.99943477, 0.99981152, 0.99994345, 0.99998115, 0.99999434,\n",
       "       0.99999811, 0.99999943, 0.99999981])"
      ]
     },
     "execution_count": 21,
     "metadata": {},
     "output_type": "execute_result"
    }
   ],
   "source": [
    "Kon/(Kon+Koff)"
   ]
  },
  {
   "cell_type": "code",
   "execution_count": 22,
   "metadata": {},
   "outputs": [
    {
     "data": {
      "text/plain": [
       "array([0.2014701 , 0.49068788, 0.89446199, 0.99882419, 1.        ,\n",
       "       1.        , 1.        , 1.        ])"
      ]
     },
     "execution_count": 22,
     "metadata": {},
     "output_type": "execute_result"
    }
   ],
   "source": [
    "1-np.exp(-(Kon+Koff))"
   ]
  },
  {
   "cell_type": "code",
   "execution_count": 23,
   "metadata": {},
   "outputs": [
    {
     "data": {
      "text/plain": [
       "array([0.39351223, 0.66061585, 0.86645974, 0.95113641, 0.98482176,\n",
       "       0.99488887, 0.99846115, 0.99948652])"
      ]
     },
     "execution_count": 23,
     "metadata": {},
     "output_type": "execute_result"
    }
   ],
   "source": [
    "Pbnd_2states"
   ]
  },
  {
   "cell_type": "code",
   "execution_count": 24,
   "metadata": {},
   "outputs": [
    {
     "data": {
      "text/plain": [
       "44"
      ]
     },
     "execution_count": 24,
     "metadata": {},
     "output_type": "execute_result"
    }
   ],
   "source": [
    "len(paramBoyle)"
   ]
  },
  {
   "cell_type": "code",
   "execution_count": 25,
   "metadata": {},
   "outputs": [
    {
     "name": "stdout",
     "output_type": "stream",
     "text": [
      "The time needed for the normal calculation =  0.015625\n"
     ]
    }
   ],
   "source": [
    "#_,Pbnd_normal,_=ABA.calc_Pbound(paramBoyle,concentrations,ref,[])\n",
    "#mismatch_positions=[]\n",
    "parameters=paramBoyle\n",
    "reference=1\n",
    "from scipy import linalg\n",
    "import sys\n",
    "sys.path.append('../code_general/') # added this after we run it on the cluster\n",
    "from read_model_ID import unpack_parameters\n",
    "# Helper functions for executing the code below\n",
    "def get_master_equation(parameters, mismatch_positions, model_id, guide_length):\n",
    "    '''\n",
    "    Construct rate matrix from given parameter set\n",
    "    :param parameters:\n",
    "    :param mismatch_positions:\n",
    "    :param guide_length:\n",
    "    :return:\n",
    "    '''\n",
    "    epsilon, forward_rates = unpack_parameters(parameters, model_id, guide_length)\n",
    "    energies = get_energies(epsilon,mismatch_positions, guide_length)\n",
    "    backward_rates = get_backward_rates(energies, forward_rates,guide_length )\n",
    "    rate_matrix = build_rate_matrix(forward_rates, backward_rates) \n",
    "    return rate_matrix\n",
    "\n",
    "def get_energies(epsilon,mismatch_positions, guide_length=20):\n",
    "    '''\n",
    "    For general (position dependent) model make a list with the energies at every bound state\n",
    "    At positions with a mismatch incorporated: add mismatch penalty (epsI[mm_pos])\n",
    "\n",
    "    So this function returns the minima in the energy lanscape (the actual energy at every state)\n",
    "\n",
    "    :param epsilon: [epsPAM, epsC[state_1],....,epsC[state_N],epsI[state_1],...epsI[state_N] ]\n",
    "    provide as np.array()\n",
    "    :param mismatch_positions: each mismach position has a range [1,2, ... , 20]\n",
    "    :return: vector with the minima in the landscape\n",
    "    '''\n",
    "    if type(mismatch_positions)==type([]):\n",
    "        mismatch_positions = np.array(mismatch_positions)\n",
    "    new_epsilon = epsilon.copy()\n",
    "    epsI = np.array(new_epsilon[(guide_length+1):])\n",
    "    energies = -1*np.array(new_epsilon[0:(guide_length+1)]) # convention: epsC>0 means downward slope\n",
    "    energies[0] = new_epsilon[0]                 # convention: epsPAM>0 means upward slope\n",
    "    if len(mismatch_positions)>0:\n",
    "        energies[mismatch_positions.astype(int)] += epsI[(mismatch_positions.astype(int)-1)]\n",
    "    energies=np.ndarray.tolist(energies)\n",
    "    return energies\n",
    "\n",
    "\n",
    "def get_backward_rates(energies, forward_rates,guide_length=20):\n",
    "    '''\n",
    "    Apply detailed balance condition to get the backward rates from the energies and forward rates\n",
    "\n",
    "    :param energies:\n",
    "    :param forward_rates:\n",
    "    :param guide_length:\n",
    "    :return:\n",
    "    '''\n",
    "    # 0) Construct array containing backward rates\n",
    "    backward_rates = np.zeros(guide_length+2)\n",
    "\n",
    "    # 1) Apply detailed balance condition:\n",
    "    backward_rates[1:] = forward_rates[:-1] * np.exp(energies)\n",
    "\n",
    "    # 2) No rate backward from solution state\n",
    "    backward_rates[0] = 0.0\n",
    "    return backward_rates\n",
    "\n",
    "\n",
    "def build_rate_matrix(forward_rates, backward_rates):\n",
    "    '''\n",
    "    build matrix in Master Equation\n",
    "\n",
    "    :param forward_rates:\n",
    "    :param backward_rates:\n",
    "    :return:\n",
    "    '''\n",
    "    diagonal1 = -(forward_rates + backward_rates)\n",
    "    diagonal2 = backward_rates[1:]\n",
    "    diagonal3 = forward_rates[:-1]\n",
    "    # rate_matrix = np.zeros((len(forward_rates), len(forward_rates)))  # Build the matrix\n",
    "\n",
    "    rate_matrix = np.diag(diagonal1, k=0) + np.diag(diagonal2, k=1) + np.diag(diagonal3, k=-1)\n",
    "\n",
    "    return rate_matrix\n",
    "\n",
    "def get_Probability(rate_matrix, initial_condition,T=12*3600):\n",
    "    '''\n",
    "    solves the Master Equation for a given initial condition and desired time point\n",
    "    :param rate_matrix: matrix with rates that makes up the Master Equation\n",
    "    :param initial_condition: vector with initial configuration\n",
    "    :param T: Evaluate solution at time T\n",
    "    :return:\n",
    "    '''\n",
    "    P0 = initial_condition\n",
    "    M = rate_matrix\n",
    "    matrix_exponent = linalg.expm(+M*T)\n",
    "    return matrix_exponent.dot(P0)\n",
    "\n",
    "# this is the code we execute\n",
    "t1=time.time()\n",
    "rate_matrix = get_master_equation(parameters, mismatch_positions, model_id, guide_length)\n",
    "rel_concentration = concentrations/reference\n",
    "everything_unbound = np.array([1.0] + [0.0] * (guide_length + 1))\n",
    "Pbound = []\n",
    "for c in rel_concentration:\n",
    "    new_rate_matrix = rate_matrix.copy()\n",
    "    new_rate_matrix[0][0] *= c\n",
    "    new_rate_matrix[1][0] *= c\n",
    "    Probability = get_Probability(new_rate_matrix, everything_unbound, T)\n",
    "    Pbound.append(np.sum(Probability[1:]))\n",
    "Pbound = np.array(Pbound)\n",
    "t2=time.time()\n",
    "diff_time=t2-t1\n",
    "print('The time needed for the normal calculation = ',diff_time)"
   ]
  },
  {
   "cell_type": "code",
   "execution_count": 26,
   "metadata": {},
   "outputs": [
    {
     "data": {
      "image/png": "[encoded data removed]",
      "text/plain": [
       "<Figure size 432x288 with 1 Axes>"
      ]
     },
     "metadata": {},
     "output_type": "display_data"
    }
   ],
   "source": [
    "plt.plot(concentrations,Pbnd_2states,marker='o')\n",
    "plt.plot(concentrations,Pbound,marker='o')\n",
    "plt.xscale('log');"
   ]
  },
  {
   "cell_type": "code",
   "execution_count": null,
   "metadata": {},
   "outputs": [],
   "source": []
  },
  {
   "cell_type": "code",
   "execution_count": 4,
   "metadata": {},
   "outputs": [],
   "source": [
    "# To load other paramter sets, to choose one with low Ksp, to see if that will give a good fit.\n",
    "import plotting_Boyle_Diewertje as plt_B\n",
    "model_id = 'general_energies_no_kPR'\n",
    "# filename = simset[np.argsort(chi_squared)[3]]\n",
    "filename = np.array(['../data/22_3_2019/fit_22_3_2019_sim_4.txt',\n",
    "       '../data/22_3_2019/fit_22_3_2019_sim_5.txt',\n",
    "       '../data/22_3_2019/fit_22_3_2019_sim_6.txt',\n",
    "       '../data/22_3_2019/fit_22_3_2019_sim_7.txt',\n",
    "       '../data/22_3_2019/fit_22_3_2019_sim_9.txt',\n",
    "       '../data/22_3_2019/fit_22_3_2019_sim_13.txt',\n",
    "       '../data/22_3_2019/fit_22_3_2019_sim_17.txt',\n",
    "       '../data/22_3_2019/fit_22_3_2019_sim_21.txt',\n",
    "       '../data/22_3_2019/fit_22_3_2019_sim_26.txt',\n",
    "       '../data/22_3_2019/fit_22_3_2019_sim_31.txt',\n",
    "       '../data/22_3_2019/fit_22_3_2019_sim_33.txt',\n",
    "       '../data/22_3_2019/fit_22_3_2019_sim_35.txt',\n",
    "       '../data/22_3_2019/fit_22_3_2019_sim_47.txt',\n",
    "       '../data/22_3_2019/fit_22_3_2019_sim_49.txt',\n",
    "       '../data/22_3_2019/fit_22_3_2019_sim_50.txt',\n",
    "       '../data/22_3_2019/fit_22_3_2019_sim_51.txt',\n",
    "       '../data/22_3_2019/fit_22_3_2019_sim_53.txt',\n",
    "       '../data/22_3_2019/fit_22_3_2019_sim_54.txt',\n",
    "       '../data/22_3_2019/fit_22_3_2019_sim_56.txt',\n",
    "       '../data/22_3_2019/fit_22_3_2019_sim_59.txt',\n",
    "       '../data/22_3_2019/fit_22_3_2019_sim_63.txt',\n",
    "       '../data/22_3_2019/fit_22_3_2019_sim_67.txt',\n",
    "       '../data/22_3_2019/fit_22_3_2019_sim_68.txt',\n",
    "       '../data/22_3_2019/fit_22_3_2019_sim_69.txt',\n",
    "       '../data/22_3_2019/fit_22_3_2019_sim_79.txt',\n",
    "       '../data/22_3_2019/fit_22_3_2019_sim_80.txt',\n",
    "       '../data/22_3_2019/fit_22_3_2019_sim_82.txt',\n",
    "       '../data/22_3_2019/fit_22_3_2019_sim_83.txt',\n",
    "       '../data/22_3_2019/fit_22_3_2019_sim_87.txt',\n",
    "       '../data/22_3_2019/fit_22_3_2019_sim_90.txt',\n",
    "       '../data/22_3_2019/fit_22_3_2019_sim_97.txt'])\n",
    "Nparams = 43\n",
    "ref_Ksp=10000 # just a big number\n",
    "for i in range(0,len(filename)):\n",
    "    p= plt_B.load_simm_anneal(filename[i], Nparams)\n",
    "    Ksp=10**p[-2]/10\n",
    "    if(Ksp<ref_Ksp):\n",
    "        ref_Ksp=Ksp\n",
    "        parameters=p\n",
    "        name=filename[i]\n"
   ]
  },
  {
   "cell_type": "code",
   "execution_count": 28,
   "metadata": {},
   "outputs": [
    {
     "data": {
      "text/plain": [
       "'../data/22_3_2019/fit_22_3_2019_sim_9.txt'"
      ]
     },
     "execution_count": 28,
     "metadata": {},
     "output_type": "execute_result"
    }
   ],
   "source": [
    "name"
   ]
  },
  {
   "cell_type": "code",
   "execution_count": 29,
   "metadata": {},
   "outputs": [
    {
     "data": {
      "text/plain": [
       "0.00038941973449552436"
      ]
     },
     "execution_count": 29,
     "metadata": {},
     "output_type": "execute_result"
    }
   ],
   "source": [
    "ref_Ksp"
   ]
  },
  {
   "cell_type": "code",
   "execution_count": 30,
   "metadata": {},
   "outputs": [
    {
     "name": "stdout",
     "output_type": "stream",
     "text": [
      "[2.67370734e-02 8.02112201e-02 2.67370734e-01 8.02112201e-01\n",
      " 2.67370734e+00 8.02112201e+00 2.67370734e+01 8.02112201e+01]\n",
      "0.4427004669979888\n",
      "<class 'numpy.float64'>\n",
      "[ 0.46943754  0.52291169  0.7100712   1.24481267  3.1164078   8.46382247\n",
      " 27.17977382 80.65392052]\n",
      "The time needed for calculation with 2 state assumption =  0.0\n"
     ]
    }
   ],
   "source": [
    "import time\n",
    "t1=time.time()\n",
    "Pbnd_2states_lowKsp=Calc_Pbnd_2states.calc_Pbnd(parameters,concentrations,ref,mismatch_positions)\n",
    "t2=time.time()\n",
    "diff_time=t2-t1\n",
    "print('The time needed for calculation with 2 state assumption = ', diff_time)"
   ]
  },
  {
   "cell_type": "code",
   "execution_count": 31,
   "metadata": {},
   "outputs": [
    {
     "data": {
      "image/png": "[encoded data removed]",
      "text/plain": [
       "<Figure size 432x288 with 1 Axes>"
      ]
     },
     "metadata": {},
     "output_type": "display_data"
    }
   ],
   "source": [
    "plt.plot(concentrations,Pbnd_2states_lowKsp,marker='o')\n",
    "plt.plot(concentrations,Pbound,marker='o')\n",
    "plt.xscale('log');"
   ]
  },
  {
   "cell_type": "code",
   "execution_count": null,
   "metadata": {},
   "outputs": [],
   "source": []
  }
 ],
 "metadata": {
  "kernelspec": {
   "display_name": "Python 3",
   "language": "python",
   "name": "python3"
  },
  "language_info": {
   "codemirror_mode": {
    "name": "ipython",
    "version": 3
   },
   "file_extension": ".py",
   "mimetype": "text/x-python",
   "name": "python",
   "nbconvert_exporter": "python",
   "pygments_lexer": "ipython3",
   "version": "3.6.8"
  }
 },
 "nbformat": 4,
 "nbformat_minor": 2
}
