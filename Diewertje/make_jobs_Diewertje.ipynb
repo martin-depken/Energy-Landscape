{
 "cells": [
  {
   "cell_type": "code",
   "execution_count": 1,
   "metadata": {},
   "outputs": [],
   "source": [
    "hpc=  '/home/dddekker/BEP/'\n",
    "datafolder= 'C:/Users/Diewertje/Documents/Year 3/BEP/Energy_Landscape_dCas9/Diewertje/'\n",
    "today= '12_6_2019_cas12_conc8/'\n",
    "simID= '1_25'\n",
    "model_ID = 'general_energies_no_kPR'\n",
    "use_cluster = '1' \n",
    "\n",
    "\n",
    "jobs = open(datafolder + today + 'jobs_' + today.replace('/','_') + simID +'.txt','w')\n",
    "\n",
    "count = 0\n",
    "for sim in range(1,26):\n",
    "    count +=1\n",
    "    sim = str(sim)\n",
    "    monitor_SA = hpc + today + 'monitor_'+ today.replace('/','_') + 'sim_'+sim + '.txt'\n",
    "    fit_results= hpc + today + 'fit_' + today.replace('/','_') + 'sim_'+sim + '.txt'\n",
    "    init_monitor_SA = hpc + today + 'init_monitor_'+ today.replace('/','_') + 'sim_'+sim + '.txt'\n",
    "    jobs.write(model_ID + '\\t')\n",
    "    jobs.write(monitor_SA + '\\t')\n",
    "    jobs.write(fit_results + '\\t')\n",
    "    jobs.write(init_monitor_SA + '\\t')\n",
    "    jobs.write(use_cluster + '\\n')\n",
    "jobs.close()"
   ]
  },
  {
   "cell_type": "code",
   "execution_count": null,
   "metadata": {},
   "outputs": [],
   "source": []
  }
 ],
 "metadata": {
  "kernelspec": {
   "display_name": "Python 3",
   "language": "python",
   "name": "python3"
  },
  "language_info": {
   "codemirror_mode": {
    "name": "ipython",
    "version": 3
   },
   "file_extension": ".py",
   "mimetype": "text/x-python",
   "name": "python",
   "nbconvert_exporter": "python",
   "pygments_lexer": "ipython3",
   "version": "3.6.8"
  }
 },
 "nbformat": 4,
 "nbformat_minor": 2
}
