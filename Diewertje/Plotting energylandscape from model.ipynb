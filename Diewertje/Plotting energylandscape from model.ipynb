{
 "cells": [
  {
   "cell_type": "code",
   "execution_count": 13,
   "metadata": {},
   "outputs": [],
   "source": [
    "%matplotlib inline\n",
    "import importlib as imp\n",
    "import matplotlib.pylab as plt \n",
    "import numpy as np \n",
    "import pandas as pd \n",
    "import seaborn as sns\n",
    "sns.set_style('ticks');\n",
    "current_colors = sns.color_palette()\n",
    "sns.set_palette('Accent');\n",
    "\n",
    "# Adjust all text and axes colors to black. default is some studip gray that appears to faint when printed \n",
    "from matplotlib import rc , rcParams\n",
    "rc('axes',edgecolor='black')\n",
    "rc('xtick',color='black',labelsize=15)\n",
    "rc('ytick',color='black',labelsize=15)\n",
    "rc('text',color='black')\n",
    "rc('axes',labelcolor='black',linewidth=2.0)\n",
    "rc('font',size=15)\n",
    "#rcParams[\"patch.force_edgecolor\"] = True\n",
    "\n",
    "import Calculate_ABA_Finkelsteinlab_Diewertje as CalcABA\n",
    "#imp.reload(CalcABA);\n",
    "import plotting_ABA_Diewertje as pltABA\n",
    "#imp.reload(pltABA);\n",
    "import plotting_Boyle_Diewertje as plt_B\n",
    "#imp.reload(plt_B);\n",
    "\n",
    "import sys \n",
    "sys.path.append('../code_general/')\n",
    "#import CRISPR_free_energy_landscape as FreeEnergy\n",
    "#imp.reload(FreeEnergy);\n",
    "import read_model_ID;\n",
    "# imp.reload(read_model_ID);\n",
    "\n",
    "import sys \n",
    "sys.path.append('../code_general_Finkelsteinlab/')\n",
    "import plotting_Finkelsteinlab as plt_F\n",
    "#imp.reload(plt_F)\n",
    "\n",
    "\n",
    "#import analysis_SA_fits as SAfits\n",
    "#imp.reload(SAfits);\n",
    "\n"
   ]
  },
  {
   "cell_type": "markdown",
   "metadata": {},
   "source": [
    "#  Step 1: Use SA fit to association data from Boyle et al.\n",
    "Using simmulated annealing we minimise the χ2 based on the data with singly and doubly mismatched sequences. Here we show our best fit."
   ]
  },
  {
   "cell_type": "code",
   "execution_count": 19,
   "metadata": {},
   "outputs": [
    {
     "data": {
      "text/plain": [
       "'../Diewertje/1_3_2019/fit_1_3_2019_sim_7.txt'"
      ]
     },
     "execution_count": 19,
     "metadata": {},
     "output_type": "execute_result"
    }
   ],
   "source": [
    "simset = []\n",
    "no_good = []\n",
    "\n",
    "chi_squared = [] \n",
    "\n",
    "#---------- collect simulations ---------------\n",
    "for sim in range(1,13):\n",
    "    sa = pd.read_csv('../Diewertje/1_3_2019/fit_1_3_2019_sim_' +str(sim)+'.txt', delimiter='\\t', index_col=46)\n",
    "    filename = '../Diewertje/1_3_2019/fit_1_3_2019_sim_' +str(sim) +'.txt'   \n",
    "    chi_squared.append(sa.Potential.iloc[-1])\n",
    "    simset.append(filename)\n",
    "        \n",
    "    \n",
    "best_fit = simset[np.argmin(chi_squared)]\n",
    "best_fit\n",
    "# WRONG! SINCE SUCCESS IS FALSE!"
   ]
  },
  {
   "cell_type": "code",
   "execution_count": 43,
   "metadata": {},
   "outputs": [
    {
     "name": "stdout",
     "output_type": "stream",
     "text": [
      "[0.991125322726, -4.39413061905, -5.44831156947, 2.98223935731, 4.62681406378, -4.36186155583, 1.24340165583, 1.80576938762, -3.62948203288, 6.43285067906, -3.12015497376, 4.94761276007, 0.231936748947, -7.87408690747, 9.01202469348, -6.85952199489, -1.56368809509, 1.73237312601, 4.16147389841, 7.99687168206, -8.49861002111, 3.57974999914, 2.53124987224, 4.78887956654, 5.1951366123, 4.90938211698, 5.63712842917, 5.32706337971, 3.84439440693, 5.64436726918, 4.1408411939, 3.51584028409, 3.50026532704, 3.42598808533, 3.79419693695, 6.86867643421, 3.57913724851, 4.59500685852, 4.61857738113, 5.29665125712, -4.93800595926, -1.99433373201, 0.351442662569, 2.90418844562]\n",
      "44\n"
     ]
    }
   ],
   "source": [
    "# Load Parameters\n",
    "model_id = 'init_limit_general_energies_v2'\n",
    "\n",
    "# To find last line with the fitted parameters\n",
    "f=open(best_fit)\n",
    "lines=f.read().splitlines()\n",
    "last_line=lines[-1]\n",
    "last_line = last_line.split()\n",
    "Finkel_params = list(map(float,last_line[:-2]))\n",
    "print(Finkel_params)\n",
    "\n",
    "# Nparams = (np.size(Finkel_params) #44\n",
    "# boyle_params = plt_B.load_simm_anneal(filename, Nparams)"
   ]
  },
  {
   "cell_type": "code",
   "execution_count": 46,
   "metadata": {},
   "outputs": [],
   "source": [
    "# Load data\n",
    "IlyaData = pd.read_csv('../Data_ABA_Finkelsteinlab/cas9-target-e-replicate-1-delta-abas_Canonical_OT-r_0-2.csv')"
   ]
  },
  {
   "cell_type": "markdown",
   "metadata": {},
   "source": [
    "# Prediction"
   ]
  },
  {
   "cell_type": "code",
   "execution_count": 54,
   "metadata": {
    "scrolled": true
   },
   "outputs": [
    {
     "ename": "IndexError",
     "evalue": "list assignment index out of range",
     "output_type": "error",
     "traceback": [
      "\u001b[1;31m---------------------------------------------------------------------------\u001b[0m",
      "\u001b[1;31mIndexError\u001b[0m                                Traceback (most recent call last)",
      "\u001b[1;32m<ipython-input-54-1f5441d15637>\u001b[0m in \u001b[0;36m<module>\u001b[1;34m\u001b[0m\n\u001b[0;32m      4\u001b[0m \u001b[1;33m\u001b[0m\u001b[0m\n\u001b[0;32m      5\u001b[0m \u001b[0mplt\u001b[0m\u001b[1;33m.\u001b[0m\u001b[0mfigure\u001b[0m\u001b[1;33m(\u001b[0m\u001b[1;33m)\u001b[0m\u001b[1;33m\u001b[0m\u001b[1;33m\u001b[0m\u001b[0m\n\u001b[1;32m----> 6\u001b[1;33m \u001b[0m_\u001b[0m \u001b[1;33m=\u001b[0m \u001b[0mpltABA\u001b[0m\u001b[1;33m.\u001b[0m\u001b[0mpredict_single_mm\u001b[0m\u001b[1;33m(\u001b[0m\u001b[0mFinkel_params\u001b[0m\u001b[1;33m,\u001b[0m\u001b[0mmodel_id\u001b[0m\u001b[1;33m,\u001b[0m \u001b[0mdata_file\u001b[0m\u001b[1;33m=\u001b[0m\u001b[0mIlyaData\u001b[0m\u001b[1;33m)\u001b[0m\u001b[1;33m\u001b[0m\u001b[1;33m\u001b[0m\u001b[0m\n\u001b[0m\u001b[0;32m      7\u001b[0m \u001b[1;31m#plt.savefig('../reports/Skype_call_Ilya_10_12_2018/single_mm.pdf', format='pdf',bbox_inches='tight')\u001b[0m\u001b[1;33m\u001b[0m\u001b[1;33m\u001b[0m\u001b[1;33m\u001b[0m\u001b[0m\n\u001b[0;32m      8\u001b[0m \u001b[1;33m\u001b[0m\u001b[0m\n",
      "\u001b[1;32m~\\Documents\\Year 3\\BEP\\Energy_Landscape_dCas9\\Diewertje\\plotting_ABA_Diewertje.py\u001b[0m in \u001b[0;36mpredict_single_mm\u001b[1;34m(parameters, model_id, T, guide_length, show_plot, show_data, data_file)\u001b[0m\n\u001b[0;32m    278\u001b[0m                                     \u001b[0mmodel_id\u001b[0m\u001b[1;33m=\u001b[0m\u001b[0mmodel_id\u001b[0m\u001b[1;33m,\u001b[0m\u001b[1;33m\u001b[0m\u001b[1;33m\u001b[0m\u001b[0m\n\u001b[0;32m    279\u001b[0m                                     \u001b[0mguide_length\u001b[0m\u001b[1;33m=\u001b[0m\u001b[1;36m20\u001b[0m\u001b[1;33m,\u001b[0m\u001b[1;33m\u001b[0m\u001b[1;33m\u001b[0m\u001b[0m\n\u001b[1;32m--> 280\u001b[1;33m                                     T=60 * 10)\n\u001b[0m\u001b[0;32m    281\u001b[0m \u001b[1;33m\u001b[0m\u001b[0m\n\u001b[0;32m    282\u001b[0m     \u001b[0mdelta_ABA\u001b[0m \u001b[1;33m=\u001b[0m \u001b[0mnp\u001b[0m\u001b[1;33m.\u001b[0m\u001b[0mzeros\u001b[0m\u001b[1;33m(\u001b[0m\u001b[0mguide_length\u001b[0m\u001b[1;33m)\u001b[0m\u001b[1;33m\u001b[0m\u001b[1;33m\u001b[0m\u001b[0m\n",
      "\u001b[1;32m~\\Documents\\Year 3\\BEP\\Energy_Landscape_dCas9\\Diewertje\\Calculate_ABA_Finkelsteinlab_Diewertje.py\u001b[0m in \u001b[0;36mcalc_ABA\u001b[1;34m(parameters, concentrations, reference, mismatch_positions, model_id, guide_length, T)\u001b[0m\n\u001b[0;32m     29\u001b[0m \u001b[1;33m\u001b[0m\u001b[0m\n\u001b[0;32m     30\u001b[0m \u001b[1;32mdef\u001b[0m \u001b[0mcalc_ABA\u001b[0m\u001b[1;33m(\u001b[0m\u001b[0mparameters\u001b[0m\u001b[1;33m,\u001b[0m \u001b[0mconcentrations\u001b[0m\u001b[1;33m,\u001b[0m \u001b[0mreference\u001b[0m\u001b[1;33m,\u001b[0m \u001b[0mmismatch_positions\u001b[0m\u001b[1;33m,\u001b[0m \u001b[0mmodel_id\u001b[0m \u001b[1;33m=\u001b[0m \u001b[1;34m'general_energies'\u001b[0m\u001b[1;33m,\u001b[0m \u001b[0mguide_length\u001b[0m \u001b[1;33m=\u001b[0m \u001b[1;36m20\u001b[0m\u001b[1;33m,\u001b[0m \u001b[0mT\u001b[0m\u001b[1;33m=\u001b[0m\u001b[1;36m10\u001b[0m\u001b[1;33m*\u001b[0m\u001b[1;36m60\u001b[0m\u001b[1;33m)\u001b[0m\u001b[1;33m:\u001b[0m\u001b[1;33m\u001b[0m\u001b[1;33m\u001b[0m\u001b[0m\n\u001b[1;32m---> 31\u001b[1;33m     \u001b[0mKd\u001b[0m\u001b[1;33m,\u001b[0m \u001b[0m_\u001b[0m\u001b[1;33m,\u001b[0m\u001b[0m_\u001b[0m \u001b[1;33m=\u001b[0m \u001b[0mcalc_Pbound\u001b[0m\u001b[1;33m(\u001b[0m\u001b[0mparameters\u001b[0m\u001b[1;33m,\u001b[0m \u001b[0mconcentrations\u001b[0m\u001b[1;33m,\u001b[0m \u001b[0mreference\u001b[0m\u001b[1;33m,\u001b[0m \u001b[0mmismatch_positions\u001b[0m\u001b[1;33m,\u001b[0m \u001b[0mmodel_id\u001b[0m\u001b[1;33m,\u001b[0m \u001b[0mguide_length\u001b[0m\u001b[1;33m,\u001b[0m \u001b[0mT\u001b[0m\u001b[1;33m)\u001b[0m\u001b[1;33m\u001b[0m\u001b[1;33m\u001b[0m\u001b[0m\n\u001b[0m\u001b[0;32m     32\u001b[0m     \u001b[1;32mreturn\u001b[0m \u001b[0mnp\u001b[0m\u001b[1;33m.\u001b[0m\u001b[0mlog\u001b[0m\u001b[1;33m(\u001b[0m\u001b[0mKd\u001b[0m\u001b[1;33m)\u001b[0m\u001b[1;33m\u001b[0m\u001b[1;33m\u001b[0m\u001b[0m\n\u001b[0;32m     33\u001b[0m \u001b[1;33m\u001b[0m\u001b[0m\n",
      "\u001b[1;32m~\\Documents\\Year 3\\BEP\\Energy_Landscape_dCas9\\Diewertje\\Calculate_ABA_Finkelsteinlab_Diewertje.py\u001b[0m in \u001b[0;36mcalc_Pbound\u001b[1;34m(parameters, concentrations, reference, mismatch_positions, model_id, guide_length, T)\u001b[0m\n\u001b[0;32m     10\u001b[0m \u001b[1;33m\u001b[0m\u001b[0m\n\u001b[0;32m     11\u001b[0m \u001b[1;32mdef\u001b[0m \u001b[0mcalc_Pbound\u001b[0m\u001b[1;33m(\u001b[0m\u001b[0mparameters\u001b[0m\u001b[1;33m,\u001b[0m \u001b[0mconcentrations\u001b[0m\u001b[1;33m,\u001b[0m \u001b[0mreference\u001b[0m\u001b[1;33m,\u001b[0m \u001b[0mmismatch_positions\u001b[0m\u001b[1;33m,\u001b[0m \u001b[0mmodel_id\u001b[0m \u001b[1;33m=\u001b[0m \u001b[1;34m'general_energies'\u001b[0m\u001b[1;33m,\u001b[0m \u001b[0mguide_length\u001b[0m \u001b[1;33m=\u001b[0m \u001b[1;36m20\u001b[0m\u001b[1;33m,\u001b[0m \u001b[0mT\u001b[0m\u001b[1;33m=\u001b[0m\u001b[1;36m10\u001b[0m\u001b[1;33m*\u001b[0m\u001b[1;36m60\u001b[0m\u001b[1;33m)\u001b[0m\u001b[1;33m:\u001b[0m\u001b[1;33m\u001b[0m\u001b[1;33m\u001b[0m\u001b[0m\n\u001b[1;32m---> 12\u001b[1;33m     \u001b[0mrate_matrix\u001b[0m \u001b[1;33m=\u001b[0m \u001b[0mget_master_equation\u001b[0m\u001b[1;33m(\u001b[0m\u001b[0mparameters\u001b[0m\u001b[1;33m,\u001b[0m \u001b[0mmismatch_positions\u001b[0m\u001b[1;33m,\u001b[0m \u001b[0mmodel_id\u001b[0m\u001b[1;33m,\u001b[0m \u001b[0mguide_length\u001b[0m\u001b[1;33m)\u001b[0m\u001b[1;33m\u001b[0m\u001b[1;33m\u001b[0m\u001b[0m\n\u001b[0m\u001b[0;32m     13\u001b[0m     \u001b[1;31m#print(rate_matrix)\u001b[0m\u001b[1;33m\u001b[0m\u001b[1;33m\u001b[0m\u001b[1;33m\u001b[0m\u001b[0m\n\u001b[0;32m     14\u001b[0m     \u001b[0mrel_concentration\u001b[0m \u001b[1;33m=\u001b[0m \u001b[0mconcentrations\u001b[0m\u001b[1;33m/\u001b[0m\u001b[0mreference\u001b[0m\u001b[1;33m\u001b[0m\u001b[1;33m\u001b[0m\u001b[0m\n",
      "\u001b[1;32m~\\Documents\\Year 3\\BEP\\Energy_Landscape_dCas9\\Diewertje\\Calculate_ABA_Finkelsteinlab_Diewertje.py\u001b[0m in \u001b[0;36mget_master_equation\u001b[1;34m(parameters, mismatch_positions, model_id, guide_length)\u001b[0m\n\u001b[0;32m     53\u001b[0m     \u001b[0mepsilon\u001b[0m\u001b[1;33m,\u001b[0m \u001b[0mforward_rates\u001b[0m \u001b[1;33m=\u001b[0m \u001b[0munpack_parameters\u001b[0m\u001b[1;33m(\u001b[0m\u001b[0mparameters\u001b[0m\u001b[1;33m,\u001b[0m \u001b[0mmodel_id\u001b[0m\u001b[1;33m,\u001b[0m \u001b[0mguide_length\u001b[0m\u001b[1;33m)\u001b[0m\u001b[1;33m\u001b[0m\u001b[1;33m\u001b[0m\u001b[0m\n\u001b[0;32m     54\u001b[0m     \u001b[0mprint\u001b[0m\u001b[1;33m(\u001b[0m\u001b[0mepsilon\u001b[0m\u001b[1;33m)\u001b[0m\u001b[1;33m\u001b[0m\u001b[1;33m\u001b[0m\u001b[0m\n\u001b[1;32m---> 55\u001b[1;33m     \u001b[0menergies\u001b[0m \u001b[1;33m=\u001b[0m \u001b[0mget_energies\u001b[0m\u001b[1;33m(\u001b[0m\u001b[0mepsilon\u001b[0m\u001b[1;33m,\u001b[0m\u001b[0mmismatch_positions\u001b[0m\u001b[1;33m,\u001b[0m \u001b[0mguide_length\u001b[0m\u001b[1;33m)\u001b[0m\u001b[1;33m\u001b[0m\u001b[1;33m\u001b[0m\u001b[0m\n\u001b[0m\u001b[0;32m     56\u001b[0m     \u001b[0mbackward_rates\u001b[0m \u001b[1;33m=\u001b[0m \u001b[0mget_backward_rates\u001b[0m\u001b[1;33m(\u001b[0m\u001b[0menergies\u001b[0m\u001b[1;33m,\u001b[0m \u001b[0mforward_rates\u001b[0m\u001b[1;33m,\u001b[0m\u001b[0mguide_length\u001b[0m \u001b[1;33m)\u001b[0m\u001b[1;33m\u001b[0m\u001b[1;33m\u001b[0m\u001b[0m\n\u001b[0;32m     57\u001b[0m     \u001b[0mrate_matrix\u001b[0m \u001b[1;33m=\u001b[0m \u001b[0mbuild_rate_matrix\u001b[0m\u001b[1;33m(\u001b[0m\u001b[0mforward_rates\u001b[0m\u001b[1;33m,\u001b[0m \u001b[0mbackward_rates\u001b[0m\u001b[1;33m)\u001b[0m\u001b[1;33m\u001b[0m\u001b[1;33m\u001b[0m\u001b[0m\n",
      "\u001b[1;32m~\\Documents\\Year 3\\BEP\\Energy_Landscape_dCas9\\Diewertje\\Calculate_ABA_Finkelsteinlab_Diewertje.py\u001b[0m in \u001b[0;36mget_energies\u001b[1;34m(epsilon, mismatch_positions, guide_length)\u001b[0m\n\u001b[0;32m     75\u001b[0m     \u001b[0mepsI\u001b[0m \u001b[1;33m=\u001b[0m \u001b[0mnew_epsilon\u001b[0m\u001b[1;33m[\u001b[0m\u001b[1;33m(\u001b[0m\u001b[0mguide_length\u001b[0m\u001b[1;33m+\u001b[0m\u001b[1;36m1\u001b[0m\u001b[1;33m)\u001b[0m\u001b[1;33m:\u001b[0m\u001b[1;33m]\u001b[0m\u001b[1;33m\u001b[0m\u001b[1;33m\u001b[0m\u001b[0m\n\u001b[0;32m     76\u001b[0m     \u001b[0menergies\u001b[0m \u001b[1;33m=\u001b[0m \u001b[1;33m-\u001b[0m\u001b[1;36m1\u001b[0m\u001b[1;33m*\u001b[0m\u001b[0mnew_epsilon\u001b[0m\u001b[1;33m[\u001b[0m\u001b[1;36m0\u001b[0m\u001b[1;33m:\u001b[0m\u001b[1;33m(\u001b[0m\u001b[0mguide_length\u001b[0m\u001b[1;33m+\u001b[0m\u001b[1;36m1\u001b[0m\u001b[1;33m)\u001b[0m\u001b[1;33m]\u001b[0m \u001b[1;31m# convention: epsC>0 means downward slope\u001b[0m\u001b[1;33m\u001b[0m\u001b[1;33m\u001b[0m\u001b[0m\n\u001b[1;32m---> 77\u001b[1;33m     \u001b[0menergies\u001b[0m\u001b[1;33m[\u001b[0m\u001b[1;36m0\u001b[0m\u001b[1;33m]\u001b[0m \u001b[1;33m=\u001b[0m \u001b[0mnew_epsilon\u001b[0m\u001b[1;33m[\u001b[0m\u001b[1;36m0\u001b[0m\u001b[1;33m]\u001b[0m                 \u001b[1;31m# convention: epsPAM>0 means upward slope\u001b[0m\u001b[1;33m\u001b[0m\u001b[1;33m\u001b[0m\u001b[0m\n\u001b[0m\u001b[0;32m     78\u001b[0m     \u001b[1;32mif\u001b[0m \u001b[0mlen\u001b[0m\u001b[1;33m(\u001b[0m\u001b[0mmismatch_positions\u001b[0m\u001b[1;33m)\u001b[0m\u001b[1;33m>\u001b[0m\u001b[1;36m0\u001b[0m\u001b[1;33m:\u001b[0m\u001b[1;33m\u001b[0m\u001b[1;33m\u001b[0m\u001b[0m\n\u001b[0;32m     79\u001b[0m         \u001b[0menergies\u001b[0m\u001b[1;33m[\u001b[0m\u001b[0mmismatch_positions\u001b[0m\u001b[1;33m.\u001b[0m\u001b[0mastype\u001b[0m\u001b[1;33m(\u001b[0m\u001b[0mint\u001b[0m\u001b[1;33m)\u001b[0m\u001b[1;33m]\u001b[0m \u001b[1;33m+=\u001b[0m \u001b[0mepsI\u001b[0m\u001b[1;33m[\u001b[0m\u001b[1;33m(\u001b[0m\u001b[0mmismatch_positions\u001b[0m\u001b[1;33m.\u001b[0m\u001b[0mastype\u001b[0m\u001b[1;33m(\u001b[0m\u001b[0mint\u001b[0m\u001b[1;33m)\u001b[0m\u001b[1;33m-\u001b[0m\u001b[1;36m1\u001b[0m\u001b[1;33m)\u001b[0m\u001b[1;33m]\u001b[0m\u001b[1;33m\u001b[0m\u001b[1;33m\u001b[0m\u001b[0m\n",
      "\u001b[1;31mIndexError\u001b[0m: list assignment index out of range"
     ]
    },
    {
     "data": {
      "text/plain": [
       "<Figure size 432x288 with 0 Axes>"
      ]
     },
     "metadata": {},
     "output_type": "display_data"
    }
   ],
   "source": [
    "#plt.figure()\n",
    "#_ = pltABA.predict_1D_mmblocks(Finkel_params, model_id, T=60*10,guide_length=20);\n",
    "#plt.savefig('../reports/Skype_call_Ilya_10_12_2018/blocks_collapse_first_position.pdf', format='pdf',bbox_inches='tight')\n",
    "\n",
    "plt.figure()\n",
    "_ = pltABA.predict_single_mm(Finkel_params,model_id, data_file=IlyaData)\n",
    "#plt.savefig('../reports/Skype_call_Ilya_10_12_2018/single_mm.pdf', format='pdf',bbox_inches='tight')\n",
    "\n",
    "#plt.figure()\n",
    "#_ = pltABA.predict_double_mm(Finkel_params,model_id)\n",
    "#plt.savefig('../reports/Skype_call_Ilya_10_12_2018/double_mm_heatmap.pdf', format='pdf',bbox_inches='tight')\n",
    "\n",
    "#plt.figure()\n",
    "#_ = pltABA.predict_block_mismatches(parameters=Finkel_params, model_id=model_id, T=60*10,guide_length=20)\n"
   ]
  },
  {
   "cell_type": "code",
   "execution_count": null,
   "metadata": {},
   "outputs": [],
   "source": []
  }
 ],
 "metadata": {
  "kernelspec": {
   "display_name": "Python 3",
   "language": "python",
   "name": "python3"
  },
  "language_info": {
   "codemirror_mode": {
    "name": "ipython",
    "version": 3
   },
   "file_extension": ".py",
   "mimetype": "text/x-python",
   "name": "python",
   "nbconvert_exporter": "python",
   "pygments_lexer": "ipython3",
   "version": "3.6.8"
  }
 },
 "nbformat": 4,
 "nbformat_minor": 2
}
