{
 "cells": [
  {
   "cell_type": "code",
   "execution_count": 16,
   "metadata": {},
   "outputs": [
    {
     "ename": "NameError",
     "evalue": "name 'reload' is not defined",
     "output_type": "error",
     "traceback": [
      "\u001b[1;31m---------------------------------------------------------------------------\u001b[0m",
      "\u001b[1;31mNameError\u001b[0m                                 Traceback (most recent call last)",
      "\u001b[1;32m<ipython-input-16-4d8fa2350000>\u001b[0m in \u001b[0;36m<module>\u001b[1;34m\u001b[0m\n\u001b[0;32m     10\u001b[0m \u001b[1;32mimport\u001b[0m \u001b[0msys\u001b[0m\u001b[1;33m\u001b[0m\u001b[1;33m\u001b[0m\u001b[0m\n\u001b[0;32m     11\u001b[0m \u001b[0msys\u001b[0m\u001b[1;33m.\u001b[0m\u001b[0mpath\u001b[0m\u001b[1;33m.\u001b[0m\u001b[0mappend\u001b[0m\u001b[1;33m(\u001b[0m\u001b[1;34m'../code_general/'\u001b[0m\u001b[1;33m)\u001b[0m\u001b[1;33m\u001b[0m\u001b[1;33m\u001b[0m\u001b[0m\n\u001b[1;32m---> 12\u001b[1;33m \u001b[1;32mimport\u001b[0m \u001b[0mCRISPR_free_energy_landscape\u001b[0m \u001b[1;32mas\u001b[0m \u001b[0mFreeEnergy\u001b[0m\u001b[1;33m\u001b[0m\u001b[1;33m\u001b[0m\u001b[0m\n\u001b[0m\u001b[0;32m     13\u001b[0m \u001b[1;31m#imp.reload(FreeEnergy);\u001b[0m\u001b[1;33m\u001b[0m\u001b[1;33m\u001b[0m\u001b[1;33m\u001b[0m\u001b[0m\n\u001b[0;32m     14\u001b[0m \u001b[1;32mimport\u001b[0m \u001b[0mread_model_ID\u001b[0m\u001b[1;33m;\u001b[0m\u001b[1;33m\u001b[0m\u001b[1;33m\u001b[0m\u001b[0m\n",
      "\u001b[1;32m~\\Documents\\Year 3\\BEP\\Energy_Landscape_dCas9\\code_general\\CRISPR_free_energy_landscape.py\u001b[0m in \u001b[0;36m<module>\u001b[1;34m\u001b[0m\n\u001b[0;32m      4\u001b[0m \u001b[0msns\u001b[0m\u001b[1;33m.\u001b[0m\u001b[0mset_style\u001b[0m\u001b[1;33m(\u001b[0m\u001b[1;34m'ticks'\u001b[0m\u001b[1;33m)\u001b[0m\u001b[1;33m\u001b[0m\u001b[1;33m\u001b[0m\u001b[0m\n\u001b[0;32m      5\u001b[0m \u001b[1;32mimport\u001b[0m \u001b[0mread_model_ID\u001b[0m\u001b[1;33m\u001b[0m\u001b[1;33m\u001b[0m\u001b[0m\n\u001b[1;32m----> 6\u001b[1;33m \u001b[0mreload\u001b[0m\u001b[1;33m(\u001b[0m\u001b[0mread_model_ID\u001b[0m\u001b[1;33m)\u001b[0m\u001b[1;33m;\u001b[0m\u001b[1;33m\u001b[0m\u001b[1;33m\u001b[0m\u001b[0m\n\u001b[0m\u001b[0;32m      7\u001b[0m \u001b[1;33m\u001b[0m\u001b[0m\n\u001b[0;32m      8\u001b[0m \u001b[1;33m\u001b[0m\u001b[0m\n",
      "\u001b[1;31mNameError\u001b[0m: name 'reload' is not defined"
     ]
    }
   ],
   "source": [
    "%matplotlib inline\n",
    "import importlib as imp\n",
    "import matplotlib.pylab as plt \n",
    "import numpy as np \n",
    "import pandas as pd \n",
    "import seaborn as sns\n",
    "sns.set_style('ticks');\n",
    "current_colors = sns.color_palette()\n",
    "sns.set_palette('Accent');\n",
    "import sys \n",
    "sys.path.append('../code_general/')\n",
    "import CRISPR_free_energy_landscape as FreeEnergy\n",
    "#imp.reload(FreeEnergy);\n",
    "import read_model_ID;\n",
    "#imp.reload(read_model_ID);\n",
    "\n",
    "import sys \n",
    "sys.path.append('../code_general_Finkelsteinlab/')\n",
    "import Process_SeqLibrary_Finkelsteinlab as preprocess\n",
    "import plotting_Finkelsteinlab as plt_F\n",
    "imp.reload(plt_F)\n",
    "\n",
    "\n",
    "#import CRISPR_dCas9_binding_curve_Boyle as dCas9\n",
    "#imp.reload(dCas9);\n",
    "\n",
    "import analysis_SA_fits as SAfits\n",
    "imp.reload(SAfits);\n",
    "\n"
   ]
  },
  {
   "cell_type": "markdown",
   "metadata": {},
   "source": [
    "#  Step 1: Use SA fit to association data from Boyle et al.\n",
    "Using simmulated annealing we minimise the χ2 based on the data with singly and doubly mismatched sequences. Here we show our best fit."
   ]
  },
  {
   "cell_type": "code",
   "execution_count": 13,
   "metadata": {},
   "outputs": [
    {
     "data": {
      "text/plain": [
       "'../Diewertje/1_3_2019/fit_1_3_2019_sim_7.txt'"
      ]
     },
     "execution_count": 13,
     "metadata": {},
     "output_type": "execute_result"
    }
   ],
   "source": [
    "simset = []\n",
    "no_good = []\n",
    "\n",
    "chi_squared = [] \n",
    "\n",
    "#---------- collect simulations ---------------\n",
    "for sim in range(1,13):\n",
    "    sa = pd.read_csv('../Diewertje/1_3_2019/fit_1_3_2019_sim_' +str(sim)+'.txt', delimiter='\\t', index_col=46)\n",
    "    filename = '../Diewertje/1_3_2019/fit_1_3_2019_sim_' +str(sim) +'.txt'   \n",
    "    chi_squared.append(sa.Potential.iloc[-1])\n",
    "    simset.append(filename)\n",
    "        \n",
    "    \n",
    "best_fit = simset[np.argmin(chi_squared)]\n",
    "best_fit\n",
    "# WRONG! SINCE SUCCESS IS FALSE!"
   ]
  },
  {
   "cell_type": "code",
   "execution_count": null,
   "metadata": {},
   "outputs": [],
   "source": [
    "model_id = 'init_limit_general_energies_v2'\n",
    "filename = best_fit\n",
    "Nparams = 44\n",
    "parameters = plt_ABA.load_simm_anneal(filename, Nparams)\n",
    "\n",
    "\n",
    "\n",
    "\n",
    "Model_pbound, Model_on, Model_off = plt_B.calc_predictions(parameters,model_id)\n",
    "\n",
    "\n",
    "Energy_landscape, FreeEnergy_landscape = FreeEnergy.plot_free_energy_landscape(parameters,model_id);\n",
    "\n",
    "plt.figure()\n",
    "FreeEnergy.plot_mismatch_penalties(parameters, model_id)\n",
    "\n",
    "\n",
    "plt.figure()\n",
    "_,_ = plt_B.plot_single_mismatches(Model_pbound ,kind='Occupancy')\n",
    "\n",
    "plt.figure()\n",
    "_,_ = plt_B.plot_single_mismatches(Model_on ,kind='OnRate')\n",
    "\n",
    "plt.figure()\n",
    "_,_ = plt_B.plot_single_mismatches(Model_off ,kind='OffRate')\n",
    "\n",
    "plt.figure()\n",
    "_,_ = plt_B.plot_heatmap(Model_pbound ,kind='Occupancy')\n",
    "\n",
    "plt.figure()\n",
    "_,_ = plt_B.plot_heatmap(Model_on ,kind='OnRate')\n",
    "\n",
    "plt.figure()\n",
    "_,_ = plt_B.plot_heatmap(Model_off ,kind='OffRate')\n"
   ]
  }
 ],
 "metadata": {
  "kernelspec": {
   "display_name": "Python 3",
   "language": "python",
   "name": "python3"
  },
  "language_info": {
   "codemirror_mode": {
    "name": "ipython",
    "version": 3
   },
   "file_extension": ".py",
   "mimetype": "text/x-python",
   "name": "python",
   "nbconvert_exporter": "python",
   "pygments_lexer": "ipython3",
   "version": "3.6.8"
  }
 },
 "nbformat": 4,
 "nbformat_minor": 2
}
