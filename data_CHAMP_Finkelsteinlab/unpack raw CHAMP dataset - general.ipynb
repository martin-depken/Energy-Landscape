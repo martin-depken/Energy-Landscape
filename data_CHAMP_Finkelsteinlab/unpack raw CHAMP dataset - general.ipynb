{
 "cells": [
  {
   "cell_type": "code",
   "execution_count": 1,
   "metadata": {
    "collapsed": true
   },
   "outputs": [],
   "source": [
    "%matplotlib inline\n",
    "import pandas as pd \n",
    "import numpy as np \n",
    "import matplotlib.pylab as plt \n",
    "import  pickle\n",
    "\n",
    "\n",
    "import sys \n",
    "sys.path.append('../code_general_Finkelsteinlab/')\n",
    "import Process_SeqLibrary_Finkelsteinlab as Finkellib\n",
    "reload(Finkellib);\n",
    "\n",
    "\n",
    "sys.path.append('../code_ABA_Finkelsteinlab/')\n",
    "sys.path.append('../code_general_Finkelsteinlab/')\n",
    "import plotting_ABA as pltABA \n",
    "import Generate_SeqLibrary_CHAMP \n",
    "\n",
    "from scipy.optimize import curve_fit\n",
    "\n",
    "\n"
   ]
  },
  {
   "cell_type": "code",
   "execution_count": 13,
   "metadata": {
    "collapsed": false
   },
   "outputs": [],
   "source": [
    "concentrations = [0.1, 0.3, 1, 3, 10, 30, 100, 300]\n",
    "target_D = 'TTTAGTGATAAGTGGAATGCCATGTGG'\n",
    "target_E = 'TTTAGACGCATAAAGATGAGACGCTGG'\n",
    "Cas= 'Cas9'\n",
    "for target in ['D','E']:\n",
    "    if target == 'D':\n",
    "        on_target_seq = target_D\n",
    "    elif target == 'E':\n",
    "        on_target_seq = target_E\n",
    "    for variant in ['WT','Enh','HF1','Hypa']:\n",
    "        filename_in = target + '-d' + Cas +'-' + variant +'-sequence-cluster-IntensityAtConcentration.txt'\n",
    "\n",
    "        SeqLibrary = Generate_SeqLibrary_CHAMP.Generate_SeqLibrary(filename_in, \n",
    "                                                           concentrations, \n",
    "                                                           nmbr_boot=1, \n",
    "                                                           on_target_seq=on_target_seq,\n",
    "                                                          mode='ref_concentration')\n",
    "\n",
    "        filename_out = './Target' + target + '-d' + Cas + '_AbsoluteABA.csv'\n",
    "        SeqLibrary.to_csv(filename_out, index=False)"
   ]
  },
  {
   "cell_type": "code",
   "execution_count": 15,
   "metadata": {
    "collapsed": false
   },
   "outputs": [
    {
     "name": "stdout",
     "output_type": "stream",
     "text": [
      "1.67556070612\n",
      "4.45881234447\n",
      "                         sequence       ABA  error\n",
      "3405  TTTAGACGCATAAAGATGAGACGCTGG  2.711886    0.0\n"
     ]
    }
   ],
   "source": [
    "print SeqLibrary.ABA.min()\n",
    "print SeqLibrary.ABA.max()\n",
    "print SeqLibrary[SeqLibrary.sequence==target_E]"
   ]
  },
  {
   "cell_type": "code",
   "execution_count": 16,
   "metadata": {
    "collapsed": false
   },
   "outputs": [
    {
     "data": {
      "text/html": [
       "<div>\n",
       "<style>\n",
       "    .dataframe thead tr:only-child th {\n",
       "        text-align: right;\n",
       "    }\n",
       "\n",
       "    .dataframe thead th {\n",
       "        text-align: left;\n",
       "    }\n",
       "\n",
       "    .dataframe tbody tr th {\n",
       "        vertical-align: top;\n",
       "    }\n",
       "</style>\n",
       "<table border=\"1\" class=\"dataframe\">\n",
       "  <thead>\n",
       "    <tr style=\"text-align: right;\">\n",
       "      <th></th>\n",
       "      <th>sequence</th>\n",
       "      <th>ABA</th>\n",
       "      <th>error</th>\n",
       "    </tr>\n",
       "  </thead>\n",
       "  <tbody>\n",
       "    <tr>\n",
       "      <th>0</th>\n",
       "      <td>AAAAGACGCATAAAGATGAGACGCTGG</td>\n",
       "      <td>2.607643</td>\n",
       "      <td>0.0</td>\n",
       "    </tr>\n",
       "    <tr>\n",
       "      <th>1</th>\n",
       "      <td>AAATCACGCATAAAGATGAGACGCTGG</td>\n",
       "      <td>2.743589</td>\n",
       "      <td>0.0</td>\n",
       "    </tr>\n",
       "    <tr>\n",
       "      <th>2</th>\n",
       "      <td>AAATCTCGCATAAAGATGAGACGCTGG</td>\n",
       "      <td>2.699864</td>\n",
       "      <td>0.0</td>\n",
       "    </tr>\n",
       "    <tr>\n",
       "      <th>3</th>\n",
       "      <td>AAATCTGCCATAAAGATGAGACGCTGG</td>\n",
       "      <td>2.989144</td>\n",
       "      <td>0.0</td>\n",
       "    </tr>\n",
       "    <tr>\n",
       "      <th>4</th>\n",
       "      <td>AAATCTGCGATAAAGATGAGACGCTGG</td>\n",
       "      <td>2.961392</td>\n",
       "      <td>0.0</td>\n",
       "    </tr>\n",
       "    <tr>\n",
       "      <th>5</th>\n",
       "      <td>AAATCTGCGTAAAAGATGAGACGCTGG</td>\n",
       "      <td>3.030227</td>\n",
       "      <td>0.0</td>\n",
       "    </tr>\n",
       "    <tr>\n",
       "      <th>6</th>\n",
       "      <td>AAATCTGCGTATAAGATGAGACGCTGG</td>\n",
       "      <td>2.983883</td>\n",
       "      <td>0.0</td>\n",
       "    </tr>\n",
       "    <tr>\n",
       "      <th>7</th>\n",
       "      <td>AAATCTGCGTATTAGATGAGACGCTGG</td>\n",
       "      <td>3.182896</td>\n",
       "      <td>0.0</td>\n",
       "    </tr>\n",
       "    <tr>\n",
       "      <th>8</th>\n",
       "      <td>AAATCTGCGTATTTCATGAGACGCTGG</td>\n",
       "      <td>4.115938</td>\n",
       "      <td>0.0</td>\n",
       "    </tr>\n",
       "    <tr>\n",
       "      <th>9</th>\n",
       "      <td>AAATCTGCGTATTTCTACAGACGCTGG</td>\n",
       "      <td>4.081680</td>\n",
       "      <td>0.0</td>\n",
       "    </tr>\n",
       "    <tr>\n",
       "      <th>10</th>\n",
       "      <td>AAATCTGCGTATTTCTACTCACGCTGG</td>\n",
       "      <td>4.093939</td>\n",
       "      <td>0.0</td>\n",
       "    </tr>\n",
       "    <tr>\n",
       "      <th>11</th>\n",
       "      <td>AAATCTGCGTATTTCTACTCTCGCTGG</td>\n",
       "      <td>4.258378</td>\n",
       "      <td>0.0</td>\n",
       "    </tr>\n",
       "    <tr>\n",
       "      <th>12</th>\n",
       "      <td>AAATCTGCGTATTTCTACTCTGCCTGG</td>\n",
       "      <td>4.092568</td>\n",
       "      <td>0.0</td>\n",
       "    </tr>\n",
       "    <tr>\n",
       "      <th>13</th>\n",
       "      <td>AAATCTGCGTATTTCTACTCTGCGACG</td>\n",
       "      <td>4.192614</td>\n",
       "      <td>0.0</td>\n",
       "    </tr>\n",
       "    <tr>\n",
       "      <th>14</th>\n",
       "      <td>AAATCTGCGTATTTCTACTCTGCGAGG</td>\n",
       "      <td>4.261135</td>\n",
       "      <td>0.0</td>\n",
       "    </tr>\n",
       "    <tr>\n",
       "      <th>15</th>\n",
       "      <td>AAATCTGCGTATTTCTACTCTGCGTGG</td>\n",
       "      <td>4.189252</td>\n",
       "      <td>0.0</td>\n",
       "    </tr>\n",
       "    <tr>\n",
       "      <th>16</th>\n",
       "      <td>AAATCTGCGTATTTCTACTCTGGCTGG</td>\n",
       "      <td>4.254957</td>\n",
       "      <td>0.0</td>\n",
       "    </tr>\n",
       "    <tr>\n",
       "      <th>17</th>\n",
       "      <td>AAATCTGCGTATTTCTACTGACGCTGG</td>\n",
       "      <td>4.202923</td>\n",
       "      <td>0.0</td>\n",
       "    </tr>\n",
       "    <tr>\n",
       "      <th>18</th>\n",
       "      <td>AAATCTGCGTATTTCTAGAGACGCTGG</td>\n",
       "      <td>4.088387</td>\n",
       "      <td>0.0</td>\n",
       "    </tr>\n",
       "    <tr>\n",
       "      <th>19</th>\n",
       "      <td>AAATCTGCGTATTTCTTGAGACGCTGG</td>\n",
       "      <td>4.134789</td>\n",
       "      <td>0.0</td>\n",
       "    </tr>\n",
       "    <tr>\n",
       "      <th>20</th>\n",
       "      <td>AAATCTGCGTATTTGATGAGACGCTGG</td>\n",
       "      <td>3.530032</td>\n",
       "      <td>0.0</td>\n",
       "    </tr>\n",
       "    <tr>\n",
       "      <th>21</th>\n",
       "      <td>AAATCTGCGTTAAAGATGAGACGCTGG</td>\n",
       "      <td>2.976130</td>\n",
       "      <td>0.0</td>\n",
       "    </tr>\n",
       "    <tr>\n",
       "      <th>22</th>\n",
       "      <td>AAATCTGGCATAAAGATGAGACGCTGG</td>\n",
       "      <td>2.738905</td>\n",
       "      <td>0.0</td>\n",
       "    </tr>\n",
       "    <tr>\n",
       "      <th>23</th>\n",
       "      <td>AAATGACGCATAAAGATGAGACGCTGG</td>\n",
       "      <td>2.710049</td>\n",
       "      <td>0.0</td>\n",
       "    </tr>\n",
       "    <tr>\n",
       "      <th>24</th>\n",
       "      <td>AAGGCCGAATTCTCACCGGCCCCAAGGTATTCAAG</td>\n",
       "      <td>4.094753</td>\n",
       "      <td>0.0</td>\n",
       "    </tr>\n",
       "    <tr>\n",
       "      <th>25</th>\n",
       "      <td>AAGTCGGCTCCTGTTTAGTTACGAGCGACATTGCT</td>\n",
       "      <td>3.965064</td>\n",
       "      <td>0.0</td>\n",
       "    </tr>\n",
       "    <tr>\n",
       "      <th>26</th>\n",
       "      <td>AATAGACGCATAAAGATGAGACGCTGG</td>\n",
       "      <td>2.742972</td>\n",
       "      <td>0.0</td>\n",
       "    </tr>\n",
       "    <tr>\n",
       "      <th>27</th>\n",
       "      <td>ACCTTCACGGCGGGCTTGATGTCCGCGTCTACCTG</td>\n",
       "      <td>4.132006</td>\n",
       "      <td>0.0</td>\n",
       "    </tr>\n",
       "    <tr>\n",
       "      <th>28</th>\n",
       "      <td>ACTAGACGCATAAAGATGAGACGCTGG</td>\n",
       "      <td>2.818401</td>\n",
       "      <td>0.0</td>\n",
       "    </tr>\n",
       "    <tr>\n",
       "      <th>29</th>\n",
       "      <td>AGTAGACGCATAAAGATGAGACGCTGG</td>\n",
       "      <td>2.787044</td>\n",
       "      <td>0.0</td>\n",
       "    </tr>\n",
       "    <tr>\n",
       "      <th>...</th>\n",
       "      <td>...</td>\n",
       "      <td>...</td>\n",
       "      <td>...</td>\n",
       "    </tr>\n",
       "    <tr>\n",
       "      <th>7362</th>\n",
       "      <td>TTTTGACGCATAAAGATGGGACGCTGG</td>\n",
       "      <td>3.373689</td>\n",
       "      <td>0.0</td>\n",
       "    </tr>\n",
       "    <tr>\n",
       "      <th>7363</th>\n",
       "      <td>TTTTGACGCATAAAGATGTGACGCTGG</td>\n",
       "      <td>3.842626</td>\n",
       "      <td>0.0</td>\n",
       "    </tr>\n",
       "    <tr>\n",
       "      <th>7364</th>\n",
       "      <td>TTTTGACGCATAAAGATTAGACGCTGG</td>\n",
       "      <td>4.048705</td>\n",
       "      <td>0.0</td>\n",
       "    </tr>\n",
       "    <tr>\n",
       "      <th>7365</th>\n",
       "      <td>TTTTGACGCATAAAGCTGAGACGCTGG</td>\n",
       "      <td>3.687168</td>\n",
       "      <td>0.0</td>\n",
       "    </tr>\n",
       "    <tr>\n",
       "      <th>7366</th>\n",
       "      <td>TTTTGACGCATAAAGGTGAGACGCTGG</td>\n",
       "      <td>3.549907</td>\n",
       "      <td>0.0</td>\n",
       "    </tr>\n",
       "    <tr>\n",
       "      <th>7367</th>\n",
       "      <td>TTTTGACGCATAAAGTTGAGACGCTGG</td>\n",
       "      <td>3.797522</td>\n",
       "      <td>0.0</td>\n",
       "    </tr>\n",
       "    <tr>\n",
       "      <th>7368</th>\n",
       "      <td>TTTTGACGCATAAATATGAGACGCTGG</td>\n",
       "      <td>3.198005</td>\n",
       "      <td>0.0</td>\n",
       "    </tr>\n",
       "    <tr>\n",
       "      <th>7369</th>\n",
       "      <td>TTTTGACGCATAACGATGAGACGCTGG</td>\n",
       "      <td>3.231325</td>\n",
       "      <td>0.0</td>\n",
       "    </tr>\n",
       "    <tr>\n",
       "      <th>7370</th>\n",
       "      <td>TTTTGACGCATAAGGATGAGACGCTGG</td>\n",
       "      <td>3.029528</td>\n",
       "      <td>0.0</td>\n",
       "    </tr>\n",
       "    <tr>\n",
       "      <th>7371</th>\n",
       "      <td>TTTTGACGCATAATGATGAGACGCTGG</td>\n",
       "      <td>2.881574</td>\n",
       "      <td>0.0</td>\n",
       "    </tr>\n",
       "    <tr>\n",
       "      <th>7372</th>\n",
       "      <td>TTTTGACGCATACAGATGAGACGCTGG</td>\n",
       "      <td>3.160061</td>\n",
       "      <td>0.0</td>\n",
       "    </tr>\n",
       "    <tr>\n",
       "      <th>7373</th>\n",
       "      <td>TTTTGACGCATAGAGATGAGACGCTGG</td>\n",
       "      <td>2.978873</td>\n",
       "      <td>0.0</td>\n",
       "    </tr>\n",
       "    <tr>\n",
       "      <th>7374</th>\n",
       "      <td>TTTTGACGCATATAGATGAGACGCTGG</td>\n",
       "      <td>2.875262</td>\n",
       "      <td>0.0</td>\n",
       "    </tr>\n",
       "    <tr>\n",
       "      <th>7375</th>\n",
       "      <td>TTTTGACGCATCAAGATGAGACGCTGG</td>\n",
       "      <td>3.019246</td>\n",
       "      <td>0.0</td>\n",
       "    </tr>\n",
       "    <tr>\n",
       "      <th>7376</th>\n",
       "      <td>TTTTGACGCATGAAGATGAGACGCTGG</td>\n",
       "      <td>2.878744</td>\n",
       "      <td>0.0</td>\n",
       "    </tr>\n",
       "    <tr>\n",
       "      <th>7377</th>\n",
       "      <td>TTTTGACGCATTAAGATGAGACGCTGG</td>\n",
       "      <td>2.766588</td>\n",
       "      <td>0.0</td>\n",
       "    </tr>\n",
       "    <tr>\n",
       "      <th>7378</th>\n",
       "      <td>TTTTGACGCCTAAAGATGAGACGCTGG</td>\n",
       "      <td>2.906115</td>\n",
       "      <td>0.0</td>\n",
       "    </tr>\n",
       "    <tr>\n",
       "      <th>7379</th>\n",
       "      <td>TTTTGACGCGTAAAGATGAGACGCTGG</td>\n",
       "      <td>2.996777</td>\n",
       "      <td>0.0</td>\n",
       "    </tr>\n",
       "    <tr>\n",
       "      <th>7380</th>\n",
       "      <td>TTTTGACGCTTAAAGATGAGACGCTGG</td>\n",
       "      <td>2.851975</td>\n",
       "      <td>0.0</td>\n",
       "    </tr>\n",
       "    <tr>\n",
       "      <th>7381</th>\n",
       "      <td>TTTTGACGGATAAAGATGAGACGCTGG</td>\n",
       "      <td>2.907211</td>\n",
       "      <td>0.0</td>\n",
       "    </tr>\n",
       "    <tr>\n",
       "      <th>7382</th>\n",
       "      <td>TTTTGACGTATAAAGATGAGACGCTGG</td>\n",
       "      <td>2.728742</td>\n",
       "      <td>0.0</td>\n",
       "    </tr>\n",
       "    <tr>\n",
       "      <th>7383</th>\n",
       "      <td>TTTTGACTCATAAAGATGAGACGCTGG</td>\n",
       "      <td>2.724746</td>\n",
       "      <td>0.0</td>\n",
       "    </tr>\n",
       "    <tr>\n",
       "      <th>7384</th>\n",
       "      <td>TTTTGAGACGCATAAAGATGAGACGCTGG</td>\n",
       "      <td>2.591922</td>\n",
       "      <td>0.0</td>\n",
       "    </tr>\n",
       "    <tr>\n",
       "      <th>7385</th>\n",
       "      <td>TTTTGAGGCATAAAGATGAGACGCTGG</td>\n",
       "      <td>2.728866</td>\n",
       "      <td>0.0</td>\n",
       "    </tr>\n",
       "    <tr>\n",
       "      <th>7386</th>\n",
       "      <td>TTTTGATGCATAAAGATGAGACGCTGG</td>\n",
       "      <td>2.714183</td>\n",
       "      <td>0.0</td>\n",
       "    </tr>\n",
       "    <tr>\n",
       "      <th>7387</th>\n",
       "      <td>TTTTGCCGCATAAAGATGAGACGCTGG</td>\n",
       "      <td>2.681860</td>\n",
       "      <td>0.0</td>\n",
       "    </tr>\n",
       "    <tr>\n",
       "      <th>7388</th>\n",
       "      <td>TTTTGGCGCATAAAGATGAGACGCTGG</td>\n",
       "      <td>2.674766</td>\n",
       "      <td>0.0</td>\n",
       "    </tr>\n",
       "    <tr>\n",
       "      <th>7389</th>\n",
       "      <td>TTTTGTCGCATAAAGATGAGACGCTGG</td>\n",
       "      <td>2.655139</td>\n",
       "      <td>0.0</td>\n",
       "    </tr>\n",
       "    <tr>\n",
       "      <th>7390</th>\n",
       "      <td>TTTTTACGCATAAAGATGAGACGCTGG</td>\n",
       "      <td>2.551592</td>\n",
       "      <td>0.0</td>\n",
       "    </tr>\n",
       "    <tr>\n",
       "      <th>7391</th>\n",
       "      <td>TTTTTAGACGCATAAAGATGAGACGCTGG</td>\n",
       "      <td>2.635841</td>\n",
       "      <td>0.0</td>\n",
       "    </tr>\n",
       "  </tbody>\n",
       "</table>\n",
       "<p>7392 rows × 3 columns</p>\n",
       "</div>"
      ],
      "text/plain": [
       "                                 sequence       ABA  error\n",
       "0             AAAAGACGCATAAAGATGAGACGCTGG  2.607643    0.0\n",
       "1             AAATCACGCATAAAGATGAGACGCTGG  2.743589    0.0\n",
       "2             AAATCTCGCATAAAGATGAGACGCTGG  2.699864    0.0\n",
       "3             AAATCTGCCATAAAGATGAGACGCTGG  2.989144    0.0\n",
       "4             AAATCTGCGATAAAGATGAGACGCTGG  2.961392    0.0\n",
       "5             AAATCTGCGTAAAAGATGAGACGCTGG  3.030227    0.0\n",
       "6             AAATCTGCGTATAAGATGAGACGCTGG  2.983883    0.0\n",
       "7             AAATCTGCGTATTAGATGAGACGCTGG  3.182896    0.0\n",
       "8             AAATCTGCGTATTTCATGAGACGCTGG  4.115938    0.0\n",
       "9             AAATCTGCGTATTTCTACAGACGCTGG  4.081680    0.0\n",
       "10            AAATCTGCGTATTTCTACTCACGCTGG  4.093939    0.0\n",
       "11            AAATCTGCGTATTTCTACTCTCGCTGG  4.258378    0.0\n",
       "12            AAATCTGCGTATTTCTACTCTGCCTGG  4.092568    0.0\n",
       "13            AAATCTGCGTATTTCTACTCTGCGACG  4.192614    0.0\n",
       "14            AAATCTGCGTATTTCTACTCTGCGAGG  4.261135    0.0\n",
       "15            AAATCTGCGTATTTCTACTCTGCGTGG  4.189252    0.0\n",
       "16            AAATCTGCGTATTTCTACTCTGGCTGG  4.254957    0.0\n",
       "17            AAATCTGCGTATTTCTACTGACGCTGG  4.202923    0.0\n",
       "18            AAATCTGCGTATTTCTAGAGACGCTGG  4.088387    0.0\n",
       "19            AAATCTGCGTATTTCTTGAGACGCTGG  4.134789    0.0\n",
       "20            AAATCTGCGTATTTGATGAGACGCTGG  3.530032    0.0\n",
       "21            AAATCTGCGTTAAAGATGAGACGCTGG  2.976130    0.0\n",
       "22            AAATCTGGCATAAAGATGAGACGCTGG  2.738905    0.0\n",
       "23            AAATGACGCATAAAGATGAGACGCTGG  2.710049    0.0\n",
       "24    AAGGCCGAATTCTCACCGGCCCCAAGGTATTCAAG  4.094753    0.0\n",
       "25    AAGTCGGCTCCTGTTTAGTTACGAGCGACATTGCT  3.965064    0.0\n",
       "26            AATAGACGCATAAAGATGAGACGCTGG  2.742972    0.0\n",
       "27    ACCTTCACGGCGGGCTTGATGTCCGCGTCTACCTG  4.132006    0.0\n",
       "28            ACTAGACGCATAAAGATGAGACGCTGG  2.818401    0.0\n",
       "29            AGTAGACGCATAAAGATGAGACGCTGG  2.787044    0.0\n",
       "...                                   ...       ...    ...\n",
       "7362          TTTTGACGCATAAAGATGGGACGCTGG  3.373689    0.0\n",
       "7363          TTTTGACGCATAAAGATGTGACGCTGG  3.842626    0.0\n",
       "7364          TTTTGACGCATAAAGATTAGACGCTGG  4.048705    0.0\n",
       "7365          TTTTGACGCATAAAGCTGAGACGCTGG  3.687168    0.0\n",
       "7366          TTTTGACGCATAAAGGTGAGACGCTGG  3.549907    0.0\n",
       "7367          TTTTGACGCATAAAGTTGAGACGCTGG  3.797522    0.0\n",
       "7368          TTTTGACGCATAAATATGAGACGCTGG  3.198005    0.0\n",
       "7369          TTTTGACGCATAACGATGAGACGCTGG  3.231325    0.0\n",
       "7370          TTTTGACGCATAAGGATGAGACGCTGG  3.029528    0.0\n",
       "7371          TTTTGACGCATAATGATGAGACGCTGG  2.881574    0.0\n",
       "7372          TTTTGACGCATACAGATGAGACGCTGG  3.160061    0.0\n",
       "7373          TTTTGACGCATAGAGATGAGACGCTGG  2.978873    0.0\n",
       "7374          TTTTGACGCATATAGATGAGACGCTGG  2.875262    0.0\n",
       "7375          TTTTGACGCATCAAGATGAGACGCTGG  3.019246    0.0\n",
       "7376          TTTTGACGCATGAAGATGAGACGCTGG  2.878744    0.0\n",
       "7377          TTTTGACGCATTAAGATGAGACGCTGG  2.766588    0.0\n",
       "7378          TTTTGACGCCTAAAGATGAGACGCTGG  2.906115    0.0\n",
       "7379          TTTTGACGCGTAAAGATGAGACGCTGG  2.996777    0.0\n",
       "7380          TTTTGACGCTTAAAGATGAGACGCTGG  2.851975    0.0\n",
       "7381          TTTTGACGGATAAAGATGAGACGCTGG  2.907211    0.0\n",
       "7382          TTTTGACGTATAAAGATGAGACGCTGG  2.728742    0.0\n",
       "7383          TTTTGACTCATAAAGATGAGACGCTGG  2.724746    0.0\n",
       "7384        TTTTGAGACGCATAAAGATGAGACGCTGG  2.591922    0.0\n",
       "7385          TTTTGAGGCATAAAGATGAGACGCTGG  2.728866    0.0\n",
       "7386          TTTTGATGCATAAAGATGAGACGCTGG  2.714183    0.0\n",
       "7387          TTTTGCCGCATAAAGATGAGACGCTGG  2.681860    0.0\n",
       "7388          TTTTGGCGCATAAAGATGAGACGCTGG  2.674766    0.0\n",
       "7389          TTTTGTCGCATAAAGATGAGACGCTGG  2.655139    0.0\n",
       "7390          TTTTTACGCATAAAGATGAGACGCTGG  2.551592    0.0\n",
       "7391        TTTTTAGACGCATAAAGATGAGACGCTGG  2.635841    0.0\n",
       "\n",
       "[7392 rows x 3 columns]"
      ]
     },
     "execution_count": 16,
     "metadata": {},
     "output_type": "execute_result"
    }
   ],
   "source": [
    "SeqLibrary"
   ]
  },
  {
   "cell_type": "code",
   "execution_count": null,
   "metadata": {
    "collapsed": false
   },
   "outputs": [],
   "source": [
    "# concentrations = [0, 0.1, 0.3, 1, 3, 10, 30, 100, 300]\n",
    "concentrations = [0.1, 0.3, 1, 3, 10, 30, 100, 300]\n",
    "target_D = 'TTTAGTGATAAGTGGAATGCCATGTGG'\n",
    "target_E = 'TTTAGACGCATAAAGATGAGACGCTGG'\n",
    "Cas = 'Cas9'\n",
    "\n",
    "df = collect_all_clusters(CHAMP_data=datadict,\n",
    "                          concentrations=concentrations, \n",
    "                          target_seq=target_E, \n",
    "                          Cas=Cas)"
   ]
  },
  {
   "cell_type": "code",
   "execution_count": null,
   "metadata": {
    "collapsed": true
   },
   "outputs": [],
   "source": [
    "processed_data = build_dataframe_for_fitting(df, nmbr_boot=1,concentrations=concentrations)"
   ]
  },
  {
   "cell_type": "code",
   "execution_count": null,
   "metadata": {
    "collapsed": true
   },
   "outputs": [],
   "source": [
    "processed_data.to_csv('./TargetD-dCas9_AbsoluteABA_raw.csv', index=False)"
   ]
  },
  {
   "cell_type": "code",
   "execution_count": null,
   "metadata": {
    "collapsed": false
   },
   "outputs": [],
   "source": [
    "\n",
    "df_sub_backgrnd_1 = subtract_background_low_concentration(df, concentrations)\n",
    "df_sub_backgrnd_2 = subtract_background_ref_sequence(df,\n",
    "                                                     concentrations=concentrations,\n",
    "                                                     non_specific_seq=\"AAGGCCGAATTCTCACCGGCCCCAAGGTATTCAAG\"\n",
    "                                                    )"
   ]
  },
  {
   "cell_type": "code",
   "execution_count": null,
   "metadata": {
    "collapsed": false
   },
   "outputs": [],
   "source": [
    "processed_data = build_dataframe_for_fitting(df, nmbr_boot=1,concentrations=concentrations)"
   ]
  },
  {
   "cell_type": "code",
   "execution_count": null,
   "metadata": {
    "collapsed": false
   },
   "outputs": [],
   "source": [
    "print len(processed_data)\n",
    "print len(df)"
   ]
  },
  {
   "cell_type": "code",
   "execution_count": null,
   "metadata": {
    "collapsed": true
   },
   "outputs": [],
   "source": []
  },
  {
   "cell_type": "code",
   "execution_count": null,
   "metadata": {
    "collapsed": true
   },
   "outputs": [],
   "source": []
  },
  {
   "cell_type": "code",
   "execution_count": null,
   "metadata": {
    "collapsed": true
   },
   "outputs": [],
   "source": []
  },
  {
   "cell_type": "code",
   "execution_count": null,
   "metadata": {
    "collapsed": true
   },
   "outputs": [],
   "source": []
  },
  {
   "cell_type": "code",
   "execution_count": null,
   "metadata": {
    "collapsed": true
   },
   "outputs": [],
   "source": []
  },
  {
   "cell_type": "code",
   "execution_count": null,
   "metadata": {
    "collapsed": true
   },
   "outputs": [],
   "source": []
  },
  {
   "cell_type": "code",
   "execution_count": null,
   "metadata": {
    "collapsed": true
   },
   "outputs": [],
   "source": []
  },
  {
   "cell_type": "code",
   "execution_count": null,
   "metadata": {
    "collapsed": true
   },
   "outputs": [],
   "source": []
  },
  {
   "cell_type": "code",
   "execution_count": null,
   "metadata": {
    "collapsed": true
   },
   "outputs": [],
   "source": []
  },
  {
   "cell_type": "code",
   "execution_count": null,
   "metadata": {
    "collapsed": false
   },
   "outputs": [],
   "source": [
    "2500/3600. * 60 "
   ]
  },
  {
   "cell_type": "code",
   "execution_count": null,
   "metadata": {
    "collapsed": false
   },
   "outputs": [],
   "source": [
    "%%timeit\n",
    "Medians = get_binding_curves(df,concentrations)\n",
    "\n",
    "\n",
    "dfABA = Medians.copy()\n",
    "dfABA = get_ABA(dfABA,concentrations)\n",
    "dfABA.reset_index(inplace=True)"
   ]
  },
  {
   "cell_type": "code",
   "execution_count": null,
   "metadata": {
    "collapsed": false
   },
   "outputs": [],
   "source": [
    "df"
   ]
  },
  {
   "cell_type": "code",
   "execution_count": null,
   "metadata": {
    "collapsed": true
   },
   "outputs": [],
   "source": [
    "# find on-target, canonical PAM , etc. \n",
    "dfABA['On Target'] = dfABA['sequence'].apply(lambda S: Finkellib.find_ontarget(S, target_D, Cas))\n",
    "dfABA['PAM'] = dfABA['sequence'].apply(lambda S: Finkellib.separate_PAM(S, Cas)[0])\n",
    "dfABA['Canonical'] = dfABA['sequence'].apply(lambda S: Finkellib.separate_PAM(S, Cas)[2])\n",
    "\n",
    "canonical_ABA = dfABA[dfABA['On Target'] & dfABA['Canonical']].copy()\n",
    "reference_ABA = canonical_ABA.ABA.median()\n",
    "dfABA['DeltaABA'] = dfABA['ABA'] - reference_ABA"
   ]
  },
  {
   "cell_type": "code",
   "execution_count": null,
   "metadata": {
    "collapsed": false
   },
   "outputs": [],
   "source": [
    "dfABA.ABA.min(), dfABA.ABA.max()"
   ]
  },
  {
   "cell_type": "code",
   "execution_count": null,
   "metadata": {
    "collapsed": true
   },
   "outputs": [],
   "source": [
    "previous_ABA_data = pd.read_table('../Data_ABA_Finkelsteinlab/champ-cas9-cas12a-data/cas9-target-d-replicate-1-delta-abas.txt',\n",
    "                                 skiprows=3)"
   ]
  },
  {
   "cell_type": "code",
   "execution_count": null,
   "metadata": {
    "collapsed": false
   },
   "outputs": [],
   "source": [
    "merged = pd.merge(previous_ABA_data, dfABA, how='inner',left_on='# Sequence', right_on='sequence')\n",
    "\n",
    "plt.scatter(merged['Delta ABA (kBT)'], merged['DeltaABA'])\n",
    "plt.xlabel('previous dataset',fontsize=20)\n",
    "plt.ylabel('dataset processed now',fontsize=20)\n",
    "plt.xticks(fontsize=15)\n",
    "plt.yticks(fontsize=15);\n",
    "\n",
    "x = np.linspace(np.min(merged['Delta ABA (kBT)']),np.max(merged['Delta ABA (kBT)']), 1000)\n",
    "plt.plot(x,x, linestyle='dashed',linewidth=2, color='black');\n",
    "plt.ylim(-0.5,2)\n",
    "plt.xlim(-0.5,2);\n",
    "\n"
   ]
  },
  {
   "cell_type": "code",
   "execution_count": null,
   "metadata": {
    "collapsed": false
   },
   "outputs": [],
   "source": [
    "len(merged), len(previous_ABA_data), len(dfABA), len(dfABA)-len(previous_ABA_data)"
   ]
  },
  {
   "cell_type": "code",
   "execution_count": null,
   "metadata": {
    "collapsed": true
   },
   "outputs": [],
   "source": [
    "df_dABA= Finkellib.process_Finkelstein_Library(data=merged, \n",
    "                                      on_target=target_D, \n",
    "                                      seq_colname='sequence', \n",
    "                                      output_colnames=['DeltaABA'],\n",
    "                                      nofilter=True,\n",
    "                                      out_file_name='CHAMP_dCas9_targetD_preprocessed.csv', out_path='./',\n",
    "                                      save_data=False\n",
    "                                      )\n",
    "\n",
    "\n"
   ]
  },
  {
   "cell_type": "code",
   "execution_count": null,
   "metadata": {
    "collapsed": true
   },
   "outputs": [],
   "source": [
    "df_dABA.rename(columns={'DeltaABA':'Delta ABA (kBT)'},inplace=True)"
   ]
  },
  {
   "cell_type": "code",
   "execution_count": null,
   "metadata": {
    "collapsed": true
   },
   "outputs": [],
   "source": [
    "df_dABA['Uncertainty'] = 0.0"
   ]
  },
  {
   "cell_type": "code",
   "execution_count": null,
   "metadata": {
    "collapsed": false
   },
   "outputs": [],
   "source": [
    "pltABA.plot_single_mut_ABA(data=df_dABA, Mut_type='r');\n",
    "pltABA.plot_block_mm_ABA(df_dABA);\n",
    "pltABA.plot_double_mut_ABA(df_dABA,Mut_type='r');"
   ]
  },
  {
   "cell_type": "code",
   "execution_count": null,
   "metadata": {
    "collapsed": true
   },
   "outputs": [],
   "source": []
  }
 ],
 "metadata": {
  "anaconda-cloud": {},
  "kernelspec": {
   "display_name": "Python [Root]",
   "language": "python",
   "name": "Python [Root]"
  },
  "language_info": {
   "codemirror_mode": {
    "name": "ipython",
    "version": 2
   },
   "file_extension": ".py",
   "mimetype": "text/x-python",
   "name": "python",
   "nbconvert_exporter": "python",
   "pygments_lexer": "ipython2",
   "version": "2.7.6"
  }
 },
 "nbformat": 4,
 "nbformat_minor": 1
}
