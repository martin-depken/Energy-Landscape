{
 "cells": [
  {
   "cell_type": "code",
   "execution_count": 45,
   "metadata": {
    "collapsed": true
   },
   "outputs": [],
   "source": [
    "%matplotlib inline\n",
    "import pandas as pd \n",
    "import numpy as np \n",
    "import matplotlib.pylab as plt \n",
    "import  pickle\n",
    "\n",
    "\n",
    "import sys \n",
    "sys.path.append('../code_general_Finkelsteinlab/')\n",
    "import Process_SeqLibrary_Finkelsteinlab as preprocess\n",
    "reload(preprocess);\n",
    "import plotting_Finkelsteinlab as pltData\n",
    "reload(pltData);\n",
    "\n",
    "\n",
    "sys.path.append('../code_ABA_Finkelsteinlab/')\n",
    "import plotting_ABA as pltABA \n",
    "\n",
    "from scipy.optimize import curve_fit"
   ]
  },
  {
   "cell_type": "code",
   "execution_count": 2,
   "metadata": {
    "collapsed": true
   },
   "outputs": [],
   "source": [
    "data = pickle.load(open('E-dCas9-sequence-cluster-IntensityAtConcentration.txt'))"
   ]
  },
  {
   "cell_type": "code",
   "execution_count": 3,
   "metadata": {
    "collapsed": true
   },
   "outputs": [],
   "source": [
    "datadict = dict(data)"
   ]
  },
  {
   "cell_type": "code",
   "execution_count": 41,
   "metadata": {
    "collapsed": true
   },
   "outputs": [],
   "source": [
    "def collect_all_clusters(CHAMP_data, concentrations, target_seq, Cas):\n",
    "    '''\n",
    "    returns a dataframe with every row being a single cluster. \n",
    "    Hence, every sequence is repeated as there are multiple clusters with the same sequence\n",
    "    \n",
    "    \n",
    "    Can be used later to get the median binding curve\n",
    "    '''\n",
    "    Seq = []\n",
    "    c1 = []\n",
    "    c2 = []\n",
    "    c3 = []\n",
    "    c4 = []\n",
    "    c5 = []\n",
    "    c6 = []\n",
    "    c7 = []\n",
    "    c8 = []\n",
    "    \n",
    "    for sequence in datadict.keys():\n",
    "        for cluster , curve in enumerate(datadict[sequence]):\n",
    "            Seq.append(sequence)\n",
    "            c1.append(curve[0]) \n",
    "            c2.append(curve[1]) \n",
    "            c3.append(curve[2]) \n",
    "            c4.append(curve[3]) \n",
    "            c5.append(curve[4]) \n",
    "            c6.append(curve[5]) \n",
    "            c7.append(curve[6]) \n",
    "            c8.append(curve[7]) \n",
    "    \n",
    "    df = pd.DataFrame()\n",
    "    df['sequence'] = Seq\n",
    "    df[str(concentrations[0]) + 'nM'] = c1\n",
    "    df[str(concentrations[1]) + 'nM'] = c2\n",
    "    df[str(concentrations[2]) + 'nM'] = c3\n",
    "    df[str(concentrations[3]) + 'nM'] = c4\n",
    "    df[str(concentrations[4]) + 'nM'] = c5\n",
    "    df[str(concentrations[5]) + 'nM'] = c6\n",
    "    df[str(concentrations[6]) + 'nM'] = c7\n",
    "    df[str(concentrations[7]) + 'nM'] = c8\n",
    "    \n",
    "    \n",
    "    # find on-target, canonical PAM , etc. \n",
    "    df['On Target'] = df['sequence'].apply(lambda S: Finkellib.find_ontarget(S, target_seq, Cas))\n",
    "    df['PAM'] = df['sequence'].apply(lambda S: Finkellib.separate_PAM(S, Cas)[0])\n",
    "    df['Canonical'] = df['sequence'].apply(lambda S: Finkellib.separate_PAM(S, Cas)[2])\n",
    "    return df\n",
    "\n",
    "\n",
    "def substract_background(df, concentrations):\n",
    "    background = df[str(concentrations[0]) + 'nM'].copy()\n",
    "    for c in concentrations:\n",
    "        df[str(c) + 'nM'] = df[str(c) + 'nM'] - background\n",
    "    return df\n",
    "\n",
    "\n",
    "def find_saturation(df, concentrations):\n",
    "    OnTarget = df[df['On Target'] & df['Canonical'] ].copy()\n",
    "    saturation_value = OnTarget[str(concentrations[-1])+'nM'].median()\n",
    "    return saturation_value\n",
    "\n",
    "\n",
    "def row_to_list(row, concentrations):\n",
    "    binding_curve = []\n",
    "    for c in concentrations:\n",
    "        binding_curve.append( row[str(c)+'nM']  )\n",
    "    return np.array(binding_curve)\n",
    "    \n",
    "\n",
    "def get_binding_curves(df, concentrations):\n",
    "    '''\n",
    "    get the equivalent of bound fraction:\n",
    "        (I(c) - Imin )/(Imax - Imin)\n",
    "    with \n",
    "    * I(c) the fluoresence intensity at concentration c, \n",
    "    * Imin the background fluoresence determined seperately for every cluster\n",
    "    * Imax the value the on-target attains at saturation (determined based on median over clusters) \n",
    "    '''\n",
    "    \n",
    "    # remove the clusters for which there is not a complete binding curve available:\n",
    "    df.dropna(axis=0,inplace=True)\n",
    "    \n",
    "\n",
    "    no_Imin = substract_background(df, concentrations)\n",
    "    PreMedian = no_Imin.drop(['On Target','PAM','Canonical'],axis=1).copy()   \n",
    "    Medians = PreMedian.groupby('sequence').median(skipna=True) \n",
    "    Imax = find_saturation(df,concentrations)\n",
    "    \n",
    "    binding_curves = []\n",
    "    for i in range(len(Medians)):\n",
    "        binding_curves.append( row_to_list(Medians.iloc[i], concentrations)/Imax )\n",
    "    Medians['binding_curves'] = binding_curves\n",
    "    return Medians \n",
    "\n",
    "\n",
    "def Hill_eq(C, Kd):\n",
    "    return (1.0+Kd/C)**(-1)\n",
    "\n",
    "def get_ABA(df, concentrations):\n",
    "    df['ABA'] = df['binding_curves'].apply(lambda x: np.log(curve_fit(Hill_eq, concentrations,x)[0][0]) )\n",
    "    return df \n",
    "\n",
    "\n",
    "def bootstrap_ABA(grouped,  nmbr_runs,Imax, concentrations):\n",
    "    bstrp_ABA = []\n",
    "    for run in range(nmbr_runs):\n",
    "        # --- bootstrap sample cluster (per given sequence) ----- \n",
    "        bstrp_sample = grouped.sample(n=len(grouped),replace=True)\n",
    "        \n",
    "        # --- get our new 'median' binding curve ----\n",
    "        bstrp_med = bstrp_sample.median()\n",
    "        bstrp_binding_curve = row_to_list(bstrp_med, concentrations)/Imax\n",
    "    \n",
    "        # --- calculate ABA --- \n",
    "        bstrp_ABA.append( np.log(curve_fit(Hill_eq, concentrations[1:], bstrp_binding_curve[1:])[0][0] ) )\n",
    "        \n",
    "    bstrp_ABA = np.array(bstrp_ABA)\n",
    "    return np.mean(bstrp_ABA), np.std(bstrp_ABA), bstrp_sample\n",
    "\n",
    "\n",
    "\n",
    "\n",
    "def build_dataframe_for_fitting( full_data,  nmbr_boot, concentrations ):\n",
    "    # remove the clusters for which there is not a complete binding curve available:\n",
    "    full_data.dropna(axis=0,inplace=True)\n",
    "    \n",
    "    # --- substract background ---- \n",
    "    minus_Imin = substract_background(full_data, concentrations)\n",
    "    \n",
    "    # --- saturation level (to convert into bound fraction) ----\n",
    "    Imax = find_saturation(full_data,concentrations)\n",
    "    \n",
    "    # --- for every sequence: use bootstrapping to find avg. ABA and errorbar ABA ---- \n",
    "    sequences = []\n",
    "    ABA = []\n",
    "    error = []\n",
    "    \n",
    "    \n",
    "    all_seqs = minus_Imin.drop(['On Target','PAM','Canonical'],axis=1).copy() \n",
    "\n",
    "    for name,group in all_seqs.groupby('sequence'):\n",
    "        # --- perform bootstrapping on ABA values for this sequence  ----\n",
    "        avg, std, bstrp_sample = bootstrap_ABA(group,nmbr_boot, Imax ,concentrations  )\n",
    "        \n",
    "        # --- store results into processed dataframe ---- \n",
    "        sequences.append(name)\n",
    "        ABA.append(avg)\n",
    "        error.append(std)\n",
    "        \n",
    "    # --- stroe results into processed dataframe ---- \n",
    "    processed_data = pd.DataFrame()\n",
    "    processed_data['sequence'] = sequences\n",
    "    processed_data['ABA'] = ABA\n",
    "    processed_data['error'] = error\n",
    "    print len(bstrp_sample)\n",
    "    \n",
    "    return processed_data\n",
    "\n",
    "def dataframe_with_concentration(full_data):\n",
    "    full_data.dropna(axis=0,inplace=True)\n",
    "    minus_Imin = substract_background(full_data, concentrations)\n",
    "    Imax = find_saturation(full_data,concentrations)\n",
    "    all_seqs = minus_Imin.drop(['On Target','PAM','Canonical'],axis=1)\n",
    "    Medians = all_seqs.groupby('sequence').median(skipna=True)\n",
    "    binding_curves = []\n",
    "    for i in range(len(Medians)):\n",
    "        binding_curves.append( row_to_list(Medians.iloc[i], concentrations)/Imax )\n",
    "    Medians['binding_curves'] = binding_curves\n",
    "    processed_data = get_ABA(Medians, concentrations)\n",
    "    c_list = map(lambda x: str(x) + 'nM', concentrations)\n",
    "    processed_data[c_list] = processed_data[c_list]/Imax\n",
    "    processed_data.drop(['binding_curves', c_list[0]], inplace=True, axis=1) \n",
    "    processed_data.reset_index(inplace=True)\n",
    "    return processed_data"
   ]
  },
  {
   "cell_type": "code",
   "execution_count": 5,
   "metadata": {
    "collapsed": true
   },
   "outputs": [],
   "source": [
    "concentrations = [0.1, 0.3, 1, 3, 10, 30, 100, 300]\n",
    "target_E = 'TTTAGACGCATAAAGATGAGACGCTGG'\n",
    "Cas = 'Cas9'\n",
    "\n",
    "df = collect_all_clusters(CHAMP_data=datadict,\n",
    "                          concentrations=concentrations, \n",
    "                          target_seq=target_E, \n",
    "                          Cas=Cas)"
   ]
  },
  {
   "cell_type": "code",
   "execution_count": null,
   "metadata": {},
   "outputs": [],
   "source": [
    "processed_data = build_dataframe_for_fitting(df, nmbr_boot=100,concentrations=concentrations)"
   ]
  },
  {
   "cell_type": "code",
   "execution_count": null,
   "metadata": {
    "collapsed": true
   },
   "outputs": [],
   "source": [
    "processed_data.to_csv('./TargetE-dCas9_AbsoluteABA_raw.csv', index=False)"
   ]
  },
  {
   "cell_type": "markdown",
   "metadata": {
    "collapsed": true
   },
   "source": [
    "### Including the concentrations"
   ]
  },
  {
   "cell_type": "code",
   "execution_count": 42,
   "metadata": {},
   "outputs": [],
   "source": [
    "processed_data = dataframe_with_concentration(df)"
   ]
  },
  {
   "cell_type": "code",
   "execution_count": 43,
   "metadata": {
    "collapsed": true
   },
   "outputs": [],
   "source": [
    "processed_data.to_csv('./TargetE-dCas9_AbsoluteABA_with_concentrations.csv', index=False)"
   ]
  },
  {
   "cell_type": "code",
   "execution_count": 44,
   "metadata": {},
   "outputs": [
    {
     "data": {
      "text/html": [
       "<div>\n",
       "<style>\n",
       "    .dataframe thead tr:only-child th {\n",
       "        text-align: right;\n",
       "    }\n",
       "\n",
       "    .dataframe thead th {\n",
       "        text-align: left;\n",
       "    }\n",
       "\n",
       "    .dataframe tbody tr th {\n",
       "        vertical-align: top;\n",
       "    }\n",
       "</style>\n",
       "<table border=\"1\" class=\"dataframe\">\n",
       "  <thead>\n",
       "    <tr style=\"text-align: right;\">\n",
       "      <th></th>\n",
       "      <th>sequence</th>\n",
       "      <th>0.3nM</th>\n",
       "      <th>1nM</th>\n",
       "      <th>3nM</th>\n",
       "      <th>10nM</th>\n",
       "      <th>30nM</th>\n",
       "      <th>100nM</th>\n",
       "      <th>300nM</th>\n",
       "      <th>ABA</th>\n",
       "    </tr>\n",
       "  </thead>\n",
       "  <tbody>\n",
       "    <tr>\n",
       "      <th>0</th>\n",
       "      <td>AAAAGACGCATAAAGATGAGACGCTGG</td>\n",
       "      <td>0.042315</td>\n",
       "      <td>0.098464</td>\n",
       "      <td>0.147735</td>\n",
       "      <td>0.517823</td>\n",
       "      <td>0.719215</td>\n",
       "      <td>0.779476</td>\n",
       "      <td>1.025132</td>\n",
       "      <td>2.472665</td>\n",
       "    </tr>\n",
       "    <tr>\n",
       "      <th>1</th>\n",
       "      <td>AAATCACGCATAAAGATGAGACGCTGG</td>\n",
       "      <td>0.033915</td>\n",
       "      <td>0.069671</td>\n",
       "      <td>0.140017</td>\n",
       "      <td>0.505289</td>\n",
       "      <td>0.749726</td>\n",
       "      <td>0.796275</td>\n",
       "      <td>1.040612</td>\n",
       "      <td>2.461025</td>\n",
       "    </tr>\n",
       "    <tr>\n",
       "      <th>2</th>\n",
       "      <td>AAATCTCGCATAAAGATGAGACGCTGG</td>\n",
       "      <td>0.034964</td>\n",
       "      <td>0.054619</td>\n",
       "      <td>0.106636</td>\n",
       "      <td>0.466928</td>\n",
       "      <td>0.710597</td>\n",
       "      <td>0.768615</td>\n",
       "      <td>1.013939</td>\n",
       "      <td>2.648707</td>\n",
       "    </tr>\n",
       "    <tr>\n",
       "      <th>3</th>\n",
       "      <td>AAATCTGCCATAAAGATGAGACGCTGG</td>\n",
       "      <td>0.028400</td>\n",
       "      <td>0.038526</td>\n",
       "      <td>0.051516</td>\n",
       "      <td>0.398491</td>\n",
       "      <td>0.680187</td>\n",
       "      <td>0.775856</td>\n",
       "      <td>0.990754</td>\n",
       "      <td>2.863859</td>\n",
       "    </tr>\n",
       "    <tr>\n",
       "      <th>4</th>\n",
       "      <td>AAATCTGCGATAAAGATGAGACGCTGG</td>\n",
       "      <td>0.027610</td>\n",
       "      <td>0.022130</td>\n",
       "      <td>0.022363</td>\n",
       "      <td>0.312833</td>\n",
       "      <td>0.623188</td>\n",
       "      <td>0.706106</td>\n",
       "      <td>0.943954</td>\n",
       "      <td>3.199845</td>\n",
       "    </tr>\n",
       "  </tbody>\n",
       "</table>\n",
       "</div>"
      ],
      "text/plain": [
       "                      sequence     0.3nM       1nM       3nM      10nM  \\\n",
       "0  AAAAGACGCATAAAGATGAGACGCTGG  0.042315  0.098464  0.147735  0.517823   \n",
       "1  AAATCACGCATAAAGATGAGACGCTGG  0.033915  0.069671  0.140017  0.505289   \n",
       "2  AAATCTCGCATAAAGATGAGACGCTGG  0.034964  0.054619  0.106636  0.466928   \n",
       "3  AAATCTGCCATAAAGATGAGACGCTGG  0.028400  0.038526  0.051516  0.398491   \n",
       "4  AAATCTGCGATAAAGATGAGACGCTGG  0.027610  0.022130  0.022363  0.312833   \n",
       "\n",
       "       30nM     100nM     300nM       ABA  \n",
       "0  0.719215  0.779476  1.025132  2.472665  \n",
       "1  0.749726  0.796275  1.040612  2.461025  \n",
       "2  0.710597  0.768615  1.013939  2.648707  \n",
       "3  0.680187  0.775856  0.990754  2.863859  \n",
       "4  0.623188  0.706106  0.943954  3.199845  "
      ]
     },
     "execution_count": 44,
     "metadata": {},
     "output_type": "execute_result"
    }
   ],
   "source": [
    "processed_data.head()"
   ]
  },
  {
   "cell_type": "code",
   "execution_count": 47,
   "metadata": {},
   "outputs": [],
   "source": [
    "ABA_data = preprocess.process_Finkelstein_Library(processed_data, target_E, 'sequence', ['ABA'], 'Cas9', \n",
    "                                                  Canonical_PAM = True, Mut_type = ['OT','r'], Mut_min = 0, Mut_max = 20,\n",
    "                                                  out_file_name = 'data.csv', out_path = './', nofilter = True,\n",
    "                                                  save_data = False)\n"
   ]
  },
  {
   "cell_type": "code",
   "execution_count": 50,
   "metadata": {},
   "outputs": [
    {
     "data": {
      "image/png": "[encoded data removed]",
      "text/plain": [
       "<matplotlib.figure.Figure at 0x488c3828>"
      ]
     },
     "metadata": {},
     "output_type": "display_data"
    }
   ],
   "source": [
    "_= pltData._= pltData.plot_single_mut_data(ABA_data, 'ABA', 'r', Canonical=True, data_name='ABA', Plot=True, logplot=False,\n",
    "                         SaveFigures=False, figure_name='./Figure.pdf')"
   ]
  },
  {
   "cell_type": "code",
   "execution_count": 51,
   "metadata": {},
   "outputs": [
    {
     "data": {
      "image/png": "[encoded data removed]",
      "text/plain": [
       "<matplotlib.figure.Figure at 0x488c3f28>"
      ]
     },
     "metadata": {},
     "output_type": "display_data"
    }
   ],
   "source": [
    "_,_ = pltData.plot_double_mut_data(ABA_data, 'ABA', 'r', Canonical=True, Ng=20, data_name='ABA', Plot=True, logplot=False,\n",
    "                        SaveFigures=False, figure_name='./Figure.pdf')"
   ]
  },
  {
   "cell_type": "code",
   "execution_count": 52,
   "metadata": {},
   "outputs": [
    {
     "data": {
      "image/png": "[encoded data removed]",
      "text/plain": [
       "<matplotlib.figure.Figure at 0x488e4cc0>"
      ]
     },
     "metadata": {},
     "output_type": "display_data"
    },
    {
     "data": {
      "image/png": "[encoded data removed]",
      "text/plain": [
       "<matplotlib.figure.Figure at 0x3602b630>"
      ]
     },
     "metadata": {},
     "output_type": "display_data"
    }
   ],
   "source": [
    "_,_,_ = pltData.plot_block_mm_data(ABA_data, 'ABA', data_name='ABA', Canonical=True, Ng=20, Plot=True, logplot=False,\n",
    "                        SaveFigures=False, figure_names=['./Figure1.pdf','./Figure2.pdf'])"
   ]
  },
  {
   "cell_type": "code",
   "execution_count": null,
   "metadata": {
    "collapsed": true
   },
   "outputs": [],
   "source": []
  }
 ],
 "metadata": {
  "anaconda-cloud": {},
  "kernelspec": {
   "display_name": "Python 2",
   "language": "python",
   "name": "python2"
  },
  "language_info": {
   "codemirror_mode": {
    "name": "ipython",
    "version": 2
   },
   "file_extension": ".py",
   "mimetype": "text/x-python",
   "name": "python",
   "nbconvert_exporter": "python",
   "pygments_lexer": "ipython2",
   "version": "2.7.13"
  }
 },
 "nbformat": 4,
 "nbformat_minor": 1
}
