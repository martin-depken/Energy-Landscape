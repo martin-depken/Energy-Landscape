{
 "cells": [
  {
   "cell_type": "code",
   "execution_count": 20,
   "metadata": {
    "collapsed": true
   },
   "outputs": [],
   "source": [
    "%matplotlib inline \n",
    "import matplotlib.pyplot as plt\n",
    "from matplotlib_venn import venn2\n",
    "import seaborn as sns\n",
    "sns.set_style('ticks')\n",
    "\n",
    "\n",
    "# Adjust all text and axes colors to black. default is some studip gray that appears to faint when printed \n",
    "from matplotlib import rc \n",
    "rc('axes',edgecolor='black')\n",
    "rc('xtick',color='black')\n",
    "rc('ytick',color='black')\n",
    "rc('text',color='black')\n",
    "rc('axes',labelcolor='black')"
   ]
  },
  {
   "cell_type": "code",
   "execution_count": 22,
   "metadata": {
    "collapsed": false
   },
   "outputs": [
    {
     "data": {
      "image/png": "[encoded data removed]",
      "text/plain": [
       "<matplotlib.figure.Figure at 0x113623210>"
      ]
     },
     "metadata": {},
     "output_type": "display_data"
    }
   ],
   "source": [
    "sns.set_palette('Accent')\n",
    "TechA = 126 + 2  \n",
    "TechB = 82 \n",
    "bothAB= 13 + 45 \n",
    "\n",
    "VennDiagram = venn2(subsets=(TechA,TechB,bothAB), \n",
    "      set_labels=('Technique A', 'Technique B'),\n",
    "      set_colors=sns.color_palette()[:2]\n",
    "     )\n",
    "for counts in VennDiagram.subset_labels:\n",
    "    counts.set_fontsize(15)\n",
    "    \n",
    "for names in VennDiagram.set_labels:\n",
    "    names.set_fontsize(15)\n",
    "    \n",
    "    \n",
    "plt.savefig('VennDiagram_example.png',format='png',dpi=300, bbox_inches='tight')"
   ]
  },
  {
   "cell_type": "code",
   "execution_count": null,
   "metadata": {
    "collapsed": true
   },
   "outputs": [],
   "source": []
  }
 ],
 "metadata": {
  "anaconda-cloud": {},
  "kernelspec": {
   "display_name": "Python [Root]",
   "language": "python",
   "name": "Python [Root]"
  },
  "language_info": {
   "codemirror_mode": {
    "name": "ipython",
    "version": 2
   },
   "file_extension": ".py",
   "mimetype": "text/x-python",
   "name": "python",
   "nbconvert_exporter": "python",
   "pygments_lexer": "ipython2",
   "version": "2.7.11"
  }
 },
 "nbformat": 4,
 "nbformat_minor": 0
}
