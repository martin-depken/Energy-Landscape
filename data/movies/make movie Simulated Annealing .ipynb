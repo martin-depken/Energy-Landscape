{
 "cells": [
  {
   "cell_type": "code",
   "execution_count": 49,
   "metadata": {
    "collapsed": false
   },
   "outputs": [],
   "source": [
    "%matplotlib inline\n",
    "import matplotlib.pylab as plt \n",
    "import numpy as np \n",
    "import pandas as pd \n",
    "import seaborn as sns\n",
    "sns.set_style('ticks');\n",
    "current_colors = sns.color_palette()\n",
    "\n",
    "\n",
    "import sys \n",
    "sys.path.append('../../code_general/')\n",
    "sys.path.append('../../code_Boyle/')\n",
    "\n",
    "import read_model_ID \n",
    "reload(read_model_ID)\n",
    "import CRISPR_free_energy_landscape as FreeEnergy\n",
    "reload(FreeEnergy);\n",
    "import plotting_Boyle as plt_B\n",
    "reload(plt_B)\n",
    "import CRISPR_dCas9_binding_curve_Boyle as dCas9\n",
    "reload(dCas9);\n",
    "\n",
    "\n",
    "# Adjust all text and axes colors to black. default is some studip gray that appears to faint when printed \n",
    "from matplotlib import rc \n",
    "rc('axes',edgecolor='black')\n",
    "rc('xtick',color='black')\n",
    "rc('ytick',color='black')\n",
    "rc('text',color='black')\n",
    "rc('axes',labelcolor='black')"
   ]
  },
  {
   "cell_type": "code",
   "execution_count": 50,
   "metadata": {
    "collapsed": true
   },
   "outputs": [],
   "source": [
    "from IPython.display import clear_output\n",
    "\n",
    "\n",
    "def make_movie(model_id, filename, Nparams, initial_solution, folder='tmp_frames/'):\n",
    "    \n",
    "    '''\n",
    "    Determine total number of frames (excluding the initial frame)\n",
    "    '''\n",
    "    X = pd.read_csv(filename, delimiter='\\t', index_col=Nparams+2)\n",
    "    nmbr_frames = len(X)\n",
    "    del X \n",
    "    \n",
    "    '''\n",
    "    initial solution will be the first frame: \n",
    "    This shows the input to the Simmulated Annealing Algorithm \n",
    "    '''\n",
    "    make_frame(frame='initial',model_id=model_id, filename=filename, Nparams=Nparams, folder='tmp_frames/',\n",
    "              initial_solution=initial_solution)\n",
    "    \n",
    "    '''\n",
    "    Now fatch all the intermediate solutions from the SA\n",
    "    '''\n",
    "    for frame in range(nmbr_frames):\n",
    "        clear_output()\n",
    "        print 'making frame ' + str(frame+1) + ' out of ' + str(nmbr_frames)\n",
    "        make_frame(frame=frame, model_id=model_id, filename=filename, Nparams=Nparams, folder='tmp_frames/')\n",
    "    return \n",
    "\n",
    "\n",
    "def make_frame(frame, model_id, filename, Nparams, folder='tmp_frames/',initial_solution=[]):\n",
    "    \n",
    "    \n",
    "    \n",
    "    if frame == 'initial':\n",
    "        parameters = initial_solution\n",
    "        frame = -1\n",
    "    else:\n",
    "        parameters = plt_B.load_simm_anneal(filename, Nparams,fatch_solution=frame)\n",
    "    Model_pbound, Model_on, Model_off = plt_B.calc_predictions(parameters,model_id)\n",
    "    \n",
    "    \n",
    "    plt.figure(figsize=(15,15))\n",
    "    ax1 = plt.subplot2grid((2,3),(0,0),colspan=2)\n",
    "    ax2= plt.subplot2grid((2,3),(1,0))\n",
    "    ax3= plt.subplot2grid((2,3), (1,1) )\n",
    "    ax4= plt.subplot2grid((2,3), (1,2))\n",
    "    ax5=plt.subplot2grid((2,3), (0,2))\n",
    "    \n",
    "    Energy_landscape = FreeEnergy.plot_landscape(parameters, model_id,axis=ax1)\n",
    "    plt_B.plot_heatmap(Model_on ,cbar=False, kind='OnRate', axis=ax2, fldr_Boyle_data='../../Data_Boyle/KoenDataForMisha/BoyleData/')\n",
    "    plt_B.plot_heatmap(Model_off ,cbar=False, kind='OffRate',axis=ax3, fldr_Boyle_data='../../Data_Boyle/KoenDataForMisha/BoyleData/')\n",
    "    plt_B.plot_heatmap(Model_pbound ,cbar=False, kind='Occupancy',axis=ax4, fldr_Boyle_data='../../Data_Boyle/KoenDataForMisha/BoyleData/')\n",
    "    FreeEnergy.plot_mismatch_penalties(parameters,model_id,axis=ax5)\n",
    "\n",
    "    ax2.set_aspect(1.0)\n",
    "    ax3.set_aspect(1.0)\n",
    "    ax4.set_aspect(1.0)\n",
    "    # ax5.set_aspect(1.0)\n",
    "    plt.tight_layout()\n",
    "    \n",
    "    plt.savefig(folder + 'frame_' + str(frame+1) +'.png', format='png',dpi=300)\n",
    "    plt.close()\n",
    "    \n",
    "    \n",
    "    return "
   ]
  },
  {
   "cell_type": "code",
   "execution_count": 52,
   "metadata": {
    "collapsed": false,
    "scrolled": false
   },
   "outputs": [],
   "source": [
    "model_id = 'init_limit_general_energies_v0'\n",
    "filename = '../13_9_2018/fit_13_9_2018_sim_B.txt'\n",
    "Nparams = 44\n",
    "\n",
    "\n",
    "\n",
    "init_solution = [5.0] + [0.0]*20 + [5.0]*20 + [5.0] + [50.0] + [3.0]\n",
    "# make_movie(model_id, filename, Nparams, folder='tmp_frames/',initial_solution=np.array(init_solution))\n",
    "\n",
    "\n",
    "\n",
    "make_frame(frame='initial',model_id=model_id, filename=filename, Nparams=Nparams, folder='tmp_frames/',\n",
    "          initial_solution=np.array(init_solution) )\n",
    "\n",
    "\n",
    "\n"
   ]
  },
  {
   "cell_type": "code",
   "execution_count": null,
   "metadata": {
    "collapsed": false
   },
   "outputs": [],
   "source": [
    "df = pd.read_csv(filename, delimiter='\\t')\n",
    "df"
   ]
  },
  {
   "cell_type": "code",
   "execution_count": 55,
   "metadata": {
    "collapsed": false
   },
   "outputs": [
    {
     "data": {
      "text/plain": [
       "<matplotlib.text.Text at 0x114aa2f50>"
      ]
     },
     "execution_count": 55,
     "metadata": {},
     "output_type": "execute_result"
    },
    {
     "data": {
      "image/png": "[encoded data removed]",
      "text/plain": [
       "<matplotlib.figure.Figure at 0x1143ea250>"
      ]
     },
     "metadata": {},
     "output_type": "display_data"
    }
   ],
   "source": [
    "x = [1,2,3,4]\n",
    "plt.plot(x,x)\n",
    "ax = plt.gca()\n",
    "ax.set_xlabel('bla',fontsize=14)"
   ]
  },
  {
   "cell_type": "code",
   "execution_count": null,
   "metadata": {
    "collapsed": true
   },
   "outputs": [],
   "source": []
  }
 ],
 "metadata": {
  "kernelspec": {
   "display_name": "Python [Root]",
   "language": "python",
   "name": "Python [Root]"
  },
  "language_info": {
   "codemirror_mode": {
    "name": "ipython",
    "version": 2
   },
   "file_extension": ".py",
   "mimetype": "text/x-python",
   "name": "python",
   "nbconvert_exporter": "python",
   "pygments_lexer": "ipython2",
   "version": "2.7.11"
  }
 },
 "nbformat": 4,
 "nbformat_minor": 0
}
