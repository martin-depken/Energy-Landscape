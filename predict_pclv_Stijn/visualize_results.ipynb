{
 "cells": [
  {
   "cell_type": "code",
   "execution_count": 104,
   "metadata": {},
   "outputs": [],
   "source": [
    "import pandas as pd\n",
    "import numpy as np\n",
    "import calculate_cleavage_rate as clv\n",
    "%matplotlib inline \n",
    "import matplotlib.pylab as plt\n",
    "import seaborn as sns\n",
    "sns.set_style('ticks')\n",
    "current_colors = sns.color_palette()\n",
    "reload(clv)\n",
    "import sys\n",
    "import Nucleaseq_data_processing as processing\n",
    "reload(processing)\n",
    "import create_fake_data as cr\n",
    "reload(cr)\n",
    "sys.path.append('../code_general_Finkelsteinlab')\n",
    "import plotting_Finkelsteinlab as pltData\n",
    "reload(pltData);\n",
    "\n",
    "model_ID = 'Clv_Saturated_general_energies_v2'\n",
    "times = [0.0,12.0,60.0,180.0,600.0,1800.0,6000.0,18000.0,60000.0]\n",
    "guide = 20\n",
    "\n",
    "path_data = '../data_nucleaseq_Finkelsteinlab/targetE/'\n",
    "filename_data = 'ECas9_cleavage_rate_and_y0_Canonical_OT-r_0-2.csv'"
   ]
  },
  {
   "cell_type": "markdown",
   "metadata": {},
   "source": [
    "### Show result of fit"
   ]
  },
  {
   "cell_type": "code",
   "execution_count": 108,
   "metadata": {},
   "outputs": [
    {
     "data": {
      "text/html": [
       "<div>\n",
       "<style scoped>\n",
       "    .dataframe tbody tr th:only-of-type {\n",
       "        vertical-align: middle;\n",
       "    }\n",
       "\n",
       "    .dataframe tbody tr th {\n",
       "        vertical-align: top;\n",
       "    }\n",
       "\n",
       "    .dataframe thead th {\n",
       "        text-align: right;\n",
       "    }\n",
       "</style>\n",
       "<table border=\"1\" class=\"dataframe\">\n",
       "  <thead>\n",
       "    <tr style=\"text-align: right;\">\n",
       "      <th></th>\n",
       "      <th>Parameter 1</th>\n",
       "      <th>Parameter 2</th>\n",
       "      <th>Parameter 3</th>\n",
       "      <th>Parameter 4</th>\n",
       "      <th>Parameter 5</th>\n",
       "      <th>Parameter 6</th>\n",
       "      <th>Parameter 7</th>\n",
       "      <th>Parameter 8</th>\n",
       "      <th>Parameter 9</th>\n",
       "      <th>Parameter 10</th>\n",
       "      <th>...</th>\n",
       "      <th>Parameter 35</th>\n",
       "      <th>Parameter 36</th>\n",
       "      <th>Parameter 37</th>\n",
       "      <th>Parameter 38</th>\n",
       "      <th>Parameter 39</th>\n",
       "      <th>Parameter 40</th>\n",
       "      <th>Parameter 41</th>\n",
       "      <th>Parameter 42</th>\n",
       "      <th>Potential</th>\n",
       "      <th>Equilibruim</th>\n",
       "    </tr>\n",
       "  </thead>\n",
       "  <tbody>\n",
       "    <tr>\n",
       "      <th>547</th>\n",
       "      <td>-3.146285</td>\n",
       "      <td>3.466150</td>\n",
       "      <td>-5.330826</td>\n",
       "      <td>0.002828</td>\n",
       "      <td>0.451479</td>\n",
       "      <td>-0.580938</td>\n",
       "      <td>0.050835</td>\n",
       "      <td>1.913969</td>\n",
       "      <td>3.628131</td>\n",
       "      <td>-1.370267</td>\n",
       "      <td>...</td>\n",
       "      <td>9.748106</td>\n",
       "      <td>9.517648</td>\n",
       "      <td>7.350539</td>\n",
       "      <td>5.247592</td>\n",
       "      <td>7.241239</td>\n",
       "      <td>6.560896</td>\n",
       "      <td>2.988869</td>\n",
       "      <td>-0.680353</td>\n",
       "      <td>16441.896661</td>\n",
       "      <td>True</td>\n",
       "    </tr>\n",
       "    <tr>\n",
       "      <th>548</th>\n",
       "      <td>-3.199676</td>\n",
       "      <td>3.549893</td>\n",
       "      <td>-5.359404</td>\n",
       "      <td>0.088587</td>\n",
       "      <td>0.381779</td>\n",
       "      <td>-0.573676</td>\n",
       "      <td>0.016872</td>\n",
       "      <td>1.910594</td>\n",
       "      <td>3.635311</td>\n",
       "      <td>-1.379366</td>\n",
       "      <td>...</td>\n",
       "      <td>9.721632</td>\n",
       "      <td>9.514314</td>\n",
       "      <td>7.364831</td>\n",
       "      <td>5.277782</td>\n",
       "      <td>7.301584</td>\n",
       "      <td>6.472456</td>\n",
       "      <td>2.992644</td>\n",
       "      <td>-0.687019</td>\n",
       "      <td>16454.279060</td>\n",
       "      <td>True</td>\n",
       "    </tr>\n",
       "    <tr>\n",
       "      <th>549</th>\n",
       "      <td>-3.161245</td>\n",
       "      <td>3.493545</td>\n",
       "      <td>-5.378707</td>\n",
       "      <td>0.076333</td>\n",
       "      <td>0.357683</td>\n",
       "      <td>-0.569423</td>\n",
       "      <td>0.037809</td>\n",
       "      <td>1.857835</td>\n",
       "      <td>3.637827</td>\n",
       "      <td>-1.390574</td>\n",
       "      <td>...</td>\n",
       "      <td>9.681864</td>\n",
       "      <td>9.474906</td>\n",
       "      <td>7.323640</td>\n",
       "      <td>5.195003</td>\n",
       "      <td>7.304614</td>\n",
       "      <td>6.411894</td>\n",
       "      <td>2.999639</td>\n",
       "      <td>-0.683212</td>\n",
       "      <td>16451.477208</td>\n",
       "      <td>True</td>\n",
       "    </tr>\n",
       "    <tr>\n",
       "      <th>550</th>\n",
       "      <td>-3.150684</td>\n",
       "      <td>3.489461</td>\n",
       "      <td>-5.265511</td>\n",
       "      <td>-0.059711</td>\n",
       "      <td>0.344519</td>\n",
       "      <td>-0.541970</td>\n",
       "      <td>0.121435</td>\n",
       "      <td>1.848316</td>\n",
       "      <td>3.638254</td>\n",
       "      <td>-1.431331</td>\n",
       "      <td>...</td>\n",
       "      <td>9.717869</td>\n",
       "      <td>9.475693</td>\n",
       "      <td>7.334110</td>\n",
       "      <td>5.205448</td>\n",
       "      <td>7.326691</td>\n",
       "      <td>6.499874</td>\n",
       "      <td>2.997136</td>\n",
       "      <td>-0.683495</td>\n",
       "      <td>16449.134828</td>\n",
       "      <td>True</td>\n",
       "    </tr>\n",
       "    <tr>\n",
       "      <th>551</th>\n",
       "      <td>-3.121092</td>\n",
       "      <td>3.468560</td>\n",
       "      <td>-5.333999</td>\n",
       "      <td>0.013890</td>\n",
       "      <td>0.273172</td>\n",
       "      <td>-0.499582</td>\n",
       "      <td>0.116375</td>\n",
       "      <td>1.820250</td>\n",
       "      <td>3.610281</td>\n",
       "      <td>-1.446006</td>\n",
       "      <td>...</td>\n",
       "      <td>9.649692</td>\n",
       "      <td>9.518063</td>\n",
       "      <td>7.387607</td>\n",
       "      <td>5.226923</td>\n",
       "      <td>7.302169</td>\n",
       "      <td>6.477136</td>\n",
       "      <td>2.999752</td>\n",
       "      <td>-0.680086</td>\n",
       "      <td>16452.826097</td>\n",
       "      <td>True</td>\n",
       "    </tr>\n",
       "  </tbody>\n",
       "</table>\n",
       "<p>5 rows × 44 columns</p>\n",
       "</div>"
      ],
      "text/plain": [
       "     Parameter 1  Parameter 2  Parameter 3  Parameter 4  Parameter 5  \\\n",
       "547    -3.146285     3.466150    -5.330826     0.002828     0.451479   \n",
       "548    -3.199676     3.549893    -5.359404     0.088587     0.381779   \n",
       "549    -3.161245     3.493545    -5.378707     0.076333     0.357683   \n",
       "550    -3.150684     3.489461    -5.265511    -0.059711     0.344519   \n",
       "551    -3.121092     3.468560    -5.333999     0.013890     0.273172   \n",
       "\n",
       "     Parameter 6  Parameter 7  Parameter 8  Parameter 9  Parameter 10  \\\n",
       "547    -0.580938     0.050835     1.913969     3.628131     -1.370267   \n",
       "548    -0.573676     0.016872     1.910594     3.635311     -1.379366   \n",
       "549    -0.569423     0.037809     1.857835     3.637827     -1.390574   \n",
       "550    -0.541970     0.121435     1.848316     3.638254     -1.431331   \n",
       "551    -0.499582     0.116375     1.820250     3.610281     -1.446006   \n",
       "\n",
       "        ...       Parameter 35  Parameter 36  Parameter 37  Parameter 38  \\\n",
       "547     ...           9.748106      9.517648      7.350539      5.247592   \n",
       "548     ...           9.721632      9.514314      7.364831      5.277782   \n",
       "549     ...           9.681864      9.474906      7.323640      5.195003   \n",
       "550     ...           9.717869      9.475693      7.334110      5.205448   \n",
       "551     ...           9.649692      9.518063      7.387607      5.226923   \n",
       "\n",
       "     Parameter 39  Parameter 40  Parameter 41  Parameter 42     Potential  \\\n",
       "547      7.241239      6.560896      2.988869     -0.680353  16441.896661   \n",
       "548      7.301584      6.472456      2.992644     -0.687019  16454.279060   \n",
       "549      7.304614      6.411894      2.999639     -0.683212  16451.477208   \n",
       "550      7.326691      6.499874      2.997136     -0.683495  16449.134828   \n",
       "551      7.302169      6.477136      2.999752     -0.680086  16452.826097   \n",
       "\n",
       "     Equilibruim  \n",
       "547         True  \n",
       "548         True  \n",
       "549         True  \n",
       "550         True  \n",
       "551         True  \n",
       "\n",
       "[5 rows x 44 columns]"
      ]
     },
     "execution_count": 108,
     "metadata": {},
     "output_type": "execute_result"
    }
   ],
   "source": [
    "filename = 'fit_7_3_2019_sim_3.txt'\n",
    "path = '7_3_2019/'\n",
    "data = pd.read_table(path+filename,index_col=False)\n",
    "final_par = data.loc[len(data)-1,'Parameter 1':'Parameter 42']\n",
    "final_par_np = final_par.values\n",
    "chi = data.loc[:,'Potential']\n",
    "data.tail()"
   ]
  },
  {
   "cell_type": "code",
   "execution_count": 106,
   "metadata": {},
   "outputs": [
    {
     "ename": "ValueError",
     "evalue": "operands could not be broadcast together with shapes (43,) (42,) ",
     "output_type": "error",
     "traceback": [
      "\u001b[1;31m---------------------------------------------------------------------------\u001b[0m",
      "\u001b[1;31mValueError\u001b[0m                                Traceback (most recent call last)",
      "\u001b[1;32m<ipython-input-106-20c16433fe44>\u001b[0m in \u001b[0;36m<module>\u001b[1;34m()\u001b[0m\n\u001b[0;32m      1\u001b[0m \u001b[0mparameters\u001b[0m \u001b[1;33m=\u001b[0m \u001b[0mnp\u001b[0m\u001b[1;33m.\u001b[0m\u001b[0mloadtxt\u001b[0m\u001b[1;33m(\u001b[0m\u001b[1;34m'example-params-2.txt'\u001b[0m\u001b[1;33m)\u001b[0m\u001b[1;33m\u001b[0m\u001b[0m\n\u001b[1;32m----> 2\u001b[1;33m \u001b[0mdifference_sqrd\u001b[0m \u001b[1;33m=\u001b[0m \u001b[1;33m(\u001b[0m\u001b[0mparameters\u001b[0m\u001b[1;33m-\u001b[0m\u001b[0mfinal_par_np\u001b[0m\u001b[1;33m)\u001b[0m\u001b[1;33m**\u001b[0m\u001b[1;36m2\u001b[0m\u001b[1;33m\u001b[0m\u001b[0m\n\u001b[0m\u001b[0;32m      3\u001b[0m \u001b[0mplt\u001b[0m\u001b[1;33m.\u001b[0m\u001b[0mfigure\u001b[0m\u001b[1;33m\u001b[0m\u001b[0m\n\u001b[0;32m      4\u001b[0m \u001b[0mplt\u001b[0m\u001b[1;33m.\u001b[0m\u001b[0mplot\u001b[0m\u001b[1;33m(\u001b[0m\u001b[0mrange\u001b[0m\u001b[1;33m(\u001b[0m\u001b[1;36m1\u001b[0m\u001b[1;33m,\u001b[0m\u001b[1;36m44\u001b[0m\u001b[1;33m)\u001b[0m\u001b[1;33m,\u001b[0m\u001b[0mdifference_sqrd\u001b[0m\u001b[1;33m)\u001b[0m\u001b[1;33m\u001b[0m\u001b[0m\n\u001b[0;32m      5\u001b[0m \u001b[0mplt\u001b[0m\u001b[1;33m.\u001b[0m\u001b[0mtitle\u001b[0m\u001b[1;33m(\u001b[0m\u001b[1;34m'difference in parameters squared'\u001b[0m\u001b[1;33m)\u001b[0m\u001b[1;33m\u001b[0m\u001b[0m\n",
      "\u001b[1;31mValueError\u001b[0m: operands could not be broadcast together with shapes (43,) (42,) "
     ]
    }
   ],
   "source": [
    "parameters = np.loadtxt('example-params-2.txt')\n",
    "difference_sqrd = (parameters-final_par_np)**2\n",
    "plt.figure\n",
    "plt.plot(range(1,44),difference_sqrd)\n",
    "plt.title('difference in parameters squared')"
   ]
  },
  {
   "cell_type": "code",
   "execution_count": 97,
   "metadata": {},
   "outputs": [
    {
     "data": {
      "text/plain": [
       "array([0.00071932, 0.0088959 , 0.00127317, 0.00050591, 0.00341251,\n",
       "       0.00565096, 0.00566041, 0.02269684, 0.00661803, 0.03100799,\n",
       "       0.01391321, 0.01750248, 0.00342972, 0.00585832, 0.00924743,\n",
       "       0.03605148, 0.1040465 , 0.14000703, 0.12383653, 0.14756247])"
      ]
     },
     "execution_count": 97,
     "metadata": {},
     "output_type": "execute_result"
    }
   ],
   "source": [
    "filename = 'ECas9_cleavage_rate_and_y0_Canonical_OT-r_0-2.csv'\n",
    "path_to_data = '../data_nucleaseq_Finkelsteinlab/targetE/'\n",
    "xdata, ydata, yerr = processing.prepare_multiprocessing_nucleaseq(filename,path_to_data)\n",
    "\n",
    "pos = []\n",
    "kclv = []\n",
    "error = []\n",
    "\n",
    "i = 1\n",
    "while i < 21:\n",
    "    for a in range(len(xdata)):\n",
    "        if len(xdata[a])==1 and xdata[a][0]==i:\n",
    "            pos.append(xdata[a][0])\n",
    "            kclv.append(np.mean(ydata[a]))\n",
    "            error.append(np.mean(yerr[a]))\n",
    "            i = i + 1\n",
    "    \n",
    "pos = np.array(pos)\n",
    "kclv = np.array(kclv)\n",
    "error = np.array(error)\n",
    "\n",
    "kclv"
   ]
  },
  {
   "cell_type": "markdown",
   "metadata": {},
   "source": [
    "## Single mismatches"
   ]
  },
  {
   "cell_type": "code",
   "execution_count": 109,
   "metadata": {},
   "outputs": [
    {
     "data": {
      "text/plain": [
       "(array([1.e-06, 1.e-05, 1.e-04, 1.e-03, 1.e-02, 1.e-01, 1.e+00, 1.e+01]),\n",
       " <a list of 8 Text yticklabel objects>)"
      ]
     },
     "execution_count": 109,
     "metadata": {},
     "output_type": "execute_result"
    },
    {
     "data": {
      "image/png": "[encoded data removed]",
      "text/plain": [
       "<Figure size 432x288 with 1 Axes>"
      ]
     },
     "metadata": {},
     "output_type": "display_data"
    }
   ],
   "source": [
    "data_exp = pd.read_csv(path_data + filename_data)\n",
    "k_exp_pd = pltData.plot_single_mut_data(data_exp, 'cleavage_rate', 'r', Canonical=True, data_name='cleavage rate (Hz)', Plot=False, \n",
    "                                                    logplot=False, SaveFigures=False)\n",
    "k_exp = k_exp_pd.values[:,1]\n",
    "\n",
    "_, k_fake, _ = cr.create_fake_data()\n",
    "k_fake = k_fake[1:21]\n",
    "\n",
    "k = np.zeros(20)\n",
    "for i in range(1,guide+1):\n",
    "    mismatch = [i]\n",
    "    k[i-1] = clv.calc_clv_rate_fast(final_par_np,model_ID,mismatch,guide)\n",
    "    \n",
    "plt.figure\n",
    "plt.semilogy(range(1,21),k, marker='o', linewidth=1, color='blue')\n",
    "plt.semilogy(range(1,21),k_exp, marker='o', linewidth=1, color='red')\n",
    "#plt.errorbar(pos,kclv,error, marker='o', linewidth=1, color='red')\n",
    "plt.xlabel('single mismatch position', fontsize=15)\n",
    "plt.ylabel('cleavage rate (Hz)', fontsize=15)\n",
    "plt.title('cleavage rate for single mismatch, fit-result', fontsize=15)\n",
    "plt.legend(['model','experiment'])\n",
    "plt.xticks(fontsize=15)\n",
    "plt.yticks(fontsize=15)"
   ]
  },
  {
   "cell_type": "markdown",
   "metadata": {},
   "source": [
    "## Double mismatches"
   ]
  },
  {
   "cell_type": "code",
   "execution_count": 103,
   "metadata": {},
   "outputs": [
    {
     "data": {
      "text/plain": [
       "Text(0.5,1,'double mismatches, top=model bottom=experiment')"
      ]
     },
     "execution_count": 103,
     "metadata": {},
     "output_type": "execute_result"
    },
    {
     "data": {
      "image/png": "[encoded data removed]",
      "text/plain": [
       "<Figure size 432x288 with 2 Axes>"
      ]
     },
     "metadata": {},
     "output_type": "display_data"
    }
   ],
   "source": [
    "data_exp = pd.read_csv(path_data + filename_data)\n",
    "_, k_matrix_experiment = pltData.plot_double_mut_data(data_exp, 'cleavage_rate', 'r', Canonical=True, Ng=20, data_name='cleavage rate (Hz)', Plot=False, logplot=True,\n",
    "                        SaveFigures=False, figure_name='./Figure.pdf')\n",
    "k_matrix_experiment.fillna(0, inplace=True)\n",
    "\n",
    "k_matrix = np.zeros([20,20])\n",
    "k_matrix_fake = np.zeros([20,20])\n",
    "\n",
    "for i in range(1,20):\n",
    "    for j in range(i+1,21):\n",
    "        mismatch_positions = [i,j]\n",
    "        k_matrix[i-1,j-1] = np.log10(clv.calc_clv_rate_fast(final_par_np,model_ID,mismatch_positions,guide))\n",
    "        \n",
    "for i in range(1,20):\n",
    "    for j in range(i+1,21):\n",
    "        mismatch_positions = [i,j]\n",
    "        k_matrix_fake[j-1,i-1] = np.log10(clv.calc_clv_rate_fast(parameters,model_ID,mismatch_positions,guide))\n",
    "        \n",
    "k_df = pd.DataFrame(k_matrix, index=range(1, 21), columns=range(1, 21))\n",
    "k_df_fake = pd.DataFrame(k_matrix_fake, index=range(1, 21), columns=range(1, 21))\n",
    "combined_df = k_df + k_matrix_experiment\n",
    "combined_df_fake = k_df + k_df_fake\n",
    "\n",
    "for i in range(1,21):\n",
    "    combined_df[i].loc[i]=np.nan\n",
    "    combined_df_fake[i].loc[i]=np.nan\n",
    "\n",
    "sns.heatmap(combined_df, cmap='coolwarm', cbar=True)\n",
    "plt.xlabel('mismatch 1', fontsize=15)\n",
    "plt.ylabel('mismatch 2', fontsize=15)\n",
    "plt.title('double mismatches, top=model bottom=experiment', fontsize=15)\n"
   ]
  },
  {
   "cell_type": "markdown",
   "metadata": {},
   "source": [
    "## Chi squared evolution"
   ]
  },
  {
   "cell_type": "code",
   "execution_count": 43,
   "metadata": {},
   "outputs": [
    {
     "data": {
      "text/plain": [
       "(array([10000., 20000., 30000., 40000., 50000., 60000., 70000.]),\n",
       " <a list of 7 Text yticklabel objects>)"
      ]
     },
     "execution_count": 43,
     "metadata": {},
     "output_type": "execute_result"
    },
    {
     "data": {
      "image/png": "[encoded data removed]",
      "text/plain": [
       "<Figure size 432x288 with 1 Axes>"
      ]
     },
     "metadata": {
      "needs_background": "light"
     },
     "output_type": "display_data"
    }
   ],
   "source": [
    "plt.plot(chi, marker='o', linewidth=1, color='blue')\n",
    "plt.xlabel('iteration number', fontsize=15)\n",
    "plt.ylabel('chi_squared', fontsize=15)\n",
    "plt.title('evolution of chi_squared', fontsize=15)\n",
    "plt.xticks(fontsize=15)\n",
    "plt.yticks(fontsize=15)"
   ]
  }
 ],
 "metadata": {
  "kernelspec": {
   "display_name": "Python 2",
   "language": "python",
   "name": "python2"
  },
  "language_info": {
   "codemirror_mode": {
    "name": "ipython",
    "version": 2
   },
   "file_extension": ".py",
   "mimetype": "text/x-python",
   "name": "python",
   "nbconvert_exporter": "python",
   "pygments_lexer": "ipython2",
   "version": "2.7.15"
  }
 },
 "nbformat": 4,
 "nbformat_minor": 2
}
