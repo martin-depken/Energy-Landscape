{
 "cells": [
  {
   "cell_type": "code",
   "execution_count": 1,
   "metadata": {},
   "outputs": [],
   "source": [
    "import pandas as pd\n",
    "import numpy as np\n",
    "import calculate_cleavage_rate as clv\n",
    "%matplotlib inline \n",
    "import matplotlib.pylab as plt\n",
    "import seaborn as sns\n",
    "sns.set_style('ticks')\n",
    "current_colors = sns.color_palette()\n",
    "\n",
    "import sys\n",
    "sys.path.append('../code_general_Finkelsteinlab')\n",
    "import plotting_Finkelsteinlab as pltData\n",
    "reload(pltData);\n",
    "\n",
    "model_ID = 'Clv_init_limit_Saturated_general_energies_v2'\n",
    "times = [0.0,12.0,60.0,180.0,600.0,1800.0,6000.0,18000.0,60000.0]\n",
    "guide = 20\n",
    "\n",
    "path_data = '../data_nucleaseq_Finkelsteinlab/targetE/'\n",
    "filename_data = 'ECas9_cleavage_rate_and_y0_Canonical_OT-r_0-2.csv'"
   ]
  },
  {
   "cell_type": "markdown",
   "metadata": {},
   "source": [
    "### Show result of fit"
   ]
  },
  {
   "cell_type": "code",
   "execution_count": 12,
   "metadata": {},
   "outputs": [
    {
     "data": {
      "text/html": [
       "<div>\n",
       "<style scoped>\n",
       "    .dataframe tbody tr th:only-of-type {\n",
       "        vertical-align: middle;\n",
       "    }\n",
       "\n",
       "    .dataframe tbody tr th {\n",
       "        vertical-align: top;\n",
       "    }\n",
       "\n",
       "    .dataframe thead th {\n",
       "        text-align: right;\n",
       "    }\n",
       "</style>\n",
       "<table border=\"1\" class=\"dataframe\">\n",
       "  <thead>\n",
       "    <tr style=\"text-align: right;\">\n",
       "      <th></th>\n",
       "      <th>Parameter 1</th>\n",
       "      <th>Parameter 2</th>\n",
       "      <th>Parameter 3</th>\n",
       "      <th>Parameter 4</th>\n",
       "      <th>Parameter 5</th>\n",
       "      <th>Parameter 6</th>\n",
       "      <th>Parameter 7</th>\n",
       "      <th>Parameter 8</th>\n",
       "      <th>Parameter 9</th>\n",
       "      <th>Parameter 10</th>\n",
       "      <th>...</th>\n",
       "      <th>Parameter 36</th>\n",
       "      <th>Parameter 37</th>\n",
       "      <th>Parameter 38</th>\n",
       "      <th>Parameter 39</th>\n",
       "      <th>Parameter 40</th>\n",
       "      <th>Parameter 41</th>\n",
       "      <th>Parameter 42</th>\n",
       "      <th>Parameter 43</th>\n",
       "      <th>Potential</th>\n",
       "      <th>Equilibruim</th>\n",
       "    </tr>\n",
       "  </thead>\n",
       "  <tbody>\n",
       "    <tr>\n",
       "      <th>399</th>\n",
       "      <td>-0.559435</td>\n",
       "      <td>-6.152962</td>\n",
       "      <td>1.449609</td>\n",
       "      <td>3.438846</td>\n",
       "      <td>5.287311</td>\n",
       "      <td>-9.499053</td>\n",
       "      <td>3.910763</td>\n",
       "      <td>-2.025907</td>\n",
       "      <td>3.592799</td>\n",
       "      <td>8.538016</td>\n",
       "      <td>...</td>\n",
       "      <td>-9.778146</td>\n",
       "      <td>-0.640084</td>\n",
       "      <td>-2.686951</td>\n",
       "      <td>-1.624989</td>\n",
       "      <td>-5.676060</td>\n",
       "      <td>-2.941850</td>\n",
       "      <td>2.811063</td>\n",
       "      <td>-0.168702</td>\n",
       "      <td>57063.343540</td>\n",
       "      <td>True</td>\n",
       "    </tr>\n",
       "    <tr>\n",
       "      <th>400</th>\n",
       "      <td>-0.802766</td>\n",
       "      <td>-6.010233</td>\n",
       "      <td>1.505519</td>\n",
       "      <td>3.578631</td>\n",
       "      <td>5.464885</td>\n",
       "      <td>-9.645647</td>\n",
       "      <td>4.141314</td>\n",
       "      <td>-2.027167</td>\n",
       "      <td>3.531701</td>\n",
       "      <td>8.570494</td>\n",
       "      <td>...</td>\n",
       "      <td>-9.905081</td>\n",
       "      <td>-0.600441</td>\n",
       "      <td>-2.698866</td>\n",
       "      <td>-1.561534</td>\n",
       "      <td>-5.834377</td>\n",
       "      <td>-2.908529</td>\n",
       "      <td>2.808430</td>\n",
       "      <td>-0.161840</td>\n",
       "      <td>57060.343421</td>\n",
       "      <td>False</td>\n",
       "    </tr>\n",
       "    <tr>\n",
       "      <th>401</th>\n",
       "      <td>-0.827047</td>\n",
       "      <td>-6.025701</td>\n",
       "      <td>1.508560</td>\n",
       "      <td>3.699700</td>\n",
       "      <td>5.592905</td>\n",
       "      <td>-9.747959</td>\n",
       "      <td>4.003683</td>\n",
       "      <td>-1.853821</td>\n",
       "      <td>3.541692</td>\n",
       "      <td>8.490304</td>\n",
       "      <td>...</td>\n",
       "      <td>-9.767103</td>\n",
       "      <td>-0.446176</td>\n",
       "      <td>-2.780301</td>\n",
       "      <td>-1.564152</td>\n",
       "      <td>-6.068863</td>\n",
       "      <td>-2.765891</td>\n",
       "      <td>2.788402</td>\n",
       "      <td>-0.154119</td>\n",
       "      <td>57076.504099</td>\n",
       "      <td>True</td>\n",
       "    </tr>\n",
       "    <tr>\n",
       "      <th>402</th>\n",
       "      <td>-0.557587</td>\n",
       "      <td>-5.761185</td>\n",
       "      <td>1.600815</td>\n",
       "      <td>3.568515</td>\n",
       "      <td>5.670411</td>\n",
       "      <td>-9.658347</td>\n",
       "      <td>4.059434</td>\n",
       "      <td>-1.975767</td>\n",
       "      <td>3.593552</td>\n",
       "      <td>8.521300</td>\n",
       "      <td>...</td>\n",
       "      <td>-9.720430</td>\n",
       "      <td>-0.496482</td>\n",
       "      <td>-2.643982</td>\n",
       "      <td>-1.665382</td>\n",
       "      <td>-5.880026</td>\n",
       "      <td>-2.687644</td>\n",
       "      <td>2.727625</td>\n",
       "      <td>-0.125843</td>\n",
       "      <td>57067.687169</td>\n",
       "      <td>False</td>\n",
       "    </tr>\n",
       "    <tr>\n",
       "      <th>403</th>\n",
       "      <td>-0.630967</td>\n",
       "      <td>-5.803106</td>\n",
       "      <td>1.587963</td>\n",
       "      <td>3.489783</td>\n",
       "      <td>5.779813</td>\n",
       "      <td>-9.664958</td>\n",
       "      <td>4.032323</td>\n",
       "      <td>-1.766583</td>\n",
       "      <td>3.942498</td>\n",
       "      <td>8.457269</td>\n",
       "      <td>...</td>\n",
       "      <td>-9.860157</td>\n",
       "      <td>-0.459651</td>\n",
       "      <td>-2.642346</td>\n",
       "      <td>-1.709579</td>\n",
       "      <td>-5.854997</td>\n",
       "      <td>-2.462331</td>\n",
       "      <td>2.610961</td>\n",
       "      <td>-0.289133</td>\n",
       "      <td>57060.529439</td>\n",
       "      <td>False</td>\n",
       "    </tr>\n",
       "  </tbody>\n",
       "</table>\n",
       "<p>5 rows × 45 columns</p>\n",
       "</div>"
      ],
      "text/plain": [
       "     Parameter 1  Parameter 2  Parameter 3  Parameter 4  Parameter 5  \\\n",
       "399    -0.559435    -6.152962     1.449609     3.438846     5.287311   \n",
       "400    -0.802766    -6.010233     1.505519     3.578631     5.464885   \n",
       "401    -0.827047    -6.025701     1.508560     3.699700     5.592905   \n",
       "402    -0.557587    -5.761185     1.600815     3.568515     5.670411   \n",
       "403    -0.630967    -5.803106     1.587963     3.489783     5.779813   \n",
       "\n",
       "     Parameter 6  Parameter 7  Parameter 8  Parameter 9  Parameter 10  \\\n",
       "399    -9.499053     3.910763    -2.025907     3.592799      8.538016   \n",
       "400    -9.645647     4.141314    -2.027167     3.531701      8.570494   \n",
       "401    -9.747959     4.003683    -1.853821     3.541692      8.490304   \n",
       "402    -9.658347     4.059434    -1.975767     3.593552      8.521300   \n",
       "403    -9.664958     4.032323    -1.766583     3.942498      8.457269   \n",
       "\n",
       "        ...       Parameter 36  Parameter 37  Parameter 38  Parameter 39  \\\n",
       "399     ...          -9.778146     -0.640084     -2.686951     -1.624989   \n",
       "400     ...          -9.905081     -0.600441     -2.698866     -1.561534   \n",
       "401     ...          -9.767103     -0.446176     -2.780301     -1.564152   \n",
       "402     ...          -9.720430     -0.496482     -2.643982     -1.665382   \n",
       "403     ...          -9.860157     -0.459651     -2.642346     -1.709579   \n",
       "\n",
       "     Parameter 40  Parameter 41  Parameter 42  Parameter 43     Potential  \\\n",
       "399     -5.676060     -2.941850      2.811063     -0.168702  57063.343540   \n",
       "400     -5.834377     -2.908529      2.808430     -0.161840  57060.343421   \n",
       "401     -6.068863     -2.765891      2.788402     -0.154119  57076.504099   \n",
       "402     -5.880026     -2.687644      2.727625     -0.125843  57067.687169   \n",
       "403     -5.854997     -2.462331      2.610961     -0.289133  57060.529439   \n",
       "\n",
       "     Equilibruim  \n",
       "399         True  \n",
       "400        False  \n",
       "401         True  \n",
       "402        False  \n",
       "403        False  \n",
       "\n",
       "[5 rows x 45 columns]"
      ]
     },
     "execution_count": 12,
     "metadata": {},
     "output_type": "execute_result"
    }
   ],
   "source": [
    "filename = 'fit_25_2_2019_sim_3.txt'\n",
    "path = '25_2_2019/'\n",
    "data = pd.read_table(path+filename,index_col=False)\n",
    "final_par = data.loc[len(data)-1,'Parameter 1':'Parameter 43']\n",
    "final_par_np = final_par.values\n",
    "chi = data.loc[:,'Potential']\n",
    "data.tail()"
   ]
  },
  {
   "cell_type": "markdown",
   "metadata": {},
   "source": [
    "## Single mismatches"
   ]
  },
  {
   "cell_type": "code",
   "execution_count": 9,
   "metadata": {},
   "outputs": [
    {
     "data": {
      "text/plain": [
       "(array([1.e-07, 1.e-06, 1.e-05, 1.e-04, 1.e-03, 1.e-02, 1.e-01, 1.e+00,\n",
       "        1.e+01]), <a list of 9 Text yticklabel objects>)"
      ]
     },
     "execution_count": 9,
     "metadata": {},
     "output_type": "execute_result"
    },
    {
     "data": {
      "image/png": "[encoded data removed]",
      "text/plain": [
       "<Figure size 432x288 with 1 Axes>"
      ]
     },
     "metadata": {
      "needs_background": "light"
     },
     "output_type": "display_data"
    }
   ],
   "source": [
    "data_exp = pd.read_csv(path_data + filename_data)\n",
    "k_exp_pd = pltData.plot_single_mut_data(data_exp, 'cleavage_rate', 'r', Canonical=True, data_name='cleavage rate (Hz)', Plot=False, \n",
    "                                                    logplot=False, SaveFigures=False)\n",
    "k_exp = k_exp_pd.values[:,1]\n",
    "\n",
    "\n",
    "k = np.zeros(20)\n",
    "for i in range(1,guide+1):\n",
    "    mismatch = [i]\n",
    "    k[i-1] = clv.calc_clv_rate(final_par_np,model_ID,mismatch,times,guide)\n",
    "    \n",
    "plt.figure\n",
    "plt.semilogy(range(1,21),k, marker='o', linewidth=1, color='blue')\n",
    "plt.semilogy(range(1,21),k_exp, marker='o', linewidth=1, color='red')\n",
    "plt.xlabel('single mismatch position', fontsize=15)\n",
    "plt.ylabel('cleavage rate (Hz)', fontsize=15)\n",
    "plt.title('cleavage rate for single mismatch, fit-result', fontsize=15)\n",
    "plt.legend(['model','experiment'])\n",
    "plt.xticks(fontsize=15)\n",
    "plt.yticks(fontsize=15)"
   ]
  },
  {
   "cell_type": "markdown",
   "metadata": {},
   "source": [
    "## Double mismatches"
   ]
  },
  {
   "cell_type": "code",
   "execution_count": 13,
   "metadata": {},
   "outputs": [
    {
     "data": {
      "text/plain": [
       "Text(0.5,1,'double mismatches, top=model bottom=experiment')"
      ]
     },
     "execution_count": 13,
     "metadata": {},
     "output_type": "execute_result"
    },
    {
     "data": {
      "image/png": "[encoded data removed]",
      "text/plain": [
       "<Figure size 432x288 with 2 Axes>"
      ]
     },
     "metadata": {
      "needs_background": "light"
     },
     "output_type": "display_data"
    }
   ],
   "source": [
    "data_exp = pd.read_csv(path_data + filename_data)\n",
    "_, k_matrix_exp = pltData.plot_double_mut_data(data_exp, 'cleavage_rate', 'r', Canonical=True, Ng=20, data_name='cleavage rate (Hz)', Plot=False, logplot=True,\n",
    "                        SaveFigures=False, figure_name='./Figure.pdf')\n",
    "k_matrix_exp.fillna(0, inplace=True)\n",
    "\n",
    "k_matrix = np.zeros([20,20])\n",
    "\n",
    "for i in range(1,20):\n",
    "    for j in range(i+1,21):\n",
    "        mismatch_positions = [i,j]\n",
    "        k_matrix[i-1,j-1] = np.log10(clv.calc_clv_rate(final_par_np,model_ID,mismatch_positions,times,guide))\n",
    "        \n",
    "k_df = pd.DataFrame(k_matrix, index=range(1, 21), columns=range(1, 21))\n",
    "combined_df = k_df + k_matrix_exp\n",
    "\n",
    "for i in range(1,21):\n",
    "    combined_df[i].loc[i]=np.nan\n",
    "\n",
    "sns.heatmap(combined_df, cmap='coolwarm', cbar=True)\n",
    "plt.xlabel('mismatch 1', fontsize=15)\n",
    "plt.ylabel('mismatch 2', fontsize=15)\n",
    "plt.title('double mismatches, top=model bottom=experiment', fontsize=15)\n"
   ]
  },
  {
   "cell_type": "markdown",
   "metadata": {},
   "source": [
    "## Chi squared evolution"
   ]
  },
  {
   "cell_type": "code",
   "execution_count": 5,
   "metadata": {},
   "outputs": [
    {
     "data": {
      "text/plain": [
       "(array([56500., 57000., 57500., 58000., 58500., 59000., 59500., 60000.,\n",
       "        60500.]), <a list of 9 Text yticklabel objects>)"
      ]
     },
     "execution_count": 5,
     "metadata": {},
     "output_type": "execute_result"
    },
    {
     "data": {
      "image/png": "[encoded data removed]",
      "text/plain": [
       "<Figure size 432x288 with 1 Axes>"
      ]
     },
     "metadata": {
      "needs_background": "light"
     },
     "output_type": "display_data"
    }
   ],
   "source": [
    "plt.plot(chi, marker='o', linewidth=1, color='blue')\n",
    "plt.xlabel('iteration number', fontsize=15)\n",
    "plt.ylabel('chi_squared', fontsize=15)\n",
    "plt.title('evolution of chi_squared', fontsize=15)\n",
    "plt.xticks(fontsize=15)\n",
    "plt.yticks(fontsize=15)"
   ]
  }
 ],
 "metadata": {
  "kernelspec": {
   "display_name": "Python 2",
   "language": "python",
   "name": "python2"
  },
  "language_info": {
   "codemirror_mode": {
    "name": "ipython",
    "version": 2
   },
   "file_extension": ".py",
   "mimetype": "text/x-python",
   "name": "python",
   "nbconvert_exporter": "python",
   "pygments_lexer": "ipython2",
   "version": "2.7.15"
  }
 },
 "nbformat": 4,
 "nbformat_minor": 2
}
