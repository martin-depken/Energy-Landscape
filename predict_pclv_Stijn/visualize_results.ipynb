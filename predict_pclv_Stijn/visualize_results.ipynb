{
 "cells": [
  {
   "cell_type": "code",
   "execution_count": 1,
   "metadata": {},
   "outputs": [],
   "source": [
    "import pandas as pd\n",
    "import numpy as np\n",
    "import calculate_cleavage_rate as clv\n",
    "%matplotlib inline \n",
    "import matplotlib.pylab as plt\n",
    "import seaborn as sns\n",
    "sns.set_style('ticks')\n",
    "current_colors = sns.color_palette()\n",
    "reload(clv)\n",
    "import sys\n",
    "import Nucleaseq_data_processing as processing\n",
    "reload(processing)\n",
    "import create_fake_data as cr\n",
    "reload(cr)\n",
    "sys.path.append('../code_general_Finkelsteinlab')\n",
    "import plotting_Finkelsteinlab as pltData\n",
    "reload(pltData);\n",
    "from scipy.optimize import curve_fit\n",
    "\n",
    "model_ID = 'Clv_Saturated_general_energies_v2'\n",
    "times = [0.0,12.0,60.0,180.0,600.0,1800.0,6000.0,18000.0,60000.0]\n",
    "guide = 20\n",
    "\n",
    "path_data = '../data_nucleaseq_Finkelsteinlab/targetE/'\n",
    "filename_data = 'ECas9_cleavage_rate_and_y0_Canonical_OT-r_0-2.csv'"
   ]
  },
  {
   "cell_type": "markdown",
   "metadata": {},
   "source": [
    "### Show result of fit"
   ]
  },
  {
   "cell_type": "code",
   "execution_count": 8,
   "metadata": {},
   "outputs": [
    {
     "data": {
      "text/html": [
       "<div>\n",
       "<style scoped>\n",
       "    .dataframe tbody tr th:only-of-type {\n",
       "        vertical-align: middle;\n",
       "    }\n",
       "\n",
       "    .dataframe tbody tr th {\n",
       "        vertical-align: top;\n",
       "    }\n",
       "\n",
       "    .dataframe thead th {\n",
       "        text-align: right;\n",
       "    }\n",
       "</style>\n",
       "<table border=\"1\" class=\"dataframe\">\n",
       "  <thead>\n",
       "    <tr style=\"text-align: right;\">\n",
       "      <th></th>\n",
       "      <th>Parameter 1</th>\n",
       "      <th>Parameter 2</th>\n",
       "      <th>Parameter 3</th>\n",
       "      <th>Parameter 4</th>\n",
       "      <th>Parameter 5</th>\n",
       "      <th>Parameter 6</th>\n",
       "      <th>Parameter 7</th>\n",
       "      <th>Parameter 8</th>\n",
       "      <th>Parameter 9</th>\n",
       "      <th>Parameter 10</th>\n",
       "      <th>...</th>\n",
       "      <th>Parameter 35</th>\n",
       "      <th>Parameter 36</th>\n",
       "      <th>Parameter 37</th>\n",
       "      <th>Parameter 38</th>\n",
       "      <th>Parameter 39</th>\n",
       "      <th>Parameter 40</th>\n",
       "      <th>Parameter 41</th>\n",
       "      <th>Parameter 42</th>\n",
       "      <th>Potential</th>\n",
       "      <th>Equilibruim</th>\n",
       "    </tr>\n",
       "  </thead>\n",
       "  <tbody>\n",
       "    <tr>\n",
       "      <th>734</th>\n",
       "      <td>-5.721126</td>\n",
       "      <td>-8.578108</td>\n",
       "      <td>8.206457</td>\n",
       "      <td>1.918230</td>\n",
       "      <td>-8.419509</td>\n",
       "      <td>2.093013</td>\n",
       "      <td>3.461299</td>\n",
       "      <td>-2.361331</td>\n",
       "      <td>9.242484</td>\n",
       "      <td>1.890900</td>\n",
       "      <td>...</td>\n",
       "      <td>9.770990</td>\n",
       "      <td>8.528731</td>\n",
       "      <td>7.785320</td>\n",
       "      <td>4.846709</td>\n",
       "      <td>6.293342</td>\n",
       "      <td>1.681268</td>\n",
       "      <td>5.479126</td>\n",
       "      <td>5.070017</td>\n",
       "      <td>394.415134</td>\n",
       "      <td>True</td>\n",
       "    </tr>\n",
       "    <tr>\n",
       "      <th>735</th>\n",
       "      <td>-5.713376</td>\n",
       "      <td>-8.602563</td>\n",
       "      <td>8.191493</td>\n",
       "      <td>1.917014</td>\n",
       "      <td>-8.414005</td>\n",
       "      <td>2.096401</td>\n",
       "      <td>3.469794</td>\n",
       "      <td>-2.386341</td>\n",
       "      <td>9.269385</td>\n",
       "      <td>1.866251</td>\n",
       "      <td>...</td>\n",
       "      <td>9.748233</td>\n",
       "      <td>8.511883</td>\n",
       "      <td>7.804025</td>\n",
       "      <td>4.841517</td>\n",
       "      <td>6.269757</td>\n",
       "      <td>1.663551</td>\n",
       "      <td>5.486138</td>\n",
       "      <td>5.084560</td>\n",
       "      <td>394.026375</td>\n",
       "      <td>True</td>\n",
       "    </tr>\n",
       "    <tr>\n",
       "      <th>736</th>\n",
       "      <td>-5.688504</td>\n",
       "      <td>-8.618811</td>\n",
       "      <td>8.180711</td>\n",
       "      <td>1.953973</td>\n",
       "      <td>-8.395824</td>\n",
       "      <td>2.079747</td>\n",
       "      <td>3.486241</td>\n",
       "      <td>-2.392022</td>\n",
       "      <td>9.239262</td>\n",
       "      <td>1.858659</td>\n",
       "      <td>...</td>\n",
       "      <td>9.760134</td>\n",
       "      <td>8.530017</td>\n",
       "      <td>7.818143</td>\n",
       "      <td>4.829272</td>\n",
       "      <td>6.270561</td>\n",
       "      <td>1.684038</td>\n",
       "      <td>5.478427</td>\n",
       "      <td>5.101744</td>\n",
       "      <td>394.157087</td>\n",
       "      <td>True</td>\n",
       "    </tr>\n",
       "    <tr>\n",
       "      <th>737</th>\n",
       "      <td>-5.639892</td>\n",
       "      <td>-8.638867</td>\n",
       "      <td>8.174457</td>\n",
       "      <td>1.943956</td>\n",
       "      <td>-8.416161</td>\n",
       "      <td>2.153176</td>\n",
       "      <td>3.447916</td>\n",
       "      <td>-2.398943</td>\n",
       "      <td>9.217023</td>\n",
       "      <td>1.847840</td>\n",
       "      <td>...</td>\n",
       "      <td>9.812324</td>\n",
       "      <td>8.518182</td>\n",
       "      <td>7.809026</td>\n",
       "      <td>4.865106</td>\n",
       "      <td>6.266538</td>\n",
       "      <td>1.715054</td>\n",
       "      <td>5.472868</td>\n",
       "      <td>5.103554</td>\n",
       "      <td>394.135810</td>\n",
       "      <td>False</td>\n",
       "    </tr>\n",
       "    <tr>\n",
       "      <th>738</th>\n",
       "      <td>-5.645498</td>\n",
       "      <td>-8.625473</td>\n",
       "      <td>8.175085</td>\n",
       "      <td>1.943199</td>\n",
       "      <td>-8.398361</td>\n",
       "      <td>2.108427</td>\n",
       "      <td>3.452342</td>\n",
       "      <td>-2.379218</td>\n",
       "      <td>9.228357</td>\n",
       "      <td>1.867224</td>\n",
       "      <td>...</td>\n",
       "      <td>9.752689</td>\n",
       "      <td>8.525523</td>\n",
       "      <td>7.816826</td>\n",
       "      <td>4.836241</td>\n",
       "      <td>6.289694</td>\n",
       "      <td>1.689354</td>\n",
       "      <td>5.465114</td>\n",
       "      <td>5.096056</td>\n",
       "      <td>394.189689</td>\n",
       "      <td>True</td>\n",
       "    </tr>\n",
       "  </tbody>\n",
       "</table>\n",
       "<p>5 rows × 44 columns</p>\n",
       "</div>"
      ],
      "text/plain": [
       "     Parameter 1  Parameter 2  Parameter 3  Parameter 4  Parameter 5  \\\n",
       "734    -5.721126    -8.578108     8.206457     1.918230    -8.419509   \n",
       "735    -5.713376    -8.602563     8.191493     1.917014    -8.414005   \n",
       "736    -5.688504    -8.618811     8.180711     1.953973    -8.395824   \n",
       "737    -5.639892    -8.638867     8.174457     1.943956    -8.416161   \n",
       "738    -5.645498    -8.625473     8.175085     1.943199    -8.398361   \n",
       "\n",
       "     Parameter 6  Parameter 7  Parameter 8  Parameter 9  Parameter 10  \\\n",
       "734     2.093013     3.461299    -2.361331     9.242484      1.890900   \n",
       "735     2.096401     3.469794    -2.386341     9.269385      1.866251   \n",
       "736     2.079747     3.486241    -2.392022     9.239262      1.858659   \n",
       "737     2.153176     3.447916    -2.398943     9.217023      1.847840   \n",
       "738     2.108427     3.452342    -2.379218     9.228357      1.867224   \n",
       "\n",
       "        ...       Parameter 35  Parameter 36  Parameter 37  Parameter 38  \\\n",
       "734     ...           9.770990      8.528731      7.785320      4.846709   \n",
       "735     ...           9.748233      8.511883      7.804025      4.841517   \n",
       "736     ...           9.760134      8.530017      7.818143      4.829272   \n",
       "737     ...           9.812324      8.518182      7.809026      4.865106   \n",
       "738     ...           9.752689      8.525523      7.816826      4.836241   \n",
       "\n",
       "     Parameter 39  Parameter 40  Parameter 41  Parameter 42   Potential  \\\n",
       "734      6.293342      1.681268      5.479126      5.070017  394.415134   \n",
       "735      6.269757      1.663551      5.486138      5.084560  394.026375   \n",
       "736      6.270561      1.684038      5.478427      5.101744  394.157087   \n",
       "737      6.266538      1.715054      5.472868      5.103554  394.135810   \n",
       "738      6.289694      1.689354      5.465114      5.096056  394.189689   \n",
       "\n",
       "     Equilibruim  \n",
       "734         True  \n",
       "735         True  \n",
       "736         True  \n",
       "737        False  \n",
       "738         True  \n",
       "\n",
       "[5 rows x 44 columns]"
      ]
     },
     "execution_count": 8,
     "metadata": {},
     "output_type": "execute_result"
    }
   ],
   "source": [
    "filename = 'fit_13_3_2019_sim_10.txt'\n",
    "path = '13_3_2019/'\n",
    "data = pd.read_table(path+filename,index_col=False)\n",
    "final_par = data.loc[len(data)-1,'Parameter 1':'Parameter 42']\n",
    "final_par_np = final_par.values\n",
    "chi = data.loc[:,'Potential']\n",
    "np.savetxt('7_3_2019/best_parameters.txt',final_par_np)\n",
    "data.tail()"
   ]
  },
  {
   "cell_type": "markdown",
   "metadata": {},
   "source": [
    "### Comparing to Boyle Parameters"
   ]
  },
  {
   "cell_type": "code",
   "execution_count": 50,
   "metadata": {},
   "outputs": [
    {
     "data": {
      "text/plain": [
       "Text(0.5,1,'difference in parameters squared')"
      ]
     },
     "execution_count": 50,
     "metadata": {},
     "output_type": "execute_result"
    },
    {
     "data": {
      "image/png": "[encoded data removed]",
      "text/plain": [
       "<Figure size 432x288 with 1 Axes>"
      ]
     },
     "metadata": {},
     "output_type": "display_data"
    }
   ],
   "source": [
    "parameters = np.loadtxt('example-params-2.txt')\n",
    "difference_sqrd = (parameters-final_par_np)**2\n",
    "plt.figure\n",
    "plt.plot(range(1,44),difference_sqrd)\n",
    "plt.title('difference in parameters squared')"
   ]
  },
  {
   "cell_type": "markdown",
   "metadata": {},
   "source": [
    "### Errorbars, weighted average kclv"
   ]
  },
  {
   "cell_type": "code",
   "execution_count": 3,
   "metadata": {},
   "outputs": [
    {
     "name": "stdout",
     "output_type": "stream",
     "text": [
      "[0.13749498 0.22110008 0.06301255 0.05214467 0.1123199  1.48406048\n",
      " 1.6096799  0.11150093 0.06897429 0.12981053 0.11430685 0.11055873\n",
      " 0.10968006 0.05985859 0.08290558 0.1211262  0.0438294  0.03571584\n",
      " 0.03638285 0.03449434 0.38681251]\n"
     ]
    }
   ],
   "source": [
    "filename = 'ECas9_cleavage_rate_and_y0_Canonical_OT-r_0-2.csv'\n",
    "path_to_data = '../data_nucleaseq_Finkelsteinlab/targetE/'\n",
    "xdata, ydata, yerr = processing.prepare_multiprocessing_nucleaseq(filename,path_to_data)\n",
    "_, ydatamedian, yerrmedian = processing.prepare_multiprocessing_nucleaseq(filename, path_to_data, True)\n",
    "\n",
    "pos = []\n",
    "kclv = []\n",
    "error = []\n",
    "kclvmedian = []\n",
    "errormedian = []\n",
    "\n",
    "\n",
    "i = 1\n",
    "while i < guide+1:\n",
    "    for a in range(len(xdata)):\n",
    "        if len(xdata[a])==1 and xdata[a][0]==i:\n",
    "            pos.append(xdata[a][0])\n",
    "            kclv.append(np.average(ydata[a], weights=np.reciprocal(yerr[a]) ))\n",
    "            kclvmedian.append(ydatamedian[a][0])\n",
    "            error.append(np.mean(yerr[a]))\n",
    "            #error.append(np.std(ydata[a]))\n",
    "            errormedian.append(yerrmedian[a][0])\n",
    "            i = i + 1\n",
    "    \n",
    "pos.append(21)\n",
    "kclv.append(np.average(ydata[0], weights=np.reciprocal(yerr[0])))\n",
    "error.append(np.mean(yerr[0]))\n",
    "kclvmedian.append(ydata[0][0])\n",
    "errormedian.append(yerr[0][0])\n",
    "\n",
    "pos = np.array(pos)\n",
    "kclv = np.array(kclv)\n",
    "error = np.array(error)\n",
    "kclvmedian = np.array(kclvmedian)\n",
    "errormedian = np.array(errormedian)\n",
    "\n",
    "print errormedian/kclvmedian"
   ]
  },
  {
   "cell_type": "code",
   "execution_count": 4,
   "metadata": {},
   "outputs": [],
   "source": [
    "def f(x,a):\n",
    "    return a\n",
    "\n",
    "\n",
    "k_double = np.zeros([20,20])\n",
    "for a in range(len(xdata)):\n",
    "    if len(xdata[a])==2:\n",
    "        i = xdata[a][0]\n",
    "        j = xdata[a][1]\n",
    "        k_double[j-1,i-1] = np.log10(np.average(ydata[a], weights=np.reciprocal(yerr[a])))\n",
    "        #k_double[i-1,j-1] = np.log10(curve_fit(f,range(len(ydata[a])),ydata[a],10**(-3),yerr[a])[0])\n",
    "        \n",
    "k_double_df = pd.DataFrame(k_double, index=range(1, 21), columns=range(1, 21))\n"
   ]
  },
  {
   "cell_type": "markdown",
   "metadata": {},
   "source": [
    "## Single mismatches"
   ]
  },
  {
   "cell_type": "code",
   "execution_count": 9,
   "metadata": {},
   "outputs": [
    {
     "data": {
      "image/png": "[encoded data removed]",
      "text/plain": [
       "<Figure size 432x288 with 1 Axes>"
      ]
     },
     "metadata": {
      "needs_background": "light"
     },
     "output_type": "display_data"
    }
   ],
   "source": [
    "data_exp = pd.read_csv(path_data + filename_data)\n",
    "k_exp_pd = pltData.plot_single_mut_data(data_exp, 'cleavage_rate', 'r', Canonical=True, data_name='cleavage rate (Hz)', Plot=False, \n",
    "                                                    logplot=False, SaveFigures=False)\n",
    "k_exp = np.append(k_exp_pd.values[:,1],np.median(ydata[0]))\n",
    "\n",
    "_, k_fake, _ = cr.create_fake_data()\n",
    "k_fake = k_fake[1:21]\n",
    "\n",
    "k = np.zeros(20)\n",
    "for i in range(1,guide+1):\n",
    "    mismatch = [i]\n",
    "    k[i-1] = clv.calc_clv_rate_fast(final_par_np,model_ID,mismatch,guide)\n",
    "    \n",
    "plt.figure\n",
    "plt.semilogy(range(1,21),k, marker='o', linewidth=1, color='blue')\n",
    "#plt.semilogy(range(1,21),k_exp, marker='o', linewidth=1, color='red')\n",
    "plt.errorbar(pos,kclvmedian,errormedian, marker='o', linewidth=1, color='red')\n",
    "plt.xlabel('single mismatch position', fontsize=15)\n",
    "plt.ylabel('cleavage rate (Hz)', fontsize=15)\n",
    "plt.title('cleavage rate for single mismatch, fit-result', fontsize=15)\n",
    "plt.semilogy(21,clv.calc_clv_rate_fast(final_par_np,model_ID,[],guide),marker='x',markersize=15,linewidth=1,color='black') #ontarget\n",
    "plt.legend(['model','on-target','experiment'])\n",
    "plt.xticks(fontsize=15)\n",
    "plt.yticks(fontsize=15)\n",
    "plt.axis([0,22,10**(-5),10**(-0.5)]);"
   ]
  },
  {
   "cell_type": "markdown",
   "metadata": {},
   "source": [
    "## Double mismatches"
   ]
  },
  {
   "cell_type": "code",
   "execution_count": 10,
   "metadata": {},
   "outputs": [
    {
     "data": {
      "text/plain": [
       "Text(0.5,1,'double mismatches, top=model bottom=experiment')"
      ]
     },
     "execution_count": 10,
     "metadata": {},
     "output_type": "execute_result"
    },
    {
     "data": {
      "image/png": "[encoded data removed]",
      "text/plain": [
       "<Figure size 432x288 with 2 Axes>"
      ]
     },
     "metadata": {
      "needs_background": "light"
     },
     "output_type": "display_data"
    }
   ],
   "source": [
    "data_exp = pd.read_csv(path_data + filename_data)\n",
    "_, k_matrix_experiment = pltData.plot_double_mut_data(data_exp, 'cleavage_rate', 'r', Canonical=True, Ng=20, data_name='cleavage rate (Hz)', Plot=False, logplot=True,\n",
    "                        SaveFigures=False, figure_name='./Figure.pdf')\n",
    "k_matrix_experiment.fillna(0, inplace=True)\n",
    "\n",
    "k_matrix = np.zeros([20,20])\n",
    "#k_matrix_fake = np.zeros([20,20])\n",
    "\n",
    "for i in range(1,20):\n",
    "    for j in range(i+1,21):\n",
    "        mismatch_positions = [i,j]\n",
    "        k_matrix[i-1,j-1] = np.log10(clv.calc_clv_rate_fast(final_par_np,model_ID,mismatch_positions,guide))\n",
    "        \n",
    "#for i in range(1,20):\n",
    "#    for j in range(i+1,21):\n",
    "#        mismatch_positions = [i,j]\n",
    "#        k_matrix_fake[j-1,i-1] = np.log10(clv.calc_clv_rate_fast(parameters,model_ID,mismatch_positions,guide))\n",
    "        \n",
    "k_df = pd.DataFrame(k_matrix, index=range(1, 21), columns=range(1, 21))\n",
    "#k_df_fake = pd.DataFrame(k_matrix_fake, index=range(1, 21), columns=range(1, 21))\n",
    "combined_df_wa = k_df + k_double_df\n",
    "combined_df_median = k_df + k_matrix_experiment\n",
    "#combined_df_fake = k_df + k_df_fake\n",
    "\n",
    "for i in range(1,21):\n",
    "    combined_df_wa[i].loc[i]=np.nan\n",
    "    combined_df_median[i].loc[i]=np.nan\n",
    "#    combined_df_fake[i].loc[i]=np.nan\n",
    "\n",
    "sns.heatmap(combined_df_median, cmap='coolwarm', cbar=True)\n",
    "plt.xlabel('mismatch 1', fontsize=15)\n",
    "plt.ylabel('mismatch 2', fontsize=15)\n",
    "plt.title('double mismatches, top=model bottom=experiment', fontsize=15)\n"
   ]
  },
  {
   "cell_type": "markdown",
   "metadata": {},
   "source": [
    "## Chi squared evolution"
   ]
  },
  {
   "cell_type": "code",
   "execution_count": 7,
   "metadata": {},
   "outputs": [
    {
     "data": {
      "text/plain": [
       "(array([   0.,  500., 1000., 1500., 2000., 2500., 3000., 3500.]),\n",
       " <a list of 8 Text yticklabel objects>)"
      ]
     },
     "execution_count": 7,
     "metadata": {},
     "output_type": "execute_result"
    },
    {
     "data": {
      "image/png": "[encoded data removed]",
      "text/plain": [
       "<Figure size 432x288 with 1 Axes>"
      ]
     },
     "metadata": {
      "needs_background": "light"
     },
     "output_type": "display_data"
    }
   ],
   "source": [
    "plt.plot(chi, marker='o', linewidth=1, color='blue')\n",
    "plt.xlabel('iteration number', fontsize=15)\n",
    "plt.ylabel('chi_squared', fontsize=15)\n",
    "plt.title('evolution of chi_squared', fontsize=15)\n",
    "plt.xticks(fontsize=15)\n",
    "plt.yticks(fontsize=15)"
   ]
  }
 ],
 "metadata": {
  "kernelspec": {
   "display_name": "Python 2",
   "language": "python",
   "name": "python2"
  },
  "language_info": {
   "codemirror_mode": {
    "name": "ipython",
    "version": 2
   },
   "file_extension": ".py",
   "mimetype": "text/x-python",
   "name": "python",
   "nbconvert_exporter": "python",
   "pygments_lexer": "ipython2",
   "version": "2.7.15"
  }
 },
 "nbformat": 4,
 "nbformat_minor": 2
}
