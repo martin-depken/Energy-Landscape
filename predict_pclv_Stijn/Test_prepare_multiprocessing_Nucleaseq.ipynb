{
 "cells": [
  {
   "cell_type": "code",
   "execution_count": 7,
   "metadata": {},
   "outputs": [],
   "source": [
    "import pandas as pd\n",
    "import numpy as np\n",
    "import matplotlib.pylab as plt\n",
    "import Nucleaseq_data_processing as processing\n",
    "import calculate_cleavage_rate as chi\n",
    "\n",
    "reload(processing);\n",
    "reload(chi);"
   ]
  },
  {
   "cell_type": "code",
   "execution_count": 5,
   "metadata": {},
   "outputs": [],
   "source": [
    "path = '../data_nucleaseq_Finkelsteinlab/targetE/'\n",
    "filename = 'ECas9_cleavage_rate_and_y0_Canonical_OT-r_0-2.csv'\n",
    "fit_to_median = True\n",
    "guide = 20"
   ]
  },
  {
   "cell_type": "code",
   "execution_count": 3,
   "metadata": {},
   "outputs": [],
   "source": [
    "xdata, ydata, yerr = processing.prepare_multiprocessing_nucleaseq(filename, path, fit_to_median)\n"
   ]
  },
  {
   "cell_type": "code",
   "execution_count": 11,
   "metadata": {},
   "outputs": [
    {
     "data": {
      "text/plain": [
       "<ErrorbarContainer object of 3 artists>"
      ]
     },
     "execution_count": 11,
     "metadata": {},
     "output_type": "execute_result"
    },
    {
     "data": {
      "image/png": "[encoded data removed]",
      "text/plain": [
       "<Figure size 432x288 with 1 Axes>"
      ]
     },
     "metadata": {
      "needs_background": "light"
     },
     "output_type": "display_data"
    }
   ],
   "source": [
    "pos = []\n",
    "kclv = []\n",
    "error = []\n",
    "\n",
    "\n",
    "i = 1\n",
    "while i < guide+1:\n",
    "    for a in range(len(xdata)):\n",
    "        if len(xdata[a])==1 and xdata[a][0]==i:\n",
    "            pos.append(xdata[a][0])\n",
    "            kclv.append(ydata[a][0])\n",
    "            #error.append(yerr[a][0])\n",
    "            error.append(np.std(ydata[a]))\n",
    "            i = i + 1\n",
    "\n",
    "plt.semilogy(pos,kclv,marker='o',linewidth=1, color ='red')\n",
    "plt.errorbar(pos,kclv,error, marker='o', linewidth=1, color='red')\n",
    "    "
   ]
  }
 ],
 "metadata": {
  "kernelspec": {
   "display_name": "Python 2",
   "language": "python",
   "name": "python2"
  },
  "language_info": {
   "codemirror_mode": {
    "name": "ipython",
    "version": 2
   },
   "file_extension": ".py",
   "mimetype": "text/x-python",
   "name": "python",
   "nbconvert_exporter": "python",
   "pygments_lexer": "ipython2",
   "version": "2.7.15"
  }
 },
 "nbformat": 4,
 "nbformat_minor": 2
}
