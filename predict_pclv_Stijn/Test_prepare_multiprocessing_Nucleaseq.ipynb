{
 "cells": [
  {
   "cell_type": "code",
   "execution_count": 2,
   "metadata": {
    "collapsed": true
   },
   "outputs": [],
   "source": [
    "import pandas as pd\n",
    "import numpy as np\n",
    "import Nucleaseq_data_processing as processing\n",
    "import calculate_cleavage_rate as chi\n",
    "\n",
    "reload(processing);\n",
    "reload(chi);"
   ]
  },
  {
   "cell_type": "code",
   "execution_count": 8,
   "metadata": {
    "collapsed": true
   },
   "outputs": [],
   "source": [
    "path = '../data_nucleaseq_Finkelsteinlab/targetE/'\n",
    "filename = 'ECas9_cleavage_rate_and_y0_Canonical_OT-r_0-2.csv'\n",
    "fit_to_median = True"
   ]
  },
  {
   "cell_type": "code",
   "execution_count": 9,
   "metadata": {
    "collapsed": true
   },
   "outputs": [],
   "source": [
    "xdata, ydata, yerr = processing.prepare_multiprocessing_nucleaseq(filename, path, fit_to_median)\n"
   ]
  },
  {
   "cell_type": "code",
   "execution_count": null,
   "metadata": {},
   "outputs": [],
   "source": [
    "parameters = np.loadtxt('./example-params-2.txt')\n",
    "#parameters = np.zeros(43)\n",
    "times = [0.0,12.0,60.0,180.0,600.0,1800.0,6000.0,18000.0,60000.0]\n",
    "\n",
    "chi_total = 0.0\n",
    "\n",
    "for i in range(len(xdata)):\n",
    "    mismatch = xdata[i]\n",
    "    y = ydata[i]\n",
    "    error = yerr[i]\n",
    "    chi_total += chi.calc_chi_squared(parameters,mismatch,y,error,times)\n",
    "    \n",
    "chi_total\n",
    "    "
   ]
  }
 ],
 "metadata": {
  "kernelspec": {
   "display_name": "Python 2",
   "language": "python",
   "name": "python2"
  },
  "language_info": {
   "codemirror_mode": {
    "name": "ipython",
    "version": 2
   },
   "file_extension": ".py",
   "mimetype": "text/x-python",
   "name": "python",
   "nbconvert_exporter": "python",
   "pygments_lexer": "ipython2",
   "version": "2.7.13"
  }
 },
 "nbformat": 4,
 "nbformat_minor": 2
}
