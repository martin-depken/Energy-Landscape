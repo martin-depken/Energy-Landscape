{
 "cells": [
  {
   "cell_type": "code",
   "execution_count": 8,
   "metadata": {},
   "outputs": [],
   "source": [
    "% %matplotlib inline\n",
    "import pandas as pd\n",
    "import numpy as np\n",
    "import matplotlib.pylab as plt\n",
    "import Nucleaseq_data_processing as processing\n",
    "import calculate_cleavage_rate as chi\n",
    "\n",
    "import sys\n",
    "sys.path.append('../code_Boyle')\n",
    "import Boyle_data_processing as processing_boy\n",
    "\n",
    "reload(processing);\n",
    "reload(chi);"
   ]
  },
  {
   "cell_type": "code",
   "execution_count": 2,
   "metadata": {},
   "outputs": [],
   "source": [
    "path = '../data_nucleaseq_Finkelsteinlab/targetE/'\n",
    "filename = 'WT_cleavage_rate_and_y0_Canonical_OT-r_0-2.csv'"
   ]
  },
  {
   "cell_type": "code",
   "execution_count": 3,
   "metadata": {},
   "outputs": [],
   "source": [
    "xdata, ydata, yerr = processing.prepare_multiprocessing_nucleaseq_log(filename, path)"
   ]
  },
  {
   "cell_type": "code",
   "execution_count": 15,
   "metadata": {},
   "outputs": [
    {
     "name": "stdout",
     "output_type": "stream",
     "text": [
      "[[], [1], [10], [11], [12], [13], [14], [15], [16], [17], [18], [19], [2], [20], [3], [4], [5], [6], [7], [8], [9]]\n"
     ]
    }
   ],
   "source": [
    "reload(processing)\n",
    "xdata1, ydata1, yerr1 = processing.prepare_multiprocessing_combined('1',filename,'../Data_Boyle/',path,True,True)\n",
    "print xdata1"
   ]
  },
  {
   "cell_type": "code",
   "execution_count": 31,
   "metadata": {},
   "outputs": [
    {
     "data": {
      "text/plain": [
       "[0, 22, -5, -3]"
      ]
     },
     "execution_count": 31,
     "metadata": {},
     "output_type": "execute_result"
    },
    {
     "data": {
      "image/png": "[encoded data removed]",
      "text/plain": [
       "<Figure size 432x288 with 1 Axes>"
      ]
     },
     "metadata": {
      "needs_background": "light"
     },
     "output_type": "display_data"
    },
    {
     "data": {
      "image/png": "[encoded data removed]",
      "text/plain": [
       "<Figure size 432x288 with 1 Axes>"
      ]
     },
     "metadata": {
      "needs_background": "light"
     },
     "output_type": "display_data"
    }
   ],
   "source": [
    "reload(processing)\n",
    "xdata, ydata1, yerr1 = processing.prepare_multiprocessing_combined('1',filename,'../Data_Boyle/',path,True,False,False)\n",
    "_, ydata2, yerr2 = processing.prepare_multiprocessing_combined('1',filename,'../Data_Boyle/',path,True,False,True)\n",
    "\n",
    "\n",
    "kon = []\n",
    "kon_log = []\n",
    "error = []\n",
    "error_log = []\n",
    "\n",
    "i = 1\n",
    "while i < 20+1:\n",
    "    for a in range(len(xdata)):\n",
    "        if len(xdata[a])==1 and xdata[a][0]==i:\n",
    "            kon.append(ydata1[a][1][0])\n",
    "            error.append(yerr1[a][1][0])\n",
    "            \n",
    "            kon_log.append(ydata2[a][1][0])\n",
    "            error_log.append(yerr2[a][1][0])\n",
    "            \n",
    "            i = i + 1\n",
    "    \n",
    "kon.append(ydata1[0][1][0])\n",
    "error.append(yerr1[0][1][0])\n",
    "\n",
    "kon_log.append(ydata2[0][1][0])\n",
    "error_log.append(yerr2[0][1][0])\n",
    "\n",
    "kon = np.array(kon)\n",
    "error = np.array(error)\n",
    "\n",
    "kon_log = np.array(kon_log)\n",
    "error_log = np.array(error_log)\n",
    "\n",
    "plt.figure()\n",
    "plt.semilogy(range(1,22),kon,marker='o',color='r',label='Weighted average')\n",
    "plt.errorbar(range(1,22),kon,10*error,marker='o',color='r',label='Weighted average')\n",
    "plt.axis([0,22,10**-5,10**-3])\n",
    "\n",
    "plt.figure()\n",
    "plt.plot(range(1,22),kon_log,marker='o',color='r',label='Weighted average')\n",
    "plt.errorbar(range(1,22),kon_log,10*error_log,marker='o',color='r',label='Weighted average')\n",
    "plt.axis([0,22,-5,-3])"
   ]
  }
 ],
 "metadata": {
  "kernelspec": {
   "display_name": "Python 2",
   "language": "python",
   "name": "python2"
  },
  "language_info": {
   "codemirror_mode": {
    "name": "ipython",
    "version": 2
   },
   "file_extension": ".py",
   "mimetype": "text/x-python",
   "name": "python",
   "nbconvert_exporter": "python",
   "pygments_lexer": "ipython2",
   "version": "2.7.15"
  }
 },
 "nbformat": 4,
 "nbformat_minor": 2
}
