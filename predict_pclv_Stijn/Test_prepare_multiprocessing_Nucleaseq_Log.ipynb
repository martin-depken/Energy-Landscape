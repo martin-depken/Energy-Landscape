{
 "cells": [
  {
   "cell_type": "code",
   "execution_count": 11,
   "metadata": {},
   "outputs": [],
   "source": [
    "% %matplotlib inline\n",
    "import pandas as pd\n",
    "import numpy as np\n",
    "import matplotlib.pylab as plt\n",
    "import Nucleaseq_data_processing as processing\n",
    "import calculate_cleavage_rate as chi\n",
    "\n",
    "reload(processing);\n",
    "reload(chi);"
   ]
  },
  {
   "cell_type": "code",
   "execution_count": 2,
   "metadata": {},
   "outputs": [],
   "source": [
    "path = '../data_nucleaseq_Finkelsteinlab/targetE/'\n",
    "filename = 'WT_cleavage_rate_and_y0_Canonical_OT-r_0-2.csv'"
   ]
  },
  {
   "cell_type": "code",
   "execution_count": 3,
   "metadata": {},
   "outputs": [],
   "source": [
    "xdata, ydata, yerr = processing.prepare_multiprocessing_nucleaseq_log(filename, path)"
   ]
  },
  {
   "cell_type": "code",
   "execution_count": 15,
   "metadata": {},
   "outputs": [
    {
     "name": "stdout",
     "output_type": "stream",
     "text": [
      "[[], [1], [10], [11], [12], [13], [14], [15], [16], [17], [18], [19], [2], [20], [3], [4], [5], [6], [7], [8], [9]]\n"
     ]
    }
   ],
   "source": [
    "reload(processing)\n",
    "xdata1, ydata1, yerr1 = processing.prepare_multiprocessing_combined('1',filename,'../Data_Boyle/',path,True,True)\n",
    "print xdata1"
   ]
  }
 ],
 "metadata": {
  "kernelspec": {
   "display_name": "Python 2",
   "language": "python",
   "name": "python2"
  },
  "language_info": {
   "codemirror_mode": {
    "name": "ipython",
    "version": 2
   },
   "file_extension": ".py",
   "mimetype": "text/x-python",
   "name": "python",
   "nbconvert_exporter": "python",
   "pygments_lexer": "ipython2",
   "version": "2.7.15"
  }
 },
 "nbformat": 4,
 "nbformat_minor": 2
}
