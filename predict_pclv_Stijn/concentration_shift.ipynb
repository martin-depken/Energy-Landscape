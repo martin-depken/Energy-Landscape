{
 "cells": [
  {
   "cell_type": "code",
   "execution_count": 4,
   "metadata": {},
   "outputs": [
    {
     "name": "stderr",
     "output_type": "stream",
     "text": [
      "C:\\Users\\stijn\\Anaconda2\\lib\\site-packages\\numpy\\core\\fromnumeric.py:51: FutureWarning: 'argmin' is deprecated, use 'idxmin' instead. The behavior of 'argmin'\n",
      "will be corrected to return the positional minimum in the future.\n",
      "Use 'series.values.argmin' to get the position of the minimum now.\n",
      "  return getattr(obj, method)(*args, **kwds)\n"
     ]
    },
    {
     "name": "stdout",
     "output_type": "stream",
     "text": [
      "PAM: 2.6923076923076925\n",
      "k-on: -2.4871794871794872\n"
     ]
    }
   ],
   "source": [
    "model_ID = 'Clv_Saturated_general_energies_v2+general_energies_no_kPR'; parnum = '44'\n",
    "#model_ID = 'Clv_Saturated_edit_boyle_landscape_flat+On_edit_boyle_landscape_flat'; parnum = '25'\n",
    "model_ID = 'Clv_Saturated_general_energies_v2+general_energies_no_kPR'; parnum = '42'\n",
    "#model_ID = 'Clv_Saturated_edit_boyle_landscape_flat+On_edit_boyle_landscape_flat'; parnum = '25'\n",
    "#model_ID = 'Clv_Saturated_edit_boyle_landscape+On_edit_boyle_landscape'; parnum = '35'\n",
    "#model_ID = 'Clv_Saturated_general_energies_landscape+general_energies_no_kPR_landscape'; parnum = '44'\n",
    "#model_ID = 'Clv_Saturated_edit_boyle_landscape_flat_constant_ei+On_edit_boyle_landscape_flat_constant_ei'; parnum = '7'\n",
    "#model_ID = 'First_bump_fixed_for_engineered_cas+First_bump_fixed_for_engineered_cas_on'; parnum = '25'\n",
    "#model_ID = 'First_bump_fixed_for_engineered_cas_fixed_ei+First_bump_fixed_for_engineered_cas_on_fixed_ei'; parnum = '13'\n",
    "#model_ID = 'Engineered_cas_fixed_ei+Engineered_cas_on_fixed_ei'; parnum = '21'\n",
    "#model_ID = 'Engineered_cas_constant_ei+Engineered_cas_on_constant_ei'; parnum = '21'\n",
    "\n",
    "filename = 'fit_10_8_2019_sim_12.txt'\n",
    "path = '../fits_Stijn/10_8_2019/'\n",
    "data = pd.read_table(path+filename,index_col=False)\n",
    "chi = data.loc[:,'Potential']\n",
    "final_par = data.loc[np.argmin(chi),'Parameter 1':'Parameter '+parnum]\n",
    "final_par_np = np.array(final_par.values)\n",
    "\n",
    "final_par_np = np.append([1.4],np.append(final_par_np[0:40],np.append([-2.4],final_par_np[40:42])))\n",
    "\n",
    "\n",
    "parameters = final_par_np.copy()\n",
    "sol = np.linspace(-3.,1.,40)\n",
    "pam = np.linspace(-3.,3.,40)\n",
    "\n",
    "chis = []\n",
    "para = []\n",
    "chi_weights = [0.,0.,0.,1.,1./20.,1./190.]\n",
    "\n",
    "for i in sol:\n",
    "    for j in pam:\n",
    "        parameters[0] = j\n",
    "        parameters[-3] = i\n",
    "        #print parameters[0], parameters[-3]\n",
    "        para.append([i,j])\n",
    "    \n",
    "        chitemp = 0.\n",
    "        for j in range(len(xdata)):\n",
    "            chitemp += clv.calc_chi_squared(parameters,xdata[j],ydatalog[j],yerrlog[j],chi_weights,True,True,False,20,model_ID)\n",
    "        chis.append(chitemp)\n",
    "        \n",
    "SOL, PAM = para[np.argmin(chis)]\n",
    "print 'PAM: ' + str(PAM)\n",
    "print 'k-on: ' + str(SOL)"
   ]
  },
  {
   "cell_type": "code",
   "execution_count": 3,
   "metadata": {},
   "outputs": [],
   "source": [
    "filename = 'WT_cleavage_rate_and_y0_Canonical_OT-r_0-2.csv'\n",
    "path_to_data = '../data_nucleaseq_Finkelsteinlab/targetE/'\n",
    "xdata, ydata, yerr = processing.prepare_multiprocessing_combined('1',filename,'../Data_Boyle/',path_to_data)\n",
    "_, ydatawa, yerrwa = processing.prepare_multiprocessing_combined('1',filename,'../Data_Boyle/',path_to_data,True,False,False,False)\n",
    "#_, ydatamedian, yerrmedian = processing.prepare_multiprocessing_nucleaseq(filename, path_to_data, True)\n",
    "_, ydatalog, yerrlog = processing.prepare_multiprocessing_combined('1',filename,'../Data_Boyle/',path_to_data,True,False,True,False)"
   ]
  },
  {
   "cell_type": "code",
   "execution_count": 1,
   "metadata": {},
   "outputs": [
    {
     "data": {
      "text/plain": [
       "<module 'read_model_ID' from '../code_general/read_model_ID.pyc'>"
      ]
     },
     "execution_count": 1,
     "metadata": {},
     "output_type": "execute_result"
    }
   ],
   "source": [
    "import pandas as pd\n",
    "import numpy as np\n",
    "import calculate_cleavage_rate as clv\n",
    "%matplotlib inline \n",
    "import matplotlib.pylab as plt\n",
    "import seaborn as sns\n",
    "sns.set_style('ticks')\n",
    "current_colors = sns.color_palette()\n",
    "reload(clv)\n",
    "import sys\n",
    "import Nucleaseq_data_processing as processing\n",
    "reload(processing)\n",
    "import read_model_ID as model\n",
    "reload(model)"
   ]
  },
  {
   "cell_type": "code",
   "execution_count": 8,
   "metadata": {},
   "outputs": [
    {
     "name": "stdout",
     "output_type": "stream",
     "text": [
      "best fit: ../fits_Stijn/18_7_2019/fit_18_7_2019_sim_17.txt\n",
      "all chi_squared: [284.1170918, 254.04056805599998, 259.274686358, 263.797578116, 293.084895714, 245.822082254, 251.194882252, 375.51864697800005, 276.284287788, 286.81645974099996, 864.546619247, 361.831206057, 271.302027168, 263.608128415, 248.13348169999998, 259.589167982, 241.930865536, 503.88377844400003, 306.992326995, 271.110004717, 249.08534359200002, 267.533534411, 269.35037614099997, 246.545916356, 258.591786549, 864.687579048, 334.073380473, 270.217279314, 242.87089162400002, 252.70720454099998, 280.199316376, 258.50651251700003, 307.096591654, 304.85675490299997, 245.158988392, 270.246061245, 285.37638611299997, 271.71452876, 278.108157514, 250.78189111, 249.420464844, 268.52119491900004, 250.31897038, 263.38363342599996, 608.876302291, 299.73014701, 255.27758827, 249.141239198, 244.23768796099998, 308.827433449]\n"
     ]
    }
   ],
   "source": [
    "simset = []\n",
    "final_par = []\n",
    "energies = []\n",
    "rates = []\n",
    "\n",
    "chi_squared = []\n",
    "\n",
    "file = '../fits_Stijn/18_7_2019/fit_18_7_2019_sim_'\n",
    "#model_ID = 'Clv_Saturated_edit_boyle_landscape_flat+On_edit_boyle_landscape_flat'; parnum = '25'\n",
    "#model_ID = 'Clv_Saturated_edit_boyle_landscape_flat_constant_ei+On_edit_boyle_landscape_flat_constant_ei'; parnum = '7'\n",
    "#model_ID = 'Clv_Saturated_edit_boyle_landscape+On_edit_boyle_landscape'; parnum = '36'\n",
    "#model_ID = 'Clv_Saturated_general_energies_landscape+general_energies_no_kPR_fixed_PAM_landscape';parnum = '43'\n",
    "#model_ID = 'Clv_Saturated_general_energies_landscape+general_energies_no_kPR_landscape'; parnum = '44'\n",
    "model_ID = 'Clv_Saturated_general_energies_v2+general_energies_no_kPR'; parnum = '44'\n",
    "#model_ID = 'First_bump_fixed_for_engineered_cas+First_bump_fixed_for_engineered_cas_on'; parnum = '25'\n",
    "#model_ID = 'First_bump_fixed_for_engineered_cas_fixed_ei+First_bump_fixed_for_engineered_cas_on_fixed_ei'; parnum = '13'\n",
    "#model_ID = 'Engineered_cas_fixed_ei+Engineered_cas_on_fixed_ei'; parnum = '21'\n",
    "#model_ID = 'Engineered_cas_constant_ei+Engineered_cas_on_constant_ei'; parnum = '21'\n",
    "\n",
    "#---------- collect simulations ---------------\n",
    "#for sim in [2,17,21,24,47,48]:\n",
    "for sim in range(1,51):\n",
    "    sa = pd.read_csv(file +str(sim)+'.txt', delimiter='\\t', index_col=False)\n",
    "    filename = file +str(sim) +'.txt'   \n",
    "    chi_squared.append(sa.Potential.iloc[np.argmin(sa.Potential)])\n",
    "    simset.append(filename)\n",
    "    final_par_temp = sa.loc[np.argmin(sa.Potential),'Parameter 1':'Parameter '+parnum]\n",
    "    final_par_temp = final_par_temp.values\n",
    "    #final_par_temp = np.append(final_par_temp[0:33],np.append([-2.4],final_par_temp[33:35]))\n",
    "    #final_par_temp = np.append([0.4],np.append(final_par_temp[0:40],np.append([-2.4],final_par_temp[40:42])))\n",
    "    \n",
    "    model_ID_clv,model_ID_on,parameters_clv,parameters_on = model.combined_model(final_par_temp,model_ID)\n",
    "    energies_on,rates_on = model.unpack_parameters(parameters_on,model_ID_on,20)\n",
    "    _,rates_clv = model.unpack_parameters(parameters_clv,model_ID_clv,20)\n",
    "    \n",
    "    #c=4.75\n",
    "    #energies_on[0] += -np.log(c)\n",
    "    #rates_on[0] *= c\n",
    "    \n",
    "    energies_on[0] *= -1\n",
    "    \n",
    "\n",
    "    energies.append(energies_on)\n",
    "    rates.append([np.log10(rates_on[0]),np.log10(rates_on[1]),np.log10(rates_clv[-1])])\n",
    "        \n",
    "    final_par_temp[0] = -final_par_temp[0]\n",
    "    final_par.append(final_par_temp)\n",
    "    \n",
    "best_fit = simset[np.argmin(chi_squared)]\n",
    "print 'best fit: ' + best_fit\n",
    "print 'all chi_squared: ' + str(chi_squared)"
   ]
  },
  {
   "cell_type": "code",
   "execution_count": 4,
   "metadata": {},
   "outputs": [
    {
     "name": "stdout",
     "output_type": "stream",
     "text": [
      "1 4.5350701402805615\n",
      "2 4.5350701402805615\n",
      "3 4.533066132264529\n",
      "4 4.531062124248497\n",
      "5 4.5350701402805615\n",
      "6 4.5350701402805615\n",
      "7 4.531062124248497\n",
      "8 4.537074148296593\n",
      "9 4.537074148296593\n",
      "10 4.5350701402805615\n",
      "11 4.5350701402805615\n",
      "12 4.533066132264529\n",
      "13 4.533066132264529\n",
      "14 4.537074148296593\n",
      "15 4.533066132264529\n",
      "16 4.533066132264529\n",
      "17 4.531062124248497\n",
      "18 4.547094188376754\n",
      "19 4.533066132264529\n",
      "20 4.533066132264529\n",
      "21 4.537074148296593\n",
      "22 4.533066132264529\n",
      "23 4.533066132264529\n",
      "24 4.5350701402805615\n",
      "25 4.537074148296593\n",
      "26 4.472945891783567\n",
      "27 4.537074148296593\n",
      "28 4.5350701402805615\n",
      "29 4.537074148296593\n",
      "30 4.533066132264529\n",
      "31 4.533066132264529\n",
      "32 4.531062124248497\n",
      "33 4.531062124248497\n",
      "34 4.533066132264529\n",
      "35 4.531062124248497\n",
      "36 4.531062124248497\n",
      "37 4.5350701402805615\n",
      "38 4.529058116232465\n",
      "39 4.537074148296593\n",
      "40 4.533066132264529\n",
      "41 4.5350701402805615\n",
      "42 4.531062124248497\n",
      "43 4.537074148296593\n",
      "44 4.531062124248497\n",
      "45 4.527054108216433\n",
      "46 4.547094188376754\n",
      "47 4.537074148296593\n",
      "48 4.533066132264529\n",
      "49 4.541082164328658\n",
      "50 4.517034068136272\n"
     ]
    }
   ],
   "source": [
    "clist = []\n",
    "model_ID = 'Clv_Saturated_general_energies_v2+general_energies_no_kPR'; parnum = '44'\n",
    "path = '../fits_Stijn/18_7_2019/'\n",
    "\n",
    "c = np.linspace(4.,5.,500)\n",
    "chi_weights = [0.,0.,0.,1.,1./20.,1./190.]\n",
    "\n",
    "for num in range(1,51):\n",
    "    num = str(num)\n",
    "    \n",
    "    filename = 'fit_18_7_2019_sim_' + num + '.txt'\n",
    "    data = pd.read_table(path+filename,index_col=False)\n",
    "    chi = data.loc[:,'Potential']\n",
    "    T = data.loc[:,'Temperature']\n",
    "    final_par = data.loc[np.argmin(chi),'Parameter 1':'Parameter '+parnum]\n",
    "    final_par_np = np.array(final_par.values)\n",
    "\n",
    "\n",
    "    parameters = final_par_np.copy()\n",
    "\n",
    "    chi = []\n",
    "\n",
    "    for i in c:\n",
    "        parameters[0] = final_par_np[0] - np.log(i)\n",
    "        parameters[-3] = final_par_np[-3] + np.log10(i)\n",
    "        #print parameters[0], parameters[-3]\n",
    "\n",
    "        chitemp = 0.\n",
    "        for j in range(1):#range(len(xdata)):\n",
    "            chitemp += clv.calc_chi_squared(parameters,xdata[j],ydatalog[j],yerrlog[j],chi_weights,True,True,False,20,model_ID)\n",
    "        chi.append(chitemp)\n",
    "    \n",
    "    clist.append(c[np.argmin(chi)])\n",
    "    print num, c[np.argmin(chi)]\n",
    "    \n",
    "#print clist"
   ]
  },
  {
   "cell_type": "code",
   "execution_count": 5,
   "metadata": {},
   "outputs": [
    {
     "name": "stdout",
     "output_type": "stream",
     "text": [
      "4.534068136272546 0.002507645486334581\n"
     ]
    }
   ],
   "source": [
    "simset = []\n",
    "final_par = []\n",
    "energies = []\n",
    "rates = []\n",
    "\n",
    "chi_squared = []\n",
    "\n",
    "file = '../fits_Stijn/18_7_2019/fit_18_7_2019_sim_'\n",
    "\n",
    "#---------- collect simulations ---------------\n",
    "for sim in range(1,51):\n",
    "    sa = pd.read_csv(file +str(sim)+'.txt', delimiter='\\t', index_col=False)\n",
    "    chi_squared.append(sa.Potential.iloc[np.argmin(sa.Potential)])\n",
    "\n",
    "chi_squared = np.array(chi_squared)\n",
    "indices_low_chi = np.where(chi_squared<295)\n",
    "clist_good = np.array(clist)[indices_low_chi[0]]\n",
    "\n",
    "print np.mean(clist_good), np.std(clist_good)"
   ]
  }
 ],
 "metadata": {
  "kernelspec": {
   "display_name": "Python 2",
   "language": "python",
   "name": "python2"
  },
  "language_info": {
   "codemirror_mode": {
    "name": "ipython",
    "version": 2
   },
   "file_extension": ".py",
   "mimetype": "text/x-python",
   "name": "python",
   "nbconvert_exporter": "python",
   "pygments_lexer": "ipython2",
   "version": "2.7.15"
  }
 },
 "nbformat": 4,
 "nbformat_minor": 2
}
