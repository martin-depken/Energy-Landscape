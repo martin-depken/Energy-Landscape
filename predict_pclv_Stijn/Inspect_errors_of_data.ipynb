{
 "cells": [
  {
   "cell_type": "code",
   "execution_count": 1,
   "metadata": {},
   "outputs": [],
   "source": [
    "%matplotlib inline\n",
    "import matplotlib.pylab as plt \n",
    "import numpy as np \n",
    "import pandas as pd \n",
    "import seaborn as sns\n",
    "sns.set_style('ticks');\n",
    "current_colors = sns.color_palette()\n",
    "sns.set_palette('Accent');\n",
    "import sys \n",
    "sys.path.append('../code_general/')\n",
    "sys.path.append('../code_general_Finkelsteinlab/')\n",
    "import read_model_ID;\n",
    "reload(read_model_ID);\n",
    "import Nucleaseq_data_processing as processing\n",
    "reload(processing);"
   ]
  },
  {
   "cell_type": "code",
   "execution_count": null,
   "metadata": {},
   "outputs": [],
   "source": []
  },
  {
   "cell_type": "code",
   "execution_count": 2,
   "metadata": {},
   "outputs": [],
   "source": [
    "filename = 'ECas9_cleavage_rate_and_y0_Canonical_OT-r_0-2.csv'\n",
    "path_to_data = '../' + '/data_nucleaseq_Finkelsteinlab/targetE/'\n",
    "\n",
    "xdata, ydata, yerr = processing.prepare_multiprocessing_nucleaseq(filename,path_to_data)\n",
    "\n",
    "\n",
    "#for i in range(len(yerr)):\n",
    "#    for j in range(len(yerr[i])):\n",
    "#        yerr[i][j] = ydata[i][j]*0.05"
   ]
  },
  {
   "cell_type": "code",
   "execution_count": 4,
   "metadata": {},
   "outputs": [
    {
     "data": {
      "text/plain": [
       "[<matplotlib.lines.Line2D at 0xba5d7b8>]"
      ]
     },
     "execution_count": 4,
     "metadata": {},
     "output_type": "execute_result"
    },
    {
     "data": {
      "image/png": "[encoded data removed]",
      "text/plain": [
       "<Figure size 432x288 with 1 Axes>"
      ]
     },
     "metadata": {
      "needs_background": "light"
     },
     "output_type": "display_data"
    }
   ],
   "source": [
    "relative_error = np.zeros(len(xdata))\n",
    "for i in range(len(xdata)):\n",
    "    data = ydata[i]\n",
    "    error = yerr[i]\n",
    "    relative_error_temp = np.zeros(len(error))\n",
    "    for j in range(len(error)):\n",
    "        relative_error_temp[j] = error[j]/data[j]\n",
    "    relative_error[i] = np.mean(relative_error_temp)\n",
    "    \n",
    "plt.plot(range(len(xdata)),relative_error,'b-o')\n",
    "        "
   ]
  },
  {
   "cell_type": "markdown",
   "metadata": {},
   "source": [
    "## No errors are very low"
   ]
  },
  {
   "cell_type": "code",
   "execution_count": 4,
   "metadata": {},
   "outputs": [
    {
     "data": {
      "text/plain": [
       "array([], dtype=float64)"
      ]
     },
     "execution_count": 4,
     "metadata": {},
     "output_type": "execute_result"
    }
   ],
   "source": [
    "indices_low = np.where(relative_error<0.1)\n",
    "low_error = relative_error[indices_low]\n",
    "low_error"
   ]
  },
  {
   "cell_type": "markdown",
   "metadata": {},
   "source": [
    "## Several errors are very high"
   ]
  },
  {
   "cell_type": "code",
   "execution_count": 5,
   "metadata": {},
   "outputs": [
    {
     "data": {
      "text/plain": [
       "array([1.00744079e+00, 8.93221174e+16, 4.82776234e+00, 3.22101207e+19,\n",
       "       4.53290529e+12, 2.35499606e+00, 1.75926930e+00, 1.20120561e+00,\n",
       "       1.20653442e+00, 2.41137922e+16, 1.29078871e+14, 2.34516151e+19,\n",
       "       3.78747999e+00, 1.16504779e+00, 1.09618282e+00, 1.44071635e+14,\n",
       "       3.28972008e+14, 1.12636992e+00, 2.10358136e+16, 3.17398412e+13,\n",
       "       7.54091510e+18, 6.16283032e+14, 1.03063220e+00, 2.95994661e+00,\n",
       "       5.02843076e+12, 2.58962152e+18, 1.52842052e+00, 2.97597802e+00,\n",
       "       6.49611285e+19, 4.15905470e+12, 1.08806057e+16, 1.09630806e+00,\n",
       "       1.02123776e+00, 1.93133693e+13, 1.04726225e+14, 1.01472924e+00,\n",
       "       8.59228684e+13, 2.01515763e+12])"
      ]
     },
     "execution_count": 5,
     "metadata": {},
     "output_type": "execute_result"
    }
   ],
   "source": [
    "indices_high = np.where(relative_error>1)\n",
    "high_error = relative_error[indices_high]\n",
    "high_error"
   ]
  },
  {
   "cell_type": "code",
   "execution_count": 7,
   "metadata": {},
   "outputs": [
    {
     "data": {
      "text/plain": [
       "<matplotlib.legend.Legend at 0xc5d7d68>"
      ]
     },
     "execution_count": 7,
     "metadata": {},
     "output_type": "execute_result"
    },
    {
     "data": {
      "image/png": "[encoded data removed]",
      "text/plain": [
       "<Figure size 432x288 with 1 Axes>"
      ]
     },
     "metadata": {
      "needs_background": "light"
     },
     "output_type": "display_data"
    }
   ],
   "source": [
    "a = 4\n",
    "\n",
    "plt.semilogy(ydata[indices_high[0][a]],'b')\n",
    "plt.semilogy(yerr[indices_high[0][a]],'r')\n",
    "plt.legend(['data','error'])\n",
    "             "
   ]
  }
 ],
 "metadata": {
  "kernelspec": {
   "display_name": "Python 2",
   "language": "python",
   "name": "python2"
  },
  "language_info": {
   "codemirror_mode": {
    "name": "ipython",
    "version": 2
   },
   "file_extension": ".py",
   "mimetype": "text/x-python",
   "name": "python",
   "nbconvert_exporter": "python",
   "pygments_lexer": "ipython2",
   "version": "2.7.15"
  }
 },
 "nbformat": 4,
 "nbformat_minor": 2
}
