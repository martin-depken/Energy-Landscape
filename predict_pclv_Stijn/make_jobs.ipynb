{
 "cells": [
  {
   "cell_type": "code",
   "execution_count": 3,
   "metadata": {},
   "outputs": [
    {
     "name": "stdout",
     "output_type": "stream",
     "text": [
      "done\n",
      "10\n"
     ]
    }
   ],
   "source": [
    "hpc=  '/home/svandersmagt/Energy_Landscape_dCas9/'\n",
    "datafolder= 'C:/Users/stijn/Desktop/MEP/Energy_Landscape_dCas9/fits_Stijn/'\n",
    "today= '13_9_2019/'\n",
    "simID= '21_30'\n",
    "file_name_clv = 'HF1_cleavage_rate_and_y0_Canonical_OT-r_0-2.csv'\n",
    "file_name_aba = 'nvt'\n",
    "model_ID = 'Fixed_barrier_1+valley_free_ei_free_kclv'\n",
    "model_ID2 = 'nvt' #'general_energies_no_kPR'\n",
    "use_cluster = '1'\n",
    "combined_fit = '0'\n",
    "\n",
    "\n",
    "\n",
    "jobs = open(datafolder + today + 'jobs_' + today.replace('/','_') + simID +'.txt','w')\n",
    "\n",
    "count = 0\n",
    "for sim in range(21,31):\n",
    "    count +=1\n",
    "    sim = str(sim)\n",
    "    monitor_SA = hpc + today + 'monitor_'+ today.replace('/','_') + 'sim_'+sim + '.txt'\n",
    "    fit_results= hpc + today + 'fit_' + today.replace('/','_') + 'sim_'+sim + '.txt'\n",
    "    init_monitor_SA = hpc + today + 'init_monitor_'+ today.replace('/','_') + 'sim_'+sim + '.txt'\n",
    "    jobs.write(file_name_clv + '\\t')\n",
    "    jobs.write(file_name_aba + '\\t')\n",
    "    jobs.write(model_ID + '\\t')\n",
    "    jobs.write(model_ID2 + '\\t')\n",
    "    jobs.write(monitor_SA + '\\t')\n",
    "    jobs.write(fit_results + '\\t')\n",
    "    jobs.write(init_monitor_SA + '\\t')\n",
    "    jobs.write(use_cluster + '\\t')\n",
    "    jobs.write(combined_fit + '\\n')\n",
    "\n",
    "jobs.close()\n",
    "print 'done'\n",
    "print count "
   ]
  }
 ],
 "metadata": {
  "kernelspec": {
   "display_name": "Python 2",
   "language": "python",
   "name": "python2"
  },
  "language_info": {
   "codemirror_mode": {
    "name": "ipython",
    "version": 2
   },
   "file_extension": ".py",
   "mimetype": "text/x-python",
   "name": "python",
   "nbconvert_exporter": "python",
   "pygments_lexer": "ipython2",
   "version": "2.7.15"
  }
 },
 "nbformat": 4,
 "nbformat_minor": 2
}
