{
 "cells": [
  {
   "cell_type": "code",
   "execution_count": 6,
   "metadata": {},
   "outputs": [
    {
     "name": "stdout",
     "output_type": "stream",
     "text": [
      "done\n",
      "3\n"
     ]
    }
   ],
   "source": [
    "hpc=  '/home/svandersmagt/Energy_Landscape_dCas9/'\n",
    "datafolder= 'C:/Users/stijn/Desktop/MEP/Energy_Landscape_dCas9/predict_pclv_Stijn/'\n",
    "today= '25_2_2019/'\n",
    "simID= '1_3'\n",
    "file_name = 'ECas9_cleavage_rate_and_y0_Canonical_OT-r_0-2.csv'\n",
    "model_ID = 'Clv_init_limit_Saturated_general_energies_v2'\n",
    "use_cluster = '1' \n",
    "\n",
    "\n",
    "jobs = open(datafolder + today + 'jobs_' + today.replace('/','_') + simID +'.txt','w')\n",
    "\n",
    "count = 0\n",
    "for sim in range(1,4):\n",
    "    count +=1\n",
    "    sim = str(sim)\n",
    "    monitor_SA = hpc + today + 'monitor_'+ today.replace('/','_') + 'sim_'+sim + '.txt'\n",
    "    fit_results= hpc + today + 'fit_' + today.replace('/','_') + 'sim_'+sim + '.txt'\n",
    "    init_monitor_SA = hpc + today + 'init_monitor_'+ today.replace('/','_') + 'sim_'+sim + '.txt'\n",
    "    jobs.write(file_name + '\\t')\n",
    "    jobs.write(model_ID + '\\t')\n",
    "    jobs.write(monitor_SA + '\\t')\n",
    "    jobs.write(fit_results + '\\t')\n",
    "    jobs.write(init_monitor_SA + '\\t')\n",
    "    jobs.write(use_cluster + '\\n')\n",
    "jobs.close()\n",
    "print 'done'\n",
    "print count "
   ]
  }
 ],
 "metadata": {
  "kernelspec": {
   "display_name": "Python 2",
   "language": "python",
   "name": "python2"
  },
  "language_info": {
   "codemirror_mode": {
    "name": "ipython",
    "version": 2
   },
   "file_extension": ".py",
   "mimetype": "text/x-python",
   "name": "python",
   "nbconvert_exporter": "python",
   "pygments_lexer": "ipython2",
   "version": "2.7.15"
  }
 },
 "nbformat": 4,
 "nbformat_minor": 2
}
