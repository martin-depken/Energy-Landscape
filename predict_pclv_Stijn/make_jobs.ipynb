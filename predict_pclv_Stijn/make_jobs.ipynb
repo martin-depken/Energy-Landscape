{
 "cells": [
  {
   "cell_type": "code",
   "execution_count": 1,
   "metadata": {},
   "outputs": [
    {
     "name": "stdout",
     "output_type": "stream",
     "text": [
      "done\n",
      "5\n"
     ]
    }
   ],
   "source": [
    "hpc=  '/home/svandersmagt/Energy_Landscape_dCas9/'\n",
    "datafolder= 'C:/Users/stijn/Desktop/MEP/Energy_Landscape_dCas9/fits_Stijn/'\n",
    "today= '1_4_2019/'\n",
    "simID= '1_5'\n",
    "file_name = 'ECas9_cleavage_rate_and_y0_Canonical_OT-r_0-2.csv'\n",
    "model_ID = 'Clv_Saturated_general_energies_v2'\n",
    "model_ID2 = 'general_energies_no_kPR'\n",
    "use_cluster = '1' \n",
    "\n",
    "\n",
    "jobs = open(datafolder + today + 'jobs_' + today.replace('/','_') + simID +'.txt','w')\n",
    "\n",
    "count = 0\n",
    "for sim in range(1,6):\n",
    "    count +=1\n",
    "    sim = str(sim)\n",
    "    monitor_SA = hpc + today + 'monitor_'+ today.replace('/','_') + 'sim_'+sim + '.txt'\n",
    "    fit_results= hpc + today + 'fit_' + today.replace('/','_') + 'sim_'+sim + '.txt'\n",
    "    init_monitor_SA = hpc + today + 'init_monitor_'+ today.replace('/','_') + 'sim_'+sim + '.txt'\n",
    "    jobs.write(file_name + '\\t')\n",
    "    jobs.write(model_ID + '\\t')\n",
    "    jobs.write(model_ID2 + '\\t')\n",
    "    jobs.write(monitor_SA + '\\t')\n",
    "    jobs.write(fit_results + '\\t')\n",
    "    jobs.write(init_monitor_SA + '\\t')\n",
    "    jobs.write(use_cluster + '\\n')\n",
    "jobs.close()\n",
    "print 'done'\n",
    "print count "
   ]
  },
  {
   "cell_type": "code",
   "execution_count": null,
   "metadata": {},
   "outputs": [],
   "source": []
  }
 ],
 "metadata": {
  "kernelspec": {
   "display_name": "Python 2",
   "language": "python",
   "name": "python2"
  },
  "language_info": {
   "codemirror_mode": {
    "name": "ipython",
    "version": 2
   },
   "file_extension": ".py",
   "mimetype": "text/x-python",
   "name": "python",
   "nbconvert_exporter": "python",
   "pygments_lexer": "ipython2",
   "version": "2.7.15"
  }
 },
 "nbformat": 4,
 "nbformat_minor": 2
}
