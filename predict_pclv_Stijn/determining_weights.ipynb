{
 "cells": [
  {
   "cell_type": "code",
   "execution_count": 1,
   "metadata": {},
   "outputs": [],
   "source": [
    "import numpy as np\n",
    "import Nucleaseq_data_processing as ndp"
   ]
  },
  {
   "cell_type": "code",
   "execution_count": 16,
   "metadata": {},
   "outputs": [
    {
     "name": "stdout",
     "output_type": "stream",
     "text": [
      "On-target:\n",
      "Number of cleavage rate datapoints: 2459\n",
      "Number of on-rate datapoints: 1\n",
      "\n",
      "Single MM:\n",
      "Number of cleavage rate datapoints: 1683.0\n",
      "Number of on-rate datapoints: 53.0\n",
      "\n",
      "Double MM:\n",
      "Number of cleavage rate datapoints: 1715.0\n",
      "Number of on-rate datapoints: 810.0\n",
      "\n",
      "Total:\n",
      "Number of cleavage rate datapoints: 5857.0\n",
      "Number of on-rate datapoints: 864.0\n",
      "\n",
      "Weights: perfClv, singleClv, doubleClv, perfOn, singleOn, doubleOn\n",
      "[0.00040666937779585197, 0.0005941770647653001, 0.0005830903790087463, 1.0, 0.018867924528301886, 0.0012345679012345679]\n"
     ]
    }
   ],
   "source": [
    "path1 = '../data_nucleaseq_Finkelsteinlab/targetE/'\n",
    "path2 = '../Data_Boyle/'\n",
    "filename1 = 'WT_cleavage_rate_and_y0_Canonical_OT-r_0-2.csv'\n",
    "rep = '1'\n",
    "xdata,ydata,yerr = ndp.prepare_multiprocessing_combined(rep,filename1,path2,path1)\n",
    "\n",
    "a = 0\n",
    "print 'On-target:'\n",
    "print 'Number of cleavage rate datapoints: ' + str(len(ydata[a][0]))\n",
    "print 'Number of on-rate datapoints: ' + str(len(ydata[a][1]))\n",
    "print ''\n",
    "\n",
    "totalClv = 0.0\n",
    "totalOn = 0.0\n",
    "perfectClv = np.float(len(ydata[0][0]))\n",
    "perfectOn = np.float(len(ydata[0][1]))\n",
    "singleClv = 0.0\n",
    "singleOn = 0.0\n",
    "doubleClv = 0.0\n",
    "doubleOn = 0.0\n",
    "for i in range(len(xdata)):\n",
    "    totalClv += len(ydata[i][0])\n",
    "    totalOn += len(ydata[i][1])\n",
    "    if len(xdata[i])==1:\n",
    "        singleClv += len(ydata[i][0])\n",
    "        singleOn += len(ydata[i][1])\n",
    "    if len(xdata[i])==2:\n",
    "        doubleClv += len(ydata[i][0])\n",
    "        doubleOn += len(ydata[i][1])\n",
    "        \n",
    "print 'Single MM:'\n",
    "print 'Number of cleavage rate datapoints: ' + str(singleClv)\n",
    "print 'Number of on-rate datapoints: ' + str(singleOn)\n",
    "print ''\n",
    "\n",
    "print 'Double MM:'\n",
    "print 'Number of cleavage rate datapoints: ' + str(doubleClv)\n",
    "print 'Number of on-rate datapoints: ' + str(doubleOn)\n",
    "print ''\n",
    "\n",
    "print 'Total:'\n",
    "print 'Number of cleavage rate datapoints: ' + str(totalClv)\n",
    "print 'Number of on-rate datapoints: ' + str(totalOn)\n",
    "print ''\n",
    "\n",
    "weights = [1/perfectClv,1/singleClv,1/doubleClv,1/perfectOn,1/singleOn,1/doubleOn]\n",
    "print 'Weights: perfClv, singleClv, doubleClv, perfOn, singleOn, doubleOn'\n",
    "print weights"
   ]
  }
 ],
 "metadata": {
  "kernelspec": {
   "display_name": "Python 2",
   "language": "python",
   "name": "python2"
  },
  "language_info": {
   "codemirror_mode": {
    "name": "ipython",
    "version": 2
   },
   "file_extension": ".py",
   "mimetype": "text/x-python",
   "name": "python",
   "nbconvert_exporter": "python",
   "pygments_lexer": "ipython2",
   "version": "2.7.15"
  }
 },
 "nbformat": 4,
 "nbformat_minor": 2
}
