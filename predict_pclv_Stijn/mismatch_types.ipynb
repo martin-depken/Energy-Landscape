{
 "cells": [
  {
   "cell_type": "code",
   "execution_count": 3,
   "metadata": {},
   "outputs": [],
   "source": [
    "%matplotlib inline\n",
    "import matplotlib.pylab as plt \n",
    "import numpy as np \n",
    "import pandas as pd\n",
    "import Nucleaseq_data_processing as processing\n",
    "reload(processing);\n",
    "\n",
    "path = '../data_nucleaseq_Finkelsteinlab/targetE/'\n",
    "filename = 'ECas9_cleavage_rate_and_y0_Canonical_OT-r_0-2.csv'"
   ]
  },
  {
   "cell_type": "code",
   "execution_count": 73,
   "metadata": {},
   "outputs": [
    {
     "name": "stdout",
     "output_type": "stream",
     "text": [
      "TTTA - GACGCA  T  AAAGATGAGACGC - TGG\n",
      "0123 - 456789 10 11.. etc\n"
     ]
    },
    {
     "data": {
      "text/html": [
       "<div>\n",
       "<style scoped>\n",
       "    .dataframe tbody tr th:only-of-type {\n",
       "        vertical-align: middle;\n",
       "    }\n",
       "\n",
       "    .dataframe tbody tr th {\n",
       "        vertical-align: top;\n",
       "    }\n",
       "\n",
       "    .dataframe thead th {\n",
       "        text-align: right;\n",
       "    }\n",
       "</style>\n",
       "<table border=\"1\" class=\"dataframe\">\n",
       "  <thead>\n",
       "    <tr style=\"text-align: right;\">\n",
       "      <th></th>\n",
       "      <th>Sequence</th>\n",
       "      <th>cleavage_rate</th>\n",
       "      <th>cleavage_rate_5th_pctl</th>\n",
       "      <th>cleavage_rate_95th_pctl</th>\n",
       "      <th>On_Target</th>\n",
       "      <th>PAM</th>\n",
       "      <th>Canonical</th>\n",
       "      <th>Length_difference</th>\n",
       "      <th>Alignment</th>\n",
       "      <th>Alignment_(All)</th>\n",
       "      <th>Mutation_ID</th>\n",
       "      <th>Mutation_Type</th>\n",
       "      <th>Mutation_Count</th>\n",
       "      <th>Mutation_Positions</th>\n",
       "    </tr>\n",
       "  </thead>\n",
       "  <tbody>\n",
       "    <tr>\n",
       "      <th>0</th>\n",
       "      <td>GTTAGACGCAAAAAGATGAGACGCTGG</td>\n",
       "      <td>0.006562</td>\n",
       "      <td>0.005024</td>\n",
       "      <td>0.008606</td>\n",
       "      <td>False</td>\n",
       "      <td>TGG</td>\n",
       "      <td>True</td>\n",
       "      <td>0</td>\n",
       "      <td>CGCAGAGTAGAAATACGCAG\\r\\n|||||||||||||.||||||\\r...</td>\n",
       "      <td>CGCAGAGTAGAAATA-CGCAG\\r\\n||||||||||||| | |||||...</td>\n",
       "      <td>r:14:A</td>\n",
       "      <td>r</td>\n",
       "      <td>1.0</td>\n",
       "      <td>14</td>\n",
       "    </tr>\n",
       "    <tr>\n",
       "      <th>42</th>\n",
       "      <td>TTTAGACGCAAAAAGATGAGACGCTGG</td>\n",
       "      <td>0.006392</td>\n",
       "      <td>0.002787</td>\n",
       "      <td>0.007199</td>\n",
       "      <td>False</td>\n",
       "      <td>TGG</td>\n",
       "      <td>True</td>\n",
       "      <td>0</td>\n",
       "      <td>CGCAGAGTAGAAATACGCAG\\r\\n|||||||||||||.||||||\\r...</td>\n",
       "      <td>CGCAGAGTAGAAATA-CGCAG\\r\\n||||||||||||| | |||||...</td>\n",
       "      <td>r:14:A</td>\n",
       "      <td>r</td>\n",
       "      <td>1.0</td>\n",
       "      <td>14</td>\n",
       "    </tr>\n",
       "    <tr>\n",
       "      <th>63</th>\n",
       "      <td>TTTTGACGCAAAAAGATGAGACGCTGG</td>\n",
       "      <td>0.005836</td>\n",
       "      <td>0.004038</td>\n",
       "      <td>0.008633</td>\n",
       "      <td>False</td>\n",
       "      <td>TGG</td>\n",
       "      <td>True</td>\n",
       "      <td>0</td>\n",
       "      <td>CGCAGAGTAGAAATACGCAG\\r\\n|||||||||||||.||||||\\r...</td>\n",
       "      <td>CGCAGAGTAGAAATA-CGCAG\\r\\n||||||||||||| | |||||...</td>\n",
       "      <td>r:14:A</td>\n",
       "      <td>r</td>\n",
       "      <td>1.0</td>\n",
       "      <td>14</td>\n",
       "    </tr>\n",
       "    <tr>\n",
       "      <th>172</th>\n",
       "      <td>TTCAGACGCAGAAAGATGAGACGCTGG</td>\n",
       "      <td>0.000343</td>\n",
       "      <td>0.000207</td>\n",
       "      <td>0.000388</td>\n",
       "      <td>False</td>\n",
       "      <td>TGG</td>\n",
       "      <td>True</td>\n",
       "      <td>0</td>\n",
       "      <td>CGCAGAGTAGAAATACGCAG\\r\\n|||||||||||||.||||||\\r...</td>\n",
       "      <td>CGCAGAGTAGAAAT-ACGCAG\\r\\n|||||||||||||  ||||||...</td>\n",
       "      <td>r:14:G</td>\n",
       "      <td>r</td>\n",
       "      <td>1.0</td>\n",
       "      <td>14</td>\n",
       "    </tr>\n",
       "    <tr>\n",
       "      <th>182</th>\n",
       "      <td>TTTAGACGCAGAAAGATGAGACGCTGG</td>\n",
       "      <td>0.000126</td>\n",
       "      <td>0.000086</td>\n",
       "      <td>0.000204</td>\n",
       "      <td>False</td>\n",
       "      <td>TGG</td>\n",
       "      <td>True</td>\n",
       "      <td>0</td>\n",
       "      <td>CGCAGAGTAGAAATACGCAG\\r\\n|||||||||||||.||||||\\r...</td>\n",
       "      <td>CGCAGAGTAGAAAT-ACGCAG\\r\\n|||||||||||||  ||||||...</td>\n",
       "      <td>r:14:G</td>\n",
       "      <td>r</td>\n",
       "      <td>1.0</td>\n",
       "      <td>14</td>\n",
       "    </tr>\n",
       "  </tbody>\n",
       "</table>\n",
       "</div>"
      ],
      "text/plain": [
       "                        Sequence  cleavage_rate  cleavage_rate_5th_pctl  \\\n",
       "0    GTTAGACGCAAAAAGATGAGACGCTGG       0.006562                0.005024   \n",
       "42   TTTAGACGCAAAAAGATGAGACGCTGG       0.006392                0.002787   \n",
       "63   TTTTGACGCAAAAAGATGAGACGCTGG       0.005836                0.004038   \n",
       "172  TTCAGACGCAGAAAGATGAGACGCTGG       0.000343                0.000207   \n",
       "182  TTTAGACGCAGAAAGATGAGACGCTGG       0.000126                0.000086   \n",
       "\n",
       "     cleavage_rate_95th_pctl  On_Target  PAM  Canonical  Length_difference  \\\n",
       "0                   0.008606      False  TGG       True                  0   \n",
       "42                  0.007199      False  TGG       True                  0   \n",
       "63                  0.008633      False  TGG       True                  0   \n",
       "172                 0.000388      False  TGG       True                  0   \n",
       "182                 0.000204      False  TGG       True                  0   \n",
       "\n",
       "                                             Alignment  \\\n",
       "0    CGCAGAGTAGAAATACGCAG\\r\\n|||||||||||||.||||||\\r...   \n",
       "42   CGCAGAGTAGAAATACGCAG\\r\\n|||||||||||||.||||||\\r...   \n",
       "63   CGCAGAGTAGAAATACGCAG\\r\\n|||||||||||||.||||||\\r...   \n",
       "172  CGCAGAGTAGAAATACGCAG\\r\\n|||||||||||||.||||||\\r...   \n",
       "182  CGCAGAGTAGAAATACGCAG\\r\\n|||||||||||||.||||||\\r...   \n",
       "\n",
       "                                       Alignment_(All) Mutation_ID  \\\n",
       "0    CGCAGAGTAGAAATA-CGCAG\\r\\n||||||||||||| | |||||...      r:14:A   \n",
       "42   CGCAGAGTAGAAATA-CGCAG\\r\\n||||||||||||| | |||||...      r:14:A   \n",
       "63   CGCAGAGTAGAAATA-CGCAG\\r\\n||||||||||||| | |||||...      r:14:A   \n",
       "172  CGCAGAGTAGAAAT-ACGCAG\\r\\n|||||||||||||  ||||||...      r:14:G   \n",
       "182  CGCAGAGTAGAAAT-ACGCAG\\r\\n|||||||||||||  ||||||...      r:14:G   \n",
       "\n",
       "    Mutation_Type  Mutation_Count Mutation_Positions  \n",
       "0               r             1.0                 14  \n",
       "42              r             1.0                 14  \n",
       "63              r             1.0                 14  \n",
       "172             r             1.0                 14  \n",
       "182             r             1.0                 14  "
      ]
     },
     "execution_count": 73,
     "metadata": {},
     "output_type": "execute_result"
    }
   ],
   "source": [
    "position = '14'\n",
    "\n",
    "data = pd.read_csv(path+filename)\n",
    "target = 'TTTA - GACGCA  T  AAAGATGAGACGC - TGG'\n",
    "print target\n",
    "print '0123 - 456789 10 11.. etc'\n",
    "data.columns = [c.replace(' ', '_') for c in data.columns]\n",
    "mismatch = data[data.Mutation_Positions == position]\n",
    "\n",
    "sequences = np.array(mismatch.Sequence)\n",
    "rates = np.array(mismatch.cleavage_rate)\n",
    "mismatch.head()"
   ]
  },
  {
   "cell_type": "code",
   "execution_count": 74,
   "metadata": {},
   "outputs": [
    {
     "name": "stdout",
     "output_type": "stream",
     "text": [
      "A: 0.006281284557643214, length: 28\n",
      "G: 0.0002087810969280571, length: 28\n",
      "C: 0.011084889499411785, length: 28\n"
     ]
    }
   ],
   "source": [
    "A = list()\n",
    "G = list()\n",
    "C = list()\n",
    "T = list()\n",
    "\n",
    "for i in range(len(rates)):\n",
    "    if sequences[i][10] == 'T':\n",
    "        T.append(rates[i])\n",
    "    elif sequences[i][10] == 'A':\n",
    "        A.append(rates[i])\n",
    "    elif sequences[i][10] == 'G':\n",
    "        G.append(rates[i])\n",
    "    elif sequences[i][10] == 'C':\n",
    "        C.append(rates[i])\n",
    "    else:\n",
    "        print 'dubbelhuh'\n",
    "        \n",
    "if len(T)!=0:        \n",
    "    print 'T: ' + str(np.mean(T)) + ', length: ' + str(len(T))       \n",
    "if len(A)!=0:\n",
    "    print 'A: ' + str(np.mean(A)) + ', length: ' + str(len(A))  \n",
    "if len(G)!=0:\n",
    "    print 'G: ' + str(np.mean(G)) + ', length: ' + str(len(G))  \n",
    "if len(C)!=0:\n",
    "    print 'C: ' + str(np.mean(C)) + ', length: ' + str(len(C))  "
   ]
  },
  {
   "cell_type": "code",
   "execution_count": 75,
   "metadata": {},
   "outputs": [
    {
     "data": {
      "text/plain": [
       "Text(0,0.5,'Cleavage rate')"
      ]
     },
     "execution_count": 75,
     "metadata": {},
     "output_type": "execute_result"
    },
    {
     "data": {
      "image/png": "[encoded data removed]",
      "text/plain": [
       "<Figure size 432x288 with 1 Axes>"
      ]
     },
     "metadata": {
      "needs_background": "light"
     },
     "output_type": "display_data"
    }
   ],
   "source": [
    "plt.semilogy(np.ones(len(A)),A,color='blue',marker='o')\n",
    "plt.semilogy(np.ones(len(C))*2,C,color='red',marker='o')\n",
    "plt.semilogy(np.ones(len(G))*3,G,color='green',marker='o')\n",
    "plt.semilogy(np.ones(len(T))*4,T,color='pink',marker='o')\n",
    "plt.legend(['mismatch A','mismatch C', 'mismatch G', 'mismatch T'])\n",
    "plt.title('Single mismatch at position ' + position)\n",
    "plt.xlabel('Different mismatch types')\n",
    "plt.ylabel('Cleavage rate')"
   ]
  }
 ],
 "metadata": {
  "kernelspec": {
   "display_name": "Python 2",
   "language": "python",
   "name": "python2"
  },
  "language_info": {
   "codemirror_mode": {
    "name": "ipython",
    "version": 2
   },
   "file_extension": ".py",
   "mimetype": "text/x-python",
   "name": "python",
   "nbconvert_exporter": "python",
   "pygments_lexer": "ipython2",
   "version": "2.7.15"
  }
 },
 "nbformat": 4,
 "nbformat_minor": 2
}
